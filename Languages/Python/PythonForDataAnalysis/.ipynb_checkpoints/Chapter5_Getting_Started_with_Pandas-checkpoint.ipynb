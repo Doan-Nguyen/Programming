{
 "cells": [
  {
   "cell_type": "markdown",
   "id": "eca679f5",
   "metadata": {},
   "source": [
    "# Table of Contents"
   ]
  },
  {
   "cell_type": "markdown",
   "id": "daf16d8d",
   "metadata": {},
   "source": []
  },
  {
   "cell_type": "code",
   "execution_count": 1,
   "id": "9e848ae4",
   "metadata": {},
   "outputs": [],
   "source": [
    "import pandas as pd\n",
    "import numpy as np"
   ]
  },
  {
   "cell_type": "markdown",
   "id": "921b9422",
   "metadata": {},
   "source": [
    "# 5.1 Intro to pandas Data Structures\n",
    "\n",
    "+ Pandas có 2 kiểu dữ liệu:\n",
    "    - Series ~ giống một list của các datapoints\n",
    "    - DataFrame ~ "
   ]
  },
  {
   "cell_type": "markdown",
   "id": "a9f95b8c",
   "metadata": {},
   "source": [
    "## Series\n",
    "+ Kiểu dữ liệu 1-d (giống như array):\n",
    "    - Gồm 1 chuỗi các giá trị\n",
    "    - Mỗi giá trị lại có 1 index tương ứng (data labels) *index*\n",
    "    - Index có thể tự khởi tạo, nếu k sẽ được đánh tự động bắt đầu từ 0 ->"
   ]
  },
  {
   "cell_type": "code",
   "execution_count": 2,
   "id": "510e29a1",
   "metadata": {},
   "outputs": [
    {
     "data": {
      "text/plain": [
       "0    1\n",
       "1    2\n",
       "2    3\n",
       "3    4\n",
       "dtype: int64"
      ]
     },
     "execution_count": 2,
     "metadata": {},
     "output_type": "execute_result"
    }
   ],
   "source": [
    "#   Kiểu series đơn giản nhất\n",
    "obj = pd.Series([1, 2, 3, 4])\n",
    "obj"
   ]
  },
  {
   "cell_type": "code",
   "execution_count": 3,
   "id": "6403fa4e",
   "metadata": {},
   "outputs": [
    {
     "data": {
      "text/plain": [
       "array([1, 2, 3, 4], dtype=int64)"
      ]
     },
     "execution_count": 3,
     "metadata": {},
     "output_type": "execute_result"
    }
   ],
   "source": [
    "#   Cac gia tri cua Series\n",
    "obj.values"
   ]
  },
  {
   "cell_type": "code",
   "execution_count": 4,
   "id": "f976b3b3",
   "metadata": {},
   "outputs": [
    {
     "data": {
      "text/plain": [
       "RangeIndex(start=0, stop=4, step=1)"
      ]
     },
     "execution_count": 4,
     "metadata": {},
     "output_type": "execute_result"
    }
   ],
   "source": [
    "#   Show index cua Series\n",
    "obj.index"
   ]
  },
  {
   "cell_type": "markdown",
   "id": "cdf31114",
   "metadata": {},
   "source": [
    "#### Cách tạo 1 series với giá trị & index tương ứng"
   ]
  },
  {
   "cell_type": "code",
   "execution_count": 5,
   "id": "fb120295",
   "metadata": {},
   "outputs": [
    {
     "data": {
      "text/plain": [
       "a    2\n",
       "b    3\n",
       "c    4\n",
       "1    5\n",
       "dtype: int64"
      ]
     },
     "execution_count": 5,
     "metadata": {},
     "output_type": "execute_result"
    }
   ],
   "source": [
    "obj1 = pd.Series([2, 3, 4, 5],\n",
    "                 index=['a', 'b', 'c', 1])\n",
    "obj1"
   ]
  },
  {
   "cell_type": "code",
   "execution_count": 6,
   "id": "2b9c89bb",
   "metadata": {},
   "outputs": [
    {
     "data": {
      "text/plain": [
       "Index(['a', 'b', 'c', 1], dtype='object')"
      ]
     },
     "execution_count": 6,
     "metadata": {},
     "output_type": "execute_result"
    }
   ],
   "source": [
    "#   Show index\n",
    "obj1.index"
   ]
  },
  {
   "cell_type": "markdown",
   "id": "9ad64597",
   "metadata": {},
   "source": [
    "#### So với numpy, series co the su dung index de truy cap den gia tri\n"
   ]
  },
  {
   "cell_type": "code",
   "execution_count": 7,
   "id": "4d155c58",
   "metadata": {},
   "outputs": [
    {
     "data": {
      "text/plain": [
       "2"
      ]
     },
     "execution_count": 7,
     "metadata": {},
     "output_type": "execute_result"
    }
   ],
   "source": [
    "obj1['a']"
   ]
  },
  {
   "cell_type": "code",
   "execution_count": 8,
   "id": "81938707",
   "metadata": {},
   "outputs": [
    {
     "data": {
      "text/plain": [
       "1    5\n",
       "a    2\n",
       "dtype: int64"
      ]
     },
     "execution_count": 8,
     "metadata": {},
     "output_type": "execute_result"
    }
   ],
   "source": [
    "obj1[[1, 'a']]"
   ]
  },
  {
   "cell_type": "markdown",
   "id": "1985af9a",
   "metadata": {},
   "source": [
    "#### Có thể sử dụng các hàm hoặc phép toán tương tự như numpy:\n",
    "    - Output sẽ là cặp index-value"
   ]
  },
  {
   "cell_type": "code",
   "execution_count": 9,
   "id": "8d732ddb",
   "metadata": {},
   "outputs": [
    {
     "data": {
      "text/plain": [
       "a    2\n",
       "b    3\n",
       "c    4\n",
       "1    5\n",
       "dtype: int64"
      ]
     },
     "execution_count": 9,
     "metadata": {},
     "output_type": "execute_result"
    }
   ],
   "source": [
    "obj1[obj1 != 0]"
   ]
  },
  {
   "cell_type": "code",
   "execution_count": 10,
   "id": "cf8cc640",
   "metadata": {},
   "outputs": [
    {
     "data": {
      "text/plain": [
       "a     4\n",
       "b     6\n",
       "c     8\n",
       "1    10\n",
       "dtype: int64"
      ]
     },
     "execution_count": 10,
     "metadata": {},
     "output_type": "execute_result"
    }
   ],
   "source": [
    "obj1*2"
   ]
  },
  {
   "cell_type": "code",
   "execution_count": 11,
   "id": "c9573550",
   "metadata": {},
   "outputs": [
    {
     "data": {
      "text/plain": [
       "a      7.389056\n",
       "b     20.085537\n",
       "c     54.598150\n",
       "1    148.413159\n",
       "dtype: float64"
      ]
     },
     "execution_count": 11,
     "metadata": {},
     "output_type": "execute_result"
    }
   ],
   "source": [
    "np.exp(obj1)"
   ]
  },
  {
   "cell_type": "code",
   "execution_count": 12,
   "id": "7946cd89",
   "metadata": {},
   "outputs": [
    {
     "data": {
      "text/plain": [
       "False"
      ]
     },
     "execution_count": 12,
     "metadata": {},
     "output_type": "execute_result"
    }
   ],
   "source": [
    "20 in obj1"
   ]
  },
  {
   "cell_type": "markdown",
   "id": "1c0c85fa",
   "metadata": {},
   "source": [
    "#### Tạo series từ dictionary"
   ]
  },
  {
   "cell_type": "code",
   "execution_count": 13,
   "id": "cb92b85e",
   "metadata": {},
   "outputs": [],
   "source": [
    "dict1 = {\"HaNoi\": \"Rainning\", \"Dallas\": \"Sunny\", \"Alatic\": None}"
   ]
  },
  {
   "cell_type": "code",
   "execution_count": 14,
   "id": "2cbb4704",
   "metadata": {},
   "outputs": [
    {
     "data": {
      "text/plain": [
       "HaNoi     Rainning\n",
       "Dallas       Sunny\n",
       "Alatic        None\n",
       "dtype: object"
      ]
     },
     "execution_count": 14,
     "metadata": {},
     "output_type": "execute_result"
    }
   ],
   "source": [
    "obj2 = pd.Series(dict1)\n",
    "obj2"
   ]
  },
  {
   "cell_type": "markdown",
   "id": "63e02220",
   "metadata": {},
   "source": [
    "#### Notes:\n",
    "+ Khi chỉ đưa vào dict, các index (~ keys) sẽ được sắp xếp theo thứ tự trong dict.\n",
    "+ Nếu bạn cố ý gán các lại các giá trị index, các index đã có sẽ được giữ kèm value. Với các index mới, giá trị tương ứng sẽ bị gán NaN"
   ]
  },
  {
   "cell_type": "code",
   "execution_count": 17,
   "id": "b663938a",
   "metadata": {},
   "outputs": [
    {
     "data": {
      "text/plain": [
       "HaNoi     Rainning\n",
       "SaiGon         NaN\n",
       "dtype: object"
      ]
     },
     "execution_count": 17,
     "metadata": {},
     "output_type": "execute_result"
    }
   ],
   "source": [
    "new_idx = [\"HaNoi\", \"SaiGon\"]\n",
    "obj3 = pd.Series(dict1, index=new_idx)\n",
    "#\n",
    "obj3"
   ]
  },
  {
   "cell_type": "markdown",
   "id": "950b619e",
   "metadata": {},
   "source": [
    "#### Check null/not null "
   ]
  },
  {
   "cell_type": "code",
   "execution_count": 18,
   "id": "df8008b3",
   "metadata": {},
   "outputs": [
    {
     "data": {
      "text/plain": [
       "HaNoi     False\n",
       "SaiGon     True\n",
       "dtype: bool"
      ]
     },
     "execution_count": 18,
     "metadata": {},
     "output_type": "execute_result"
    }
   ],
   "source": [
    "pd.isnull(obj3)"
   ]
  },
  {
   "cell_type": "code",
   "execution_count": 19,
   "id": "539e2d41",
   "metadata": {},
   "outputs": [
    {
     "data": {
      "text/plain": [
       "HaNoi      True\n",
       "SaiGon    False\n",
       "dtype: bool"
      ]
     },
     "execution_count": 19,
     "metadata": {},
     "output_type": "execute_result"
    }
   ],
   "source": [
    "pd.notnull(obj3)"
   ]
  },
  {
   "cell_type": "markdown",
   "id": "f2752817",
   "metadata": {},
   "source": [
    "#### Series tự động thực hiện các phép toán cùng labels\n",
    "\n",
    "+ Đối với các label không chung, giá trị sẽ được gán NaN"
   ]
  },
  {
   "cell_type": "code",
   "execution_count": 20,
   "id": "af29d0e6",
   "metadata": {},
   "outputs": [
    {
     "data": {
      "text/plain": [
       "A    1\n",
       "B    2\n",
       "C    3\n",
       "D    4\n",
       "E    5\n",
       "dtype: int64"
      ]
     },
     "execution_count": 20,
     "metadata": {},
     "output_type": "execute_result"
    }
   ],
   "source": [
    "obj4 = pd.Series([1, 2, 3, 4, 5],\n",
    "                 index=[\"A\", \"B\", \"C\", \"D\", \"E\"])\n",
    "#\n",
    "obj4"
   ]
  },
  {
   "cell_type": "code",
   "execution_count": 21,
   "id": "dd38bc27",
   "metadata": {},
   "outputs": [],
   "source": [
    "obj5 = pd.Series([2, 3, 4, 5],\n",
    "                 index=[\"B\", \"C\", \"D\", \"E\"])"
   ]
  },
  {
   "cell_type": "code",
   "execution_count": 22,
   "id": "43acedb0",
   "metadata": {},
   "outputs": [
    {
     "data": {
      "text/plain": [
       "A     NaN\n",
       "B     4.0\n",
       "C     6.0\n",
       "D     8.0\n",
       "E    10.0\n",
       "dtype: float64"
      ]
     },
     "execution_count": 22,
     "metadata": {},
     "output_type": "execute_result"
    }
   ],
   "source": [
    "obj4 + obj5"
   ]
  },
  {
   "cell_type": "markdown",
   "id": "12fd400a",
   "metadata": {},
   "source": [
    "#### Cả Series & index của nó đều có thể đặt tên:"
   ]
  },
  {
   "cell_type": "code",
   "execution_count": 23,
   "id": "99e950d2",
   "metadata": {},
   "outputs": [
    {
     "data": {
      "text/plain": [
       "a    1\n",
       "b    2\n",
       "c    3\n",
       "dtype: int64"
      ]
     },
     "execution_count": 23,
     "metadata": {},
     "output_type": "execute_result"
    }
   ],
   "source": [
    "obj6 = pd.Series([1, 2, 3],\n",
    "                 index=['a', 'b', 'c'])\n",
    "obj6"
   ]
  },
  {
   "cell_type": "code",
   "execution_count": 24,
   "id": "5555a100",
   "metadata": {},
   "outputs": [
    {
     "data": {
      "text/plain": [
       "Index\n",
       "a    1\n",
       "b    2\n",
       "c    3\n",
       "Name: Object 6, dtype: int64"
      ]
     },
     "execution_count": 24,
     "metadata": {},
     "output_type": "execute_result"
    }
   ],
   "source": [
    "obj6.name = \"Object 6\"\n",
    "obj6.index.name = \"Index\"\n",
    "#\n",
    "obj6"
   ]
  },
  {
   "cell_type": "markdown",
   "id": "25c69d68",
   "metadata": {},
   "source": [
    "## DataFrame"
   ]
  },
  {
   "cell_type": "markdown",
   "id": "4e50aa64",
   "metadata": {},
   "source": [
    "+ DF có thể coi như 1 bảng dữ liệu. Nó bao gồm nhiểu cột thông tin, được sắp xếp theo 1 thứ tự. Mỗi cột chứa nhiều kiểu dữ liệu khác nhau.\n",
    "+ DF có cả chỉ số hàng & chỉ số cột. Từ đó, ta có thể truy cập đến địa chỉ cụ thể."
   ]
  },
  {
   "cell_type": "markdown",
   "id": "22f3785f",
   "metadata": {},
   "source": [
    "+ Có nhiều cách để định nghĩa một DataFrame. Trong đó, cách thông dụng nhất là sử dụng 1 dict:\n",
    "    - Các keys ~ columns\n",
    "    - list values ~ rows\n",
    "\n",
    "+ Các chỉ số index cũng được tạo tự động như Series"
   ]
  },
  {
   "cell_type": "code",
   "execution_count": 25,
   "id": "9277951c",
   "metadata": {},
   "outputs": [
    {
     "data": {
      "text/html": [
       "<div>\n",
       "<style scoped>\n",
       "    .dataframe tbody tr th:only-of-type {\n",
       "        vertical-align: middle;\n",
       "    }\n",
       "\n",
       "    .dataframe tbody tr th {\n",
       "        vertical-align: top;\n",
       "    }\n",
       "\n",
       "    .dataframe thead th {\n",
       "        text-align: right;\n",
       "    }\n",
       "</style>\n",
       "<table border=\"1\" class=\"dataframe\">\n",
       "  <thead>\n",
       "    <tr style=\"text-align: right;\">\n",
       "      <th></th>\n",
       "      <th>Car</th>\n",
       "      <th>Cost</th>\n",
       "    </tr>\n",
       "  </thead>\n",
       "  <tbody>\n",
       "    <tr>\n",
       "      <th>0</th>\n",
       "      <td>Vinfast</td>\n",
       "      <td>1.2</td>\n",
       "    </tr>\n",
       "    <tr>\n",
       "      <th>1</th>\n",
       "      <td>BMW</td>\n",
       "      <td>2.0</td>\n",
       "    </tr>\n",
       "    <tr>\n",
       "      <th>2</th>\n",
       "      <td>Honda</td>\n",
       "      <td>1.5</td>\n",
       "    </tr>\n",
       "    <tr>\n",
       "      <th>3</th>\n",
       "      <td>Toyota</td>\n",
       "      <td>1.3</td>\n",
       "    </tr>\n",
       "    <tr>\n",
       "      <th>4</th>\n",
       "      <td>Ford</td>\n",
       "      <td>1.6</td>\n",
       "    </tr>\n",
       "    <tr>\n",
       "      <th>5</th>\n",
       "      <td>Mazda</td>\n",
       "      <td>1.8</td>\n",
       "    </tr>\n",
       "  </tbody>\n",
       "</table>\n",
       "</div>"
      ],
      "text/plain": [
       "       Car  Cost\n",
       "0  Vinfast   1.2\n",
       "1      BMW   2.0\n",
       "2    Honda   1.5\n",
       "3   Toyota   1.3\n",
       "4     Ford   1.6\n",
       "5    Mazda   1.8"
      ]
     },
     "execution_count": 25,
     "metadata": {},
     "output_type": "execute_result"
    }
   ],
   "source": [
    "data = {\"Car\": [\"Vinfast\", \"BMW\", \"Honda\", \"Toyota\", \"Ford\", \"Mazda\"],\n",
    "        \"Cost\": [1.2, 2.0, 1.5, 1.3, 1.6, 1.8]}\n",
    "df = pd.DataFrame(data)\n",
    "#\n",
    "df"
   ]
  },
  {
   "cell_type": "code",
   "execution_count": 26,
   "id": "7cb55b1e",
   "metadata": {},
   "outputs": [
    {
     "data": {
      "text/html": [
       "<div>\n",
       "<style scoped>\n",
       "    .dataframe tbody tr th:only-of-type {\n",
       "        vertical-align: middle;\n",
       "    }\n",
       "\n",
       "    .dataframe tbody tr th {\n",
       "        vertical-align: top;\n",
       "    }\n",
       "\n",
       "    .dataframe thead th {\n",
       "        text-align: right;\n",
       "    }\n",
       "</style>\n",
       "<table border=\"1\" class=\"dataframe\">\n",
       "  <thead>\n",
       "    <tr style=\"text-align: right;\">\n",
       "      <th></th>\n",
       "      <th>Car</th>\n",
       "      <th>Cost</th>\n",
       "    </tr>\n",
       "  </thead>\n",
       "  <tbody>\n",
       "    <tr>\n",
       "      <th>0</th>\n",
       "      <td>Vinfast</td>\n",
       "      <td>1.2</td>\n",
       "    </tr>\n",
       "    <tr>\n",
       "      <th>1</th>\n",
       "      <td>BMW</td>\n",
       "      <td>2.0</td>\n",
       "    </tr>\n",
       "    <tr>\n",
       "      <th>2</th>\n",
       "      <td>Honda</td>\n",
       "      <td>1.5</td>\n",
       "    </tr>\n",
       "    <tr>\n",
       "      <th>3</th>\n",
       "      <td>Toyota</td>\n",
       "      <td>1.3</td>\n",
       "    </tr>\n",
       "    <tr>\n",
       "      <th>4</th>\n",
       "      <td>Ford</td>\n",
       "      <td>1.6</td>\n",
       "    </tr>\n",
       "  </tbody>\n",
       "</table>\n",
       "</div>"
      ],
      "text/plain": [
       "       Car  Cost\n",
       "0  Vinfast   1.2\n",
       "1      BMW   2.0\n",
       "2    Honda   1.5\n",
       "3   Toyota   1.3\n",
       "4     Ford   1.6"
      ]
     },
     "execution_count": 26,
     "metadata": {},
     "output_type": "execute_result"
    }
   ],
   "source": [
    "#    Show 5 dòng đầu tiên\n",
    "df.head()"
   ]
  },
  {
   "cell_type": "markdown",
   "id": "2b3efccb",
   "metadata": {},
   "source": [
    "#### Bạn có thể sắp xếp lại thứ tự các cột bằng tên"
   ]
  },
  {
   "cell_type": "code",
   "execution_count": 27,
   "id": "d5d74c3e",
   "metadata": {},
   "outputs": [
    {
     "data": {
      "text/html": [
       "<div>\n",
       "<style scoped>\n",
       "    .dataframe tbody tr th:only-of-type {\n",
       "        vertical-align: middle;\n",
       "    }\n",
       "\n",
       "    .dataframe tbody tr th {\n",
       "        vertical-align: top;\n",
       "    }\n",
       "\n",
       "    .dataframe thead th {\n",
       "        text-align: right;\n",
       "    }\n",
       "</style>\n",
       "<table border=\"1\" class=\"dataframe\">\n",
       "  <thead>\n",
       "    <tr style=\"text-align: right;\">\n",
       "      <th></th>\n",
       "      <th>Cost</th>\n",
       "      <th>Car</th>\n",
       "    </tr>\n",
       "  </thead>\n",
       "  <tbody>\n",
       "    <tr>\n",
       "      <th>0</th>\n",
       "      <td>1.2</td>\n",
       "      <td>Vinfast</td>\n",
       "    </tr>\n",
       "    <tr>\n",
       "      <th>1</th>\n",
       "      <td>2.0</td>\n",
       "      <td>BMW</td>\n",
       "    </tr>\n",
       "    <tr>\n",
       "      <th>2</th>\n",
       "      <td>1.5</td>\n",
       "      <td>Honda</td>\n",
       "    </tr>\n",
       "    <tr>\n",
       "      <th>3</th>\n",
       "      <td>1.3</td>\n",
       "      <td>Toyota</td>\n",
       "    </tr>\n",
       "    <tr>\n",
       "      <th>4</th>\n",
       "      <td>1.6</td>\n",
       "      <td>Ford</td>\n",
       "    </tr>\n",
       "    <tr>\n",
       "      <th>5</th>\n",
       "      <td>1.8</td>\n",
       "      <td>Mazda</td>\n",
       "    </tr>\n",
       "  </tbody>\n",
       "</table>\n",
       "</div>"
      ],
      "text/plain": [
       "   Cost      Car\n",
       "0   1.2  Vinfast\n",
       "1   2.0      BMW\n",
       "2   1.5    Honda\n",
       "3   1.3   Toyota\n",
       "4   1.6     Ford\n",
       "5   1.8    Mazda"
      ]
     },
     "execution_count": 27,
     "metadata": {},
     "output_type": "execute_result"
    }
   ],
   "source": [
    "pd.DataFrame(df, columns=['Cost', 'Car'])"
   ]
  },
  {
   "cell_type": "markdown",
   "id": "73128a9e",
   "metadata": {},
   "source": [
    "#### Nếu truyền vào 1 column không tồn tại trong dict thì cột tương ứng với columns name đó sẽ chứa các giá trị NaN"
   ]
  },
  {
   "cell_type": "code",
   "execution_count": 28,
   "id": "364a1dc8",
   "metadata": {},
   "outputs": [],
   "source": [
    "data = {\n",
    "    'state': ['Ohio', 'Ohio', 'Ohio', 'Nevada', 'Nevada', 'Nevada'],\n",
    "    'year': [2000, 2001, 2002, 2001, 2002, 2003],\n",
    "    'pop': [1.5, 1.7, 3.6, 2.4, 2.9, 3.2]\n",
    "}"
   ]
  },
  {
   "cell_type": "code",
   "execution_count": 29,
   "id": "6febc3a0",
   "metadata": {},
   "outputs": [
    {
     "data": {
      "text/html": [
       "<div>\n",
       "<style scoped>\n",
       "    .dataframe tbody tr th:only-of-type {\n",
       "        vertical-align: middle;\n",
       "    }\n",
       "\n",
       "    .dataframe tbody tr th {\n",
       "        vertical-align: top;\n",
       "    }\n",
       "\n",
       "    .dataframe thead th {\n",
       "        text-align: right;\n",
       "    }\n",
       "</style>\n",
       "<table border=\"1\" class=\"dataframe\">\n",
       "  <thead>\n",
       "    <tr style=\"text-align: right;\">\n",
       "      <th></th>\n",
       "      <th>year</th>\n",
       "      <th>pop</th>\n",
       "      <th>state</th>\n",
       "      <th>cost</th>\n",
       "    </tr>\n",
       "  </thead>\n",
       "  <tbody>\n",
       "    <tr>\n",
       "      <th>0</th>\n",
       "      <td>2000</td>\n",
       "      <td>1.5</td>\n",
       "      <td>Ohio</td>\n",
       "      <td>NaN</td>\n",
       "    </tr>\n",
       "    <tr>\n",
       "      <th>1</th>\n",
       "      <td>2001</td>\n",
       "      <td>1.7</td>\n",
       "      <td>Ohio</td>\n",
       "      <td>NaN</td>\n",
       "    </tr>\n",
       "    <tr>\n",
       "      <th>2</th>\n",
       "      <td>2002</td>\n",
       "      <td>3.6</td>\n",
       "      <td>Ohio</td>\n",
       "      <td>NaN</td>\n",
       "    </tr>\n",
       "    <tr>\n",
       "      <th>3</th>\n",
       "      <td>2001</td>\n",
       "      <td>2.4</td>\n",
       "      <td>Nevada</td>\n",
       "      <td>NaN</td>\n",
       "    </tr>\n",
       "    <tr>\n",
       "      <th>4</th>\n",
       "      <td>2002</td>\n",
       "      <td>2.9</td>\n",
       "      <td>Nevada</td>\n",
       "      <td>NaN</td>\n",
       "    </tr>\n",
       "    <tr>\n",
       "      <th>5</th>\n",
       "      <td>2003</td>\n",
       "      <td>3.2</td>\n",
       "      <td>Nevada</td>\n",
       "      <td>NaN</td>\n",
       "    </tr>\n",
       "  </tbody>\n",
       "</table>\n",
       "</div>"
      ],
      "text/plain": [
       "   year  pop   state cost\n",
       "0  2000  1.5    Ohio  NaN\n",
       "1  2001  1.7    Ohio  NaN\n",
       "2  2002  3.6    Ohio  NaN\n",
       "3  2001  2.4  Nevada  NaN\n",
       "4  2002  2.9  Nevada  NaN\n",
       "5  2003  3.2  Nevada  NaN"
      ]
     },
     "execution_count": 29,
     "metadata": {},
     "output_type": "execute_result"
    }
   ],
   "source": [
    "frame1 = pd.DataFrame(data, columns=['year', 'pop', 'state', 'cost'])\n",
    "frame1"
   ]
  },
  {
   "cell_type": "markdown",
   "id": "379fc845",
   "metadata": {},
   "source": [
    "#### Một column trong df có thể lấy lại như 1 Series bằng 2 cách"
   ]
  },
  {
   "cell_type": "markdown",
   "id": "761f2aa7",
   "metadata": {},
   "source": [
    "+ Cách 1: Tương tự như sử dụng key trong dict"
   ]
  },
  {
   "cell_type": "code",
   "execution_count": 30,
   "id": "75b855a6",
   "metadata": {},
   "outputs": [
    {
     "data": {
      "text/plain": [
       "0      Ohio\n",
       "1      Ohio\n",
       "2      Ohio\n",
       "3    Nevada\n",
       "4    Nevada\n",
       "5    Nevada\n",
       "Name: state, dtype: object"
      ]
     },
     "execution_count": 30,
     "metadata": {},
     "output_type": "execute_result"
    }
   ],
   "source": [
    "frame1['state']"
   ]
  },
  {
   "cell_type": "markdown",
   "id": "66d67df0",
   "metadata": {},
   "source": [
    "+ Cách 2: Coi column như 1 attribute"
   ]
  },
  {
   "cell_type": "code",
   "execution_count": 31,
   "id": "41063bc6",
   "metadata": {},
   "outputs": [
    {
     "data": {
      "text/plain": [
       "0      Ohio\n",
       "1      Ohio\n",
       "2      Ohio\n",
       "3    Nevada\n",
       "4    Nevada\n",
       "5    Nevada\n",
       "Name: state, dtype: object"
      ]
     },
     "execution_count": 31,
     "metadata": {},
     "output_type": "execute_result"
    }
   ],
   "source": [
    "frame1.state"
   ]
  },
  {
   "cell_type": "markdown",
   "id": "e4ca44cc",
   "metadata": {},
   "source": [
    "#### Các hàng có thể lấy bởi vị trí hoặc tên với attribute *.loc*\n",
    "\n",
    "+ df.loc[[index_row1, index_row2 ...]]"
   ]
  },
  {
   "cell_type": "code",
   "execution_count": 32,
   "id": "a0bbbc66",
   "metadata": {},
   "outputs": [
    {
     "data": {
      "text/html": [
       "<div>\n",
       "<style scoped>\n",
       "    .dataframe tbody tr th:only-of-type {\n",
       "        vertical-align: middle;\n",
       "    }\n",
       "\n",
       "    .dataframe tbody tr th {\n",
       "        vertical-align: top;\n",
       "    }\n",
       "\n",
       "    .dataframe thead th {\n",
       "        text-align: right;\n",
       "    }\n",
       "</style>\n",
       "<table border=\"1\" class=\"dataframe\">\n",
       "  <thead>\n",
       "    <tr style=\"text-align: right;\">\n",
       "      <th></th>\n",
       "      <th>year</th>\n",
       "      <th>pop</th>\n",
       "      <th>state</th>\n",
       "      <th>cost</th>\n",
       "    </tr>\n",
       "  </thead>\n",
       "  <tbody>\n",
       "    <tr>\n",
       "      <th>1</th>\n",
       "      <td>2001</td>\n",
       "      <td>1.7</td>\n",
       "      <td>Ohio</td>\n",
       "      <td>NaN</td>\n",
       "    </tr>\n",
       "    <tr>\n",
       "      <th>2</th>\n",
       "      <td>2002</td>\n",
       "      <td>3.6</td>\n",
       "      <td>Ohio</td>\n",
       "      <td>NaN</td>\n",
       "    </tr>\n",
       "  </tbody>\n",
       "</table>\n",
       "</div>"
      ],
      "text/plain": [
       "   year  pop state cost\n",
       "1  2001  1.7  Ohio  NaN\n",
       "2  2002  3.6  Ohio  NaN"
      ]
     },
     "execution_count": 32,
     "metadata": {},
     "output_type": "execute_result"
    }
   ],
   "source": [
    "frame1.loc[[1, 2]]"
   ]
  },
  {
   "cell_type": "markdown",
   "id": "2fae7b7b",
   "metadata": {},
   "source": [
    "#### Columns có thể được modified bởi việc gán giá trị cụ thể.\n",
    "\n",
    "```\n",
    "df[col_name] = values\n",
    "```"
   ]
  },
  {
   "cell_type": "code",
   "execution_count": 33,
   "id": "68156d80",
   "metadata": {},
   "outputs": [
    {
     "data": {
      "text/html": [
       "<div>\n",
       "<style scoped>\n",
       "    .dataframe tbody tr th:only-of-type {\n",
       "        vertical-align: middle;\n",
       "    }\n",
       "\n",
       "    .dataframe tbody tr th {\n",
       "        vertical-align: top;\n",
       "    }\n",
       "\n",
       "    .dataframe thead th {\n",
       "        text-align: right;\n",
       "    }\n",
       "</style>\n",
       "<table border=\"1\" class=\"dataframe\">\n",
       "  <thead>\n",
       "    <tr style=\"text-align: right;\">\n",
       "      <th></th>\n",
       "      <th>year</th>\n",
       "      <th>pop</th>\n",
       "      <th>state</th>\n",
       "      <th>cost</th>\n",
       "    </tr>\n",
       "  </thead>\n",
       "  <tbody>\n",
       "    <tr>\n",
       "      <th>0</th>\n",
       "      <td>2000</td>\n",
       "      <td>1.5</td>\n",
       "      <td>Ohio</td>\n",
       "      <td>NaN</td>\n",
       "    </tr>\n",
       "    <tr>\n",
       "      <th>1</th>\n",
       "      <td>2001</td>\n",
       "      <td>1.7</td>\n",
       "      <td>Ohio</td>\n",
       "      <td>NaN</td>\n",
       "    </tr>\n",
       "    <tr>\n",
       "      <th>2</th>\n",
       "      <td>2002</td>\n",
       "      <td>3.6</td>\n",
       "      <td>Ohio</td>\n",
       "      <td>NaN</td>\n",
       "    </tr>\n",
       "    <tr>\n",
       "      <th>3</th>\n",
       "      <td>2001</td>\n",
       "      <td>2.4</td>\n",
       "      <td>Nevada</td>\n",
       "      <td>NaN</td>\n",
       "    </tr>\n",
       "    <tr>\n",
       "      <th>4</th>\n",
       "      <td>2002</td>\n",
       "      <td>2.9</td>\n",
       "      <td>Nevada</td>\n",
       "      <td>NaN</td>\n",
       "    </tr>\n",
       "    <tr>\n",
       "      <th>5</th>\n",
       "      <td>2003</td>\n",
       "      <td>3.2</td>\n",
       "      <td>Nevada</td>\n",
       "      <td>NaN</td>\n",
       "    </tr>\n",
       "  </tbody>\n",
       "</table>\n",
       "</div>"
      ],
      "text/plain": [
       "   year  pop   state cost\n",
       "0  2000  1.5    Ohio  NaN\n",
       "1  2001  1.7    Ohio  NaN\n",
       "2  2002  3.6    Ohio  NaN\n",
       "3  2001  2.4  Nevada  NaN\n",
       "4  2002  2.9  Nevada  NaN\n",
       "5  2003  3.2  Nevada  NaN"
      ]
     },
     "execution_count": 33,
     "metadata": {},
     "output_type": "execute_result"
    }
   ],
   "source": [
    "frame1"
   ]
  },
  {
   "cell_type": "code",
   "execution_count": 34,
   "id": "2d70b12d",
   "metadata": {},
   "outputs": [
    {
     "data": {
      "text/html": [
       "<div>\n",
       "<style scoped>\n",
       "    .dataframe tbody tr th:only-of-type {\n",
       "        vertical-align: middle;\n",
       "    }\n",
       "\n",
       "    .dataframe tbody tr th {\n",
       "        vertical-align: top;\n",
       "    }\n",
       "\n",
       "    .dataframe thead th {\n",
       "        text-align: right;\n",
       "    }\n",
       "</style>\n",
       "<table border=\"1\" class=\"dataframe\">\n",
       "  <thead>\n",
       "    <tr style=\"text-align: right;\">\n",
       "      <th></th>\n",
       "      <th>year</th>\n",
       "      <th>pop</th>\n",
       "      <th>state</th>\n",
       "      <th>cost</th>\n",
       "      <th>Temp</th>\n",
       "    </tr>\n",
       "  </thead>\n",
       "  <tbody>\n",
       "    <tr>\n",
       "      <th>0</th>\n",
       "      <td>2000</td>\n",
       "      <td>1.5</td>\n",
       "      <td>Ohio</td>\n",
       "      <td>NaN</td>\n",
       "      <td>23</td>\n",
       "    </tr>\n",
       "    <tr>\n",
       "      <th>1</th>\n",
       "      <td>2001</td>\n",
       "      <td>1.7</td>\n",
       "      <td>Ohio</td>\n",
       "      <td>NaN</td>\n",
       "      <td>23</td>\n",
       "    </tr>\n",
       "    <tr>\n",
       "      <th>2</th>\n",
       "      <td>2002</td>\n",
       "      <td>3.6</td>\n",
       "      <td>Ohio</td>\n",
       "      <td>NaN</td>\n",
       "      <td>23</td>\n",
       "    </tr>\n",
       "    <tr>\n",
       "      <th>3</th>\n",
       "      <td>2001</td>\n",
       "      <td>2.4</td>\n",
       "      <td>Nevada</td>\n",
       "      <td>NaN</td>\n",
       "      <td>23</td>\n",
       "    </tr>\n",
       "    <tr>\n",
       "      <th>4</th>\n",
       "      <td>2002</td>\n",
       "      <td>2.9</td>\n",
       "      <td>Nevada</td>\n",
       "      <td>NaN</td>\n",
       "      <td>23</td>\n",
       "    </tr>\n",
       "    <tr>\n",
       "      <th>5</th>\n",
       "      <td>2003</td>\n",
       "      <td>3.2</td>\n",
       "      <td>Nevada</td>\n",
       "      <td>NaN</td>\n",
       "      <td>23</td>\n",
       "    </tr>\n",
       "  </tbody>\n",
       "</table>\n",
       "</div>"
      ],
      "text/plain": [
       "   year  pop   state cost  Temp\n",
       "0  2000  1.5    Ohio  NaN    23\n",
       "1  2001  1.7    Ohio  NaN    23\n",
       "2  2002  3.6    Ohio  NaN    23\n",
       "3  2001  2.4  Nevada  NaN    23\n",
       "4  2002  2.9  Nevada  NaN    23\n",
       "5  2003  3.2  Nevada  NaN    23"
      ]
     },
     "execution_count": 34,
     "metadata": {},
     "output_type": "execute_result"
    }
   ],
   "source": [
    "frame1['Temp'] = 23\n",
    "frame1"
   ]
  },
  {
   "cell_type": "code",
   "execution_count": 35,
   "id": "10bccee8",
   "metadata": {},
   "outputs": [
    {
     "data": {
      "text/html": [
       "<div>\n",
       "<style scoped>\n",
       "    .dataframe tbody tr th:only-of-type {\n",
       "        vertical-align: middle;\n",
       "    }\n",
       "\n",
       "    .dataframe tbody tr th {\n",
       "        vertical-align: top;\n",
       "    }\n",
       "\n",
       "    .dataframe thead th {\n",
       "        text-align: right;\n",
       "    }\n",
       "</style>\n",
       "<table border=\"1\" class=\"dataframe\">\n",
       "  <thead>\n",
       "    <tr style=\"text-align: right;\">\n",
       "      <th></th>\n",
       "      <th>year</th>\n",
       "      <th>pop</th>\n",
       "      <th>state</th>\n",
       "      <th>cost</th>\n",
       "      <th>Temp</th>\n",
       "    </tr>\n",
       "  </thead>\n",
       "  <tbody>\n",
       "    <tr>\n",
       "      <th>0</th>\n",
       "      <td>2000</td>\n",
       "      <td>1.5</td>\n",
       "      <td>Ohio</td>\n",
       "      <td>NaN</td>\n",
       "      <td>23</td>\n",
       "    </tr>\n",
       "    <tr>\n",
       "      <th>1</th>\n",
       "      <td>2001</td>\n",
       "      <td>1.7</td>\n",
       "      <td>Ohio</td>\n",
       "      <td>NaN</td>\n",
       "      <td>30</td>\n",
       "    </tr>\n",
       "    <tr>\n",
       "      <th>2</th>\n",
       "      <td>2002</td>\n",
       "      <td>3.6</td>\n",
       "      <td>Ohio</td>\n",
       "      <td>NaN</td>\n",
       "      <td>31</td>\n",
       "    </tr>\n",
       "    <tr>\n",
       "      <th>3</th>\n",
       "      <td>2001</td>\n",
       "      <td>2.4</td>\n",
       "      <td>Nevada</td>\n",
       "      <td>NaN</td>\n",
       "      <td>29</td>\n",
       "    </tr>\n",
       "    <tr>\n",
       "      <th>4</th>\n",
       "      <td>2002</td>\n",
       "      <td>2.9</td>\n",
       "      <td>Nevada</td>\n",
       "      <td>NaN</td>\n",
       "      <td>20</td>\n",
       "    </tr>\n",
       "    <tr>\n",
       "      <th>5</th>\n",
       "      <td>2003</td>\n",
       "      <td>3.2</td>\n",
       "      <td>Nevada</td>\n",
       "      <td>NaN</td>\n",
       "      <td>20</td>\n",
       "    </tr>\n",
       "  </tbody>\n",
       "</table>\n",
       "</div>"
      ],
      "text/plain": [
       "   year  pop   state cost  Temp\n",
       "0  2000  1.5    Ohio  NaN    23\n",
       "1  2001  1.7    Ohio  NaN    30\n",
       "2  2002  3.6    Ohio  NaN    31\n",
       "3  2001  2.4  Nevada  NaN    29\n",
       "4  2002  2.9  Nevada  NaN    20\n",
       "5  2003  3.2  Nevada  NaN    20"
      ]
     },
     "execution_count": 35,
     "metadata": {},
     "output_type": "execute_result"
    }
   ],
   "source": [
    "frame1[\"Temp\"] = [23, 30, 31, 29, 20, 20]\n",
    "frame1"
   ]
  },
  {
   "cell_type": "markdown",
   "id": "b6095874",
   "metadata": {},
   "source": [
    "#### Notes: \n",
    "\n",
    "+ Khi gán list/array cho 1 column, cần đảm bảo độ dài list/arr = độ dài cột trong dataframe\n",
    "\n",
    "+ Nếu k, pandas sẽ tự gán giá trị NaN"
   ]
  },
  {
   "cell_type": "code",
   "execution_count": 36,
   "id": "841132e2",
   "metadata": {},
   "outputs": [
    {
     "data": {
      "text/html": [
       "<div>\n",
       "<style scoped>\n",
       "    .dataframe tbody tr th:only-of-type {\n",
       "        vertical-align: middle;\n",
       "    }\n",
       "\n",
       "    .dataframe tbody tr th {\n",
       "        vertical-align: top;\n",
       "    }\n",
       "\n",
       "    .dataframe thead th {\n",
       "        text-align: right;\n",
       "    }\n",
       "</style>\n",
       "<table border=\"1\" class=\"dataframe\">\n",
       "  <thead>\n",
       "    <tr style=\"text-align: right;\">\n",
       "      <th></th>\n",
       "      <th>year</th>\n",
       "      <th>pop</th>\n",
       "      <th>state</th>\n",
       "      <th>cost</th>\n",
       "      <th>Temp</th>\n",
       "    </tr>\n",
       "  </thead>\n",
       "  <tbody>\n",
       "    <tr>\n",
       "      <th>0</th>\n",
       "      <td>2000</td>\n",
       "      <td>1.5</td>\n",
       "      <td>Ohio</td>\n",
       "      <td>NaN</td>\n",
       "      <td>23.0</td>\n",
       "    </tr>\n",
       "    <tr>\n",
       "      <th>1</th>\n",
       "      <td>2001</td>\n",
       "      <td>1.7</td>\n",
       "      <td>Ohio</td>\n",
       "      <td>NaN</td>\n",
       "      <td>30.0</td>\n",
       "    </tr>\n",
       "    <tr>\n",
       "      <th>2</th>\n",
       "      <td>2002</td>\n",
       "      <td>3.6</td>\n",
       "      <td>Ohio</td>\n",
       "      <td>NaN</td>\n",
       "      <td>31.0</td>\n",
       "    </tr>\n",
       "    <tr>\n",
       "      <th>3</th>\n",
       "      <td>2001</td>\n",
       "      <td>2.4</td>\n",
       "      <td>Nevada</td>\n",
       "      <td>NaN</td>\n",
       "      <td>29.0</td>\n",
       "    </tr>\n",
       "    <tr>\n",
       "      <th>4</th>\n",
       "      <td>2002</td>\n",
       "      <td>2.9</td>\n",
       "      <td>Nevada</td>\n",
       "      <td>NaN</td>\n",
       "      <td>25.0</td>\n",
       "    </tr>\n",
       "    <tr>\n",
       "      <th>5</th>\n",
       "      <td>2003</td>\n",
       "      <td>3.2</td>\n",
       "      <td>Nevada</td>\n",
       "      <td>NaN</td>\n",
       "      <td>NaN</td>\n",
       "    </tr>\n",
       "  </tbody>\n",
       "</table>\n",
       "</div>"
      ],
      "text/plain": [
       "   year  pop   state cost  Temp\n",
       "0  2000  1.5    Ohio  NaN  23.0\n",
       "1  2001  1.7    Ohio  NaN  30.0\n",
       "2  2002  3.6    Ohio  NaN  31.0\n",
       "3  2001  2.4  Nevada  NaN  29.0\n",
       "4  2002  2.9  Nevada  NaN  25.0\n",
       "5  2003  3.2  Nevada  NaN   NaN"
      ]
     },
     "execution_count": 36,
     "metadata": {},
     "output_type": "execute_result"
    }
   ],
   "source": [
    "ser_test = pd.Series([23, 30, 31, 29, 25], index=[0, 1, 2, 3, 4])\n",
    "frame1[\"Temp\"] = ser_test\n",
    "frame1"
   ]
  },
  {
   "cell_type": "markdown",
   "id": "c17be4d8",
   "metadata": {},
   "source": [
    "#### Có thể xóa 1 cột dữ liệu\n",
    "\n",
    "```\n",
    "del df['column_name']\n",
    "```"
   ]
  },
  {
   "cell_type": "code",
   "execution_count": 39,
   "id": "b390c013",
   "metadata": {},
   "outputs": [
    {
     "data": {
      "text/html": [
       "<div>\n",
       "<style scoped>\n",
       "    .dataframe tbody tr th:only-of-type {\n",
       "        vertical-align: middle;\n",
       "    }\n",
       "\n",
       "    .dataframe tbody tr th {\n",
       "        vertical-align: top;\n",
       "    }\n",
       "\n",
       "    .dataframe thead th {\n",
       "        text-align: right;\n",
       "    }\n",
       "</style>\n",
       "<table border=\"1\" class=\"dataframe\">\n",
       "  <thead>\n",
       "    <tr style=\"text-align: right;\">\n",
       "      <th></th>\n",
       "      <th>year</th>\n",
       "      <th>pop</th>\n",
       "      <th>state</th>\n",
       "      <th>cost</th>\n",
       "    </tr>\n",
       "  </thead>\n",
       "  <tbody>\n",
       "    <tr>\n",
       "      <th>0</th>\n",
       "      <td>2000</td>\n",
       "      <td>1.5</td>\n",
       "      <td>Ohio</td>\n",
       "      <td>NaN</td>\n",
       "    </tr>\n",
       "    <tr>\n",
       "      <th>1</th>\n",
       "      <td>2001</td>\n",
       "      <td>1.7</td>\n",
       "      <td>Ohio</td>\n",
       "      <td>NaN</td>\n",
       "    </tr>\n",
       "    <tr>\n",
       "      <th>2</th>\n",
       "      <td>2002</td>\n",
       "      <td>3.6</td>\n",
       "      <td>Ohio</td>\n",
       "      <td>NaN</td>\n",
       "    </tr>\n",
       "    <tr>\n",
       "      <th>3</th>\n",
       "      <td>2001</td>\n",
       "      <td>2.4</td>\n",
       "      <td>Nevada</td>\n",
       "      <td>NaN</td>\n",
       "    </tr>\n",
       "    <tr>\n",
       "      <th>4</th>\n",
       "      <td>2002</td>\n",
       "      <td>2.9</td>\n",
       "      <td>Nevada</td>\n",
       "      <td>NaN</td>\n",
       "    </tr>\n",
       "    <tr>\n",
       "      <th>5</th>\n",
       "      <td>2003</td>\n",
       "      <td>3.2</td>\n",
       "      <td>Nevada</td>\n",
       "      <td>NaN</td>\n",
       "    </tr>\n",
       "  </tbody>\n",
       "</table>\n",
       "</div>"
      ],
      "text/plain": [
       "   year  pop   state cost\n",
       "0  2000  1.5    Ohio  NaN\n",
       "1  2001  1.7    Ohio  NaN\n",
       "2  2002  3.6    Ohio  NaN\n",
       "3  2001  2.4  Nevada  NaN\n",
       "4  2002  2.9  Nevada  NaN\n",
       "5  2003  3.2  Nevada  NaN"
      ]
     },
     "execution_count": 39,
     "metadata": {},
     "output_type": "execute_result"
    }
   ],
   "source": [
    "del frame1['Temp']\n",
    "frame1"
   ]
  },
  {
   "cell_type": "markdown",
   "id": "2bd83204",
   "metadata": {},
   "source": [
    "## Index Objects"
   ]
  },
  {
   "cell_type": "markdown",
   "id": "3c2692c5",
   "metadata": {},
   "source": [
    "+ Các chỉ số trong Pandas được xác định bởi các nhãn trục & các thông tin khác như (tên trục)\n"
   ]
  },
  {
   "cell_type": "code",
   "execution_count": 40,
   "id": "b26ffd30",
   "metadata": {},
   "outputs": [
    {
     "data": {
      "text/plain": [
       "Index(['a', 'b', 'c'], dtype='object')"
      ]
     },
     "execution_count": 40,
     "metadata": {},
     "output_type": "execute_result"
    }
   ],
   "source": [
    "obj = pd.Series([1, 2, 3], \n",
    "                index=['a', 'b', 'c'])\n",
    "obj.index"
   ]
  },
  {
   "cell_type": "code",
   "execution_count": 41,
   "id": "cfaa3c7f",
   "metadata": {},
   "outputs": [
    {
     "data": {
      "text/plain": [
       "Index(['a'], dtype='object')"
      ]
     },
     "execution_count": 41,
     "metadata": {},
     "output_type": "execute_result"
    }
   ],
   "source": [
    "obj.index[:1]"
   ]
  },
  {
   "cell_type": "markdown",
   "id": "29bd29e4",
   "metadata": {},
   "source": [
    "+ Tính bất biến của df values giúp đảm bảo kính thước của index tương ứng."
   ]
  },
  {
   "cell_type": "code",
   "execution_count": 42,
   "id": "26da2e2a",
   "metadata": {},
   "outputs": [
    {
     "data": {
      "text/plain": [
       "Int64Index([0, 1, 2], dtype='int64')"
      ]
     },
     "execution_count": 42,
     "metadata": {},
     "output_type": "execute_result"
    }
   ],
   "source": [
    "labels = pd.Index(np.arange(3))\n",
    "#\n",
    "labels"
   ]
  },
  {
   "cell_type": "code",
   "execution_count": 43,
   "id": "6d2bcfa4",
   "metadata": {},
   "outputs": [
    {
     "data": {
      "text/plain": [
       "0    1\n",
       "1    2\n",
       "2    3\n",
       "dtype: int64"
      ]
     },
     "execution_count": 43,
     "metadata": {},
     "output_type": "execute_result"
    }
   ],
   "source": [
    "obj1 = pd.Series([1, 2, 3], index=labels)\n",
    "obj1"
   ]
  },
  {
   "cell_type": "code",
   "execution_count": 44,
   "id": "d368abdf",
   "metadata": {},
   "outputs": [
    {
     "data": {
      "text/plain": [
       "True"
      ]
     },
     "execution_count": 44,
     "metadata": {},
     "output_type": "execute_result"
    }
   ],
   "source": [
    "obj1.index is labels"
   ]
  },
  {
   "cell_type": "code",
   "execution_count": 45,
   "id": "fbcc12bd",
   "metadata": {},
   "outputs": [
    {
     "data": {
      "text/plain": [
       "False"
      ]
     },
     "execution_count": 45,
     "metadata": {},
     "output_type": "execute_result"
    }
   ],
   "source": [
    "3 in obj1.index"
   ]
  },
  {
   "cell_type": "markdown",
   "id": "afdaa1f8",
   "metadata": {},
   "source": [
    "#### Không như set trong python, trong pandas các index có thể giống nhau."
   ]
  },
  {
   "cell_type": "code",
   "execution_count": 46,
   "id": "bc8f6da5",
   "metadata": {},
   "outputs": [
    {
     "data": {
      "text/plain": [
       "a    1\n",
       "b    2\n",
       "c    3\n",
       "c    4\n",
       "dtype: int64"
      ]
     },
     "execution_count": 46,
     "metadata": {},
     "output_type": "execute_result"
    }
   ],
   "source": [
    "obj2 = pd.Series([1, 2, 3, 4],\n",
    "                 index=['a', 'b', 'c', 'c'])\n",
    "#\n",
    "obj2"
   ]
  },
  {
   "cell_type": "markdown",
   "id": "7e767dee",
   "metadata": {},
   "source": [
    "# 5.2 Essential Functionality\n",
    "\n",
    "+ Phần này sẽ làm quen với các phương pháp/cách thức cơ bản để tương tác với kiểu dữ liệu như Series/DataFrame đã nêu phần trên."
   ]
  },
  {
   "cell_type": "markdown",
   "id": "51f53537",
   "metadata": {},
   "source": [
    "## Reindexing\n",
    "\n",
    "+ *reindex()*: tạo một object mới với dữ liệu phù hợp thứ tự index mới.\n",
    "\n"
   ]
  },
  {
   "cell_type": "code",
   "execution_count": 47,
   "id": "cecd4457",
   "metadata": {},
   "outputs": [
    {
     "data": {
      "text/plain": [
       "a    1\n",
       "b    2\n",
       "c    3\n",
       "d    4\n",
       "e    5\n",
       "dtype: int64"
      ]
     },
     "execution_count": 47,
     "metadata": {},
     "output_type": "execute_result"
    }
   ],
   "source": [
    "obj = pd.Series([1, 2, 3, 4, 5],\n",
    "                index=['a', 'b', 'c', 'd', 'e'])\n",
    "#\n",
    "obj"
   ]
  },
  {
   "cell_type": "markdown",
   "id": "7e41649c",
   "metadata": {},
   "source": [
    "#### Cách 1"
   ]
  },
  {
   "cell_type": "code",
   "execution_count": 48,
   "id": "60f54bfe",
   "metadata": {},
   "outputs": [
    {
     "data": {
      "text/plain": [
       "b    2\n",
       "c    3\n",
       "d    4\n",
       "e    5\n",
       "a    1\n",
       "dtype: int64"
      ]
     },
     "execution_count": 48,
     "metadata": {},
     "output_type": "execute_result"
    }
   ],
   "source": [
    "obj1 = obj.reindex(['b', 'c', 'd', 'e', 'a'])\n",
    "obj1"
   ]
  },
  {
   "cell_type": "markdown",
   "id": "d3adbc3c",
   "metadata": {},
   "source": [
    "#### Cách 2"
   ]
  },
  {
   "cell_type": "code",
   "execution_count": 49,
   "id": "99ec0254",
   "metadata": {},
   "outputs": [
    {
     "data": {
      "text/html": [
       "<div>\n",
       "<style scoped>\n",
       "    .dataframe tbody tr th:only-of-type {\n",
       "        vertical-align: middle;\n",
       "    }\n",
       "\n",
       "    .dataframe tbody tr th {\n",
       "        vertical-align: top;\n",
       "    }\n",
       "\n",
       "    .dataframe thead th {\n",
       "        text-align: right;\n",
       "    }\n",
       "</style>\n",
       "<table border=\"1\" class=\"dataframe\">\n",
       "  <thead>\n",
       "    <tr style=\"text-align: right;\">\n",
       "      <th></th>\n",
       "      <th>0</th>\n",
       "    </tr>\n",
       "  </thead>\n",
       "  <tbody>\n",
       "    <tr>\n",
       "      <th>b</th>\n",
       "      <td>2</td>\n",
       "    </tr>\n",
       "    <tr>\n",
       "      <th>c</th>\n",
       "      <td>3</td>\n",
       "    </tr>\n",
       "    <tr>\n",
       "      <th>d</th>\n",
       "      <td>4</td>\n",
       "    </tr>\n",
       "    <tr>\n",
       "      <th>e</th>\n",
       "      <td>5</td>\n",
       "    </tr>\n",
       "    <tr>\n",
       "      <th>a</th>\n",
       "      <td>1</td>\n",
       "    </tr>\n",
       "  </tbody>\n",
       "</table>\n",
       "</div>"
      ],
      "text/plain": [
       "   0\n",
       "b  2\n",
       "c  3\n",
       "d  4\n",
       "e  5\n",
       "a  1"
      ]
     },
     "execution_count": 49,
     "metadata": {},
     "output_type": "execute_result"
    }
   ],
   "source": [
    "obj2 = pd.DataFrame(obj1, \n",
    "                    index=['b', 'c', 'd', 'e', 'a'])\n",
    "obj2"
   ]
  },
  {
   "cell_type": "markdown",
   "id": "6fced56f",
   "metadata": {},
   "source": [
    "#### Muốn fill dữ liệu cho đầy vào các index"
   ]
  },
  {
   "cell_type": "code",
   "execution_count": 50,
   "id": "8c52528b",
   "metadata": {},
   "outputs": [
    {
     "data": {
      "text/plain": [
       "1      blue\n",
       "4    yellow\n",
       "7     black\n",
       "dtype: object"
      ]
     },
     "execution_count": 50,
     "metadata": {},
     "output_type": "execute_result"
    }
   ],
   "source": [
    "obj3 = pd.Series(['blue', 'yellow', 'black'], \n",
    "                 index=[1, 4, 7])\n",
    "obj3"
   ]
  },
  {
   "cell_type": "code",
   "execution_count": 51,
   "id": "0a5ee3c8",
   "metadata": {},
   "outputs": [
    {
     "data": {
      "text/plain": [
       "0       NaN\n",
       "1      blue\n",
       "2      blue\n",
       "3      blue\n",
       "4    yellow\n",
       "5    yellow\n",
       "6    yellow\n",
       "7     black\n",
       "dtype: object"
      ]
     },
     "execution_count": 51,
     "metadata": {},
     "output_type": "execute_result"
    }
   ],
   "source": [
    "obj3.reindex(range(8), method='ffill')"
   ]
  },
  {
   "cell_type": "code",
   "execution_count": 52,
   "id": "1db5fba6",
   "metadata": {},
   "outputs": [
    {
     "data": {
      "text/html": [
       "<div>\n",
       "<style scoped>\n",
       "    .dataframe tbody tr th:only-of-type {\n",
       "        vertical-align: middle;\n",
       "    }\n",
       "\n",
       "    .dataframe tbody tr th {\n",
       "        vertical-align: top;\n",
       "    }\n",
       "\n",
       "    .dataframe thead th {\n",
       "        text-align: right;\n",
       "    }\n",
       "</style>\n",
       "<table border=\"1\" class=\"dataframe\">\n",
       "  <thead>\n",
       "    <tr style=\"text-align: right;\">\n",
       "      <th></th>\n",
       "      <th>Ohio</th>\n",
       "      <th>Texas</th>\n",
       "      <th>California</th>\n",
       "    </tr>\n",
       "  </thead>\n",
       "  <tbody>\n",
       "    <tr>\n",
       "      <th>a</th>\n",
       "      <td>0</td>\n",
       "      <td>1</td>\n",
       "      <td>2</td>\n",
       "    </tr>\n",
       "    <tr>\n",
       "      <th>b</th>\n",
       "      <td>3</td>\n",
       "      <td>4</td>\n",
       "      <td>5</td>\n",
       "    </tr>\n",
       "    <tr>\n",
       "      <th>c</th>\n",
       "      <td>6</td>\n",
       "      <td>7</td>\n",
       "      <td>8</td>\n",
       "    </tr>\n",
       "  </tbody>\n",
       "</table>\n",
       "</div>"
      ],
      "text/plain": [
       "   Ohio  Texas  California\n",
       "a     0      1           2\n",
       "b     3      4           5\n",
       "c     6      7           8"
      ]
     },
     "execution_count": 52,
     "metadata": {},
     "output_type": "execute_result"
    }
   ],
   "source": [
    "frame = pd.DataFrame(np.arange(9).reshape((3, 3)),\n",
    "                     index=['a', 'b', 'c'],\n",
    "                     columns=['Ohio', 'Texas', 'California'])\n",
    "frame"
   ]
  },
  {
   "cell_type": "code",
   "execution_count": 53,
   "id": "4afcee02",
   "metadata": {},
   "outputs": [
    {
     "data": {
      "text/html": [
       "<div>\n",
       "<style scoped>\n",
       "    .dataframe tbody tr th:only-of-type {\n",
       "        vertical-align: middle;\n",
       "    }\n",
       "\n",
       "    .dataframe tbody tr th {\n",
       "        vertical-align: top;\n",
       "    }\n",
       "\n",
       "    .dataframe thead th {\n",
       "        text-align: right;\n",
       "    }\n",
       "</style>\n",
       "<table border=\"1\" class=\"dataframe\">\n",
       "  <thead>\n",
       "    <tr style=\"text-align: right;\">\n",
       "      <th></th>\n",
       "      <th>Ohio</th>\n",
       "      <th>Texas</th>\n",
       "      <th>California</th>\n",
       "    </tr>\n",
       "  </thead>\n",
       "  <tbody>\n",
       "    <tr>\n",
       "      <th>a</th>\n",
       "      <td>0.0</td>\n",
       "      <td>1.0</td>\n",
       "      <td>2.0</td>\n",
       "    </tr>\n",
       "    <tr>\n",
       "      <th>b</th>\n",
       "      <td>3.0</td>\n",
       "      <td>4.0</td>\n",
       "      <td>5.0</td>\n",
       "    </tr>\n",
       "    <tr>\n",
       "      <th>c</th>\n",
       "      <td>6.0</td>\n",
       "      <td>7.0</td>\n",
       "      <td>8.0</td>\n",
       "    </tr>\n",
       "    <tr>\n",
       "      <th>d</th>\n",
       "      <td>NaN</td>\n",
       "      <td>NaN</td>\n",
       "      <td>NaN</td>\n",
       "    </tr>\n",
       "  </tbody>\n",
       "</table>\n",
       "</div>"
      ],
      "text/plain": [
       "   Ohio  Texas  California\n",
       "a   0.0    1.0         2.0\n",
       "b   3.0    4.0         5.0\n",
       "c   6.0    7.0         8.0\n",
       "d   NaN    NaN         NaN"
      ]
     },
     "execution_count": 53,
     "metadata": {},
     "output_type": "execute_result"
    }
   ],
   "source": [
    "frame1 = frame.reindex(['a', 'b', 'c', 'd'])\n",
    "frame1"
   ]
  },
  {
   "cell_type": "markdown",
   "id": "36f500da",
   "metadata": {},
   "source": [
    "#### Hàm *reindex(columns=[col1, col2, col3, ...])*: sẽ thay thế danh sách columns cũ bằng danh sách columns mới vừa được gán.\n",
    "\n",
    "+ df.reindex() -> new dataframe"
   ]
  },
  {
   "cell_type": "code",
   "execution_count": 54,
   "id": "ce2104ea",
   "metadata": {},
   "outputs": [
    {
     "data": {
      "text/html": [
       "<div>\n",
       "<style scoped>\n",
       "    .dataframe tbody tr th:only-of-type {\n",
       "        vertical-align: middle;\n",
       "    }\n",
       "\n",
       "    .dataframe tbody tr th {\n",
       "        vertical-align: top;\n",
       "    }\n",
       "\n",
       "    .dataframe thead th {\n",
       "        text-align: right;\n",
       "    }\n",
       "</style>\n",
       "<table border=\"1\" class=\"dataframe\">\n",
       "  <thead>\n",
       "    <tr style=\"text-align: right;\">\n",
       "      <th></th>\n",
       "      <th>Ohio</th>\n",
       "      <th>Texas</th>\n",
       "      <th>California</th>\n",
       "      <th>New Yord</th>\n",
       "    </tr>\n",
       "  </thead>\n",
       "  <tbody>\n",
       "    <tr>\n",
       "      <th>a</th>\n",
       "      <td>0</td>\n",
       "      <td>1</td>\n",
       "      <td>2</td>\n",
       "      <td>NaN</td>\n",
       "    </tr>\n",
       "    <tr>\n",
       "      <th>b</th>\n",
       "      <td>3</td>\n",
       "      <td>4</td>\n",
       "      <td>5</td>\n",
       "      <td>NaN</td>\n",
       "    </tr>\n",
       "    <tr>\n",
       "      <th>c</th>\n",
       "      <td>6</td>\n",
       "      <td>7</td>\n",
       "      <td>8</td>\n",
       "      <td>NaN</td>\n",
       "    </tr>\n",
       "  </tbody>\n",
       "</table>\n",
       "</div>"
      ],
      "text/plain": [
       "   Ohio  Texas  California  New Yord\n",
       "a     0      1           2       NaN\n",
       "b     3      4           5       NaN\n",
       "c     6      7           8       NaN"
      ]
     },
     "execution_count": 54,
     "metadata": {},
     "output_type": "execute_result"
    }
   ],
   "source": [
    "new_cols = ['Ohio', 'Texas', 'California', 'New Yord']\n",
    "new_df = frame.reindex(columns=new_cols)\n",
    "new_df"
   ]
  },
  {
   "cell_type": "markdown",
   "id": "24ae0dfc",
   "metadata": {},
   "source": [
    "#### Xóa các mục trong 1 cột ~ Dropping entries from an axis"
   ]
  },
  {
   "cell_type": "markdown",
   "id": "c48c58f9",
   "metadata": {},
   "source": [
    "+ Việc xóa 1 hay nhiều mục trong một cột khi có danh sách chuỗi/list các mục cần giữ.\n",
    "    - drop([entrie_1, entrie_2, ...]) : trả về một object mới với các mục còn "
   ]
  },
  {
   "cell_type": "code",
   "execution_count": 56,
   "id": "cbf562fc",
   "metadata": {},
   "outputs": [
    {
     "data": {
      "text/plain": [
       "a    0.0\n",
       "b    1.0\n",
       "c    2.0\n",
       "d    3.0\n",
       "e    4.0\n",
       "dtype: float64"
      ]
     },
     "execution_count": 56,
     "metadata": {},
     "output_type": "execute_result"
    }
   ],
   "source": [
    "obj = pd.Series(np.arange(5.), \n",
    "                index=['a', 'b', 'c', 'd', 'e'])\n",
    "obj"
   ]
  },
  {
   "cell_type": "code",
   "execution_count": 57,
   "id": "cd0754a0",
   "metadata": {},
   "outputs": [
    {
     "data": {
      "text/plain": [
       "a    0.0\n",
       "b    1.0\n",
       "d    3.0\n",
       "dtype: float64"
      ]
     },
     "execution_count": 57,
     "metadata": {},
     "output_type": "execute_result"
    }
   ],
   "source": [
    "new_obj = obj.drop(['c', 'e'])\n",
    "new_obj"
   ]
  },
  {
   "cell_type": "markdown",
   "id": "1d54d2c7",
   "metadata": {},
   "source": [
    "+ Ngoài sử dụng tên mục trong cột, Pandas có thể xóa các mục bởi chỉ số index *index values*\n",
    "    - Xóa các giá trị của các cột khi sử dụng *axis=1* or *axis='columns'*:\n",
    "\n",
    "\n",
    "```\n",
    "obj.drop([column_name1, column_name2, ...], axis=1)\n",
    "```"
   ]
  },
  {
   "cell_type": "code",
   "execution_count": 58,
   "id": "2adb66dd",
   "metadata": {},
   "outputs": [
    {
     "data": {
      "text/html": [
       "<div>\n",
       "<style scoped>\n",
       "    .dataframe tbody tr th:only-of-type {\n",
       "        vertical-align: middle;\n",
       "    }\n",
       "\n",
       "    .dataframe tbody tr th {\n",
       "        vertical-align: top;\n",
       "    }\n",
       "\n",
       "    .dataframe thead th {\n",
       "        text-align: right;\n",
       "    }\n",
       "</style>\n",
       "<table border=\"1\" class=\"dataframe\">\n",
       "  <thead>\n",
       "    <tr style=\"text-align: right;\">\n",
       "      <th></th>\n",
       "      <th>1</th>\n",
       "      <th>2</th>\n",
       "      <th>3</th>\n",
       "      <th>4</th>\n",
       "    </tr>\n",
       "  </thead>\n",
       "  <tbody>\n",
       "    <tr>\n",
       "      <th>HaNoi</th>\n",
       "      <td>0</td>\n",
       "      <td>1</td>\n",
       "      <td>2</td>\n",
       "      <td>3</td>\n",
       "    </tr>\n",
       "    <tr>\n",
       "      <th>DaNang</th>\n",
       "      <td>4</td>\n",
       "      <td>5</td>\n",
       "      <td>6</td>\n",
       "      <td>7</td>\n",
       "    </tr>\n",
       "    <tr>\n",
       "      <th>HCM</th>\n",
       "      <td>8</td>\n",
       "      <td>9</td>\n",
       "      <td>10</td>\n",
       "      <td>11</td>\n",
       "    </tr>\n",
       "    <tr>\n",
       "      <th>CanTho</th>\n",
       "      <td>12</td>\n",
       "      <td>13</td>\n",
       "      <td>14</td>\n",
       "      <td>15</td>\n",
       "    </tr>\n",
       "  </tbody>\n",
       "</table>\n",
       "</div>"
      ],
      "text/plain": [
       "         1   2   3   4\n",
       "HaNoi    0   1   2   3\n",
       "DaNang   4   5   6   7\n",
       "HCM      8   9  10  11\n",
       "CanTho  12  13  14  15"
      ]
     },
     "execution_count": 58,
     "metadata": {},
     "output_type": "execute_result"
    }
   ],
   "source": [
    "data = pd.DataFrame(np.arange(16).reshape(4, 4),\n",
    "                    index=['HaNoi', \"DaNang\", \"HCM\", \"CanTho\"],\n",
    "                    columns=[1, 2, 3, 4])\n",
    "data"
   ]
  },
  {
   "cell_type": "code",
   "execution_count": 60,
   "id": "7bdcd14f",
   "metadata": {},
   "outputs": [
    {
     "data": {
      "text/html": [
       "<div>\n",
       "<style scoped>\n",
       "    .dataframe tbody tr th:only-of-type {\n",
       "        vertical-align: middle;\n",
       "    }\n",
       "\n",
       "    .dataframe tbody tr th {\n",
       "        vertical-align: top;\n",
       "    }\n",
       "\n",
       "    .dataframe thead th {\n",
       "        text-align: right;\n",
       "    }\n",
       "</style>\n",
       "<table border=\"1\" class=\"dataframe\">\n",
       "  <thead>\n",
       "    <tr style=\"text-align: right;\">\n",
       "      <th></th>\n",
       "      <th>2</th>\n",
       "      <th>3</th>\n",
       "    </tr>\n",
       "  </thead>\n",
       "  <tbody>\n",
       "    <tr>\n",
       "      <th>HaNoi</th>\n",
       "      <td>1</td>\n",
       "      <td>2</td>\n",
       "    </tr>\n",
       "    <tr>\n",
       "      <th>DaNang</th>\n",
       "      <td>5</td>\n",
       "      <td>6</td>\n",
       "    </tr>\n",
       "    <tr>\n",
       "      <th>HCM</th>\n",
       "      <td>9</td>\n",
       "      <td>10</td>\n",
       "    </tr>\n",
       "    <tr>\n",
       "      <th>CanTho</th>\n",
       "      <td>13</td>\n",
       "      <td>14</td>\n",
       "    </tr>\n",
       "  </tbody>\n",
       "</table>\n",
       "</div>"
      ],
      "text/plain": [
       "         2   3\n",
       "HaNoi    1   2\n",
       "DaNang   5   6\n",
       "HCM      9  10\n",
       "CanTho  13  14"
      ]
     },
     "execution_count": 60,
     "metadata": {},
     "output_type": "execute_result"
    }
   ],
   "source": [
    "new_data = data.drop([1, 4], axis='columns')\n",
    "new_data"
   ]
  },
  {
   "cell_type": "code",
   "execution_count": null,
   "id": "0020a27d",
   "metadata": {},
   "outputs": [],
   "source": []
  }
 ],
 "metadata": {
  "kernelspec": {
   "display_name": "Python 3",
   "language": "python",
   "name": "python3"
  },
  "language_info": {
   "codemirror_mode": {
    "name": "ipython",
    "version": 3
   },
   "file_extension": ".py",
   "mimetype": "text/x-python",
   "name": "python",
   "nbconvert_exporter": "python",
   "pygments_lexer": "ipython3",
   "version": "3.8.8"
  }
 },
 "nbformat": 4,
 "nbformat_minor": 5
}
