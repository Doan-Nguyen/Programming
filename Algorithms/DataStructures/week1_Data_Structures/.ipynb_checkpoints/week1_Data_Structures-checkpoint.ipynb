{
 "cells": [
  {
   "cell_type": "markdown",
   "id": "5996a8f2",
   "metadata": {},
   "source": [
    "# 1. Arrays and Linked Lists"
   ]
  },
  {
   "cell_type": "markdown",
   "id": "cfe586f1",
   "metadata": {},
   "source": [
    "## 1.1 Arrays"
   ]
  },
  {
   "cell_type": "markdown",
   "id": "129c6bc3",
   "metadata": {},
   "source": [
    "+ **Definition**: Array contigous (sequence) area of memory consisting of equal-size elements indexed by contiguous integers.\n",
    "    - it is broken down into equal sized elements."
   ]
  },
  {
   "cell_type": "markdown",
   "id": "23b44781",
   "metadata": {},
   "source": [
    "+ What's special about arrays ?\n",
    "    - contanst time to access to any particular element.\n",
    "        - Constant time to read\n",
    "        - Constant time to write\n",
    "    - the address of the array: \n",
    "        - every element has the same size.\n",
    "        - end_arr_add = start_arr_add + elem_size*(index - first_index)"
   ]
  },
  {
   "cell_type": "markdown",
   "id": "b20773e8",
   "metadata": {},
   "source": [
    "+ Multi-Dimensional arrays:\n",
    "    - end_arr_add = start_arr_add + elem_size x ((index_row - first_index) x numb_col + (index_col - 1)"
   ]
  },
  {
   "cell_type": "markdown",
   "id": "5ee19554",
   "metadata": {},
   "source": [
    "+ Time for common operations:\n",
    "    - Standard feature of array: read & write - O(1) \n",
    "    - Remove/add first element: O(n)\n",
    "        - Step 1: remove first element\n",
    "        - Step 2: update/push array's elements\n",
    "    - Remove/add middle element: O(n)\n",
    "\n",
    "![time_common_operations](./figures/time_common_operations.PNG)\n",
    "\n",
    "+ Notes: (huge advantage)\n",
    "    - array has a constant time to access to elements, either read or write."
   ]
  },
  {
   "cell_type": "markdown",
   "id": "642bd515",
   "metadata": {},
   "source": [
    "+ **Summary**:\n",
    "    - Array: contigous area of memory consisting of equal-size elements indexed by contiguous integers.\n",
    "    - Constant time access to any element.\n",
    "    - Constant time to add/remove at the end."
   ]
  },
  {
   "cell_type": "markdown",
   "id": "8d86dfaa",
   "metadata": {},
   "source": [
    "## 1.2 Singly-Linked lists"
   ]
  },
  {
   "attachments": {},
   "cell_type": "markdown",
   "id": "b5b5e6be",
   "metadata": {},
   "source": [
    "![singly_linked_lists](./figures/singly_linked_lists.PNG)"
   ]
  },
  {
   "cell_type": "markdown",
   "id": "d45b9192",
   "metadata": {},
   "source": [
    "+ **The operations:**\n",
    "    - PushFront(Key): add to front\n",
    "    - TopFront() -> Key: return front item\n",
    "    - PopFront(): remove front item\n",
    "    - PushBack(key): add to back\n",
    "    - TopBack() -> Key: return back item\n",
    "    - PopBack(): remove back item\n",
    "    - Find(Key) -> Boolean: is key in list ?\n",
    "    - Erase(Key): remove key from list\n",
    "    - Empty() -> Boolean: empty list ?\n",
    "    - AddBefore(Node, Key): adds key before node\n",
    "    - AddAfter(Node, Key): adds key after node\n",
    "    "
   ]
  },
  {
   "cell_type": "markdown",
   "id": "808e4bb4",
   "metadata": {},
   "source": [
    "### Times for some operations"
   ]
  },
  {
   "cell_type": "markdown",
   "id": "3837ba3c",
   "metadata": {},
   "source": [
    "#### Push front"
   ]
  },
  {
   "cell_type": "markdown",
   "id": "95dbb4af",
   "metadata": {},
   "source": [
    "+ Visualize O(1):\n",
    "\n",
    "![visualize_push_front](./figures/visualize_push_front.PNG)\n",
    "\n",
    "+ Pseudo code:\n",
    "\n",
    "```\n",
    "PushFront(key):\n",
    "    node := new node\n",
    "    node.key := key\n",
    "    node.next := head\n",
    "    head := node\n",
    "    if tail == null:\n",
    "        tail := head\n",
    "```"
   ]
  },
  {
   "cell_type": "markdown",
   "id": "f20a8358",
   "metadata": {},
   "source": [
    "#### PopFront"
   ]
  },
  {
   "cell_type": "markdown",
   "id": "39f5a912",
   "metadata": {},
   "source": [
    "+ Step by step - O(1):\n",
    "    - Step 1: update the head pointer\n",
    "    - Step 2: remove the node\n",
    "    \n",
    "+ Pseudo code:\n",
    "```\n",
    "PopFront():\n",
    "    if head == null:\n",
    "        Error: empty list\n",
    "    head := head.next\n",
    "    if head == null:\n",
    "        tail := null\n",
    "```"
   ]
  },
  {
   "cell_type": "markdown",
   "id": "67a514ab",
   "metadata": {},
   "source": [
    "#### PushBack(Key)"
   ]
  },
  {
   "cell_type": "markdown",
   "id": "14f9ee55",
   "metadata": {},
   "source": [
    "+ Pseudo code\n",
    "```\n",
    "node := new node\n",
    "node.key := key\n",
    "node.next := null\n",
    "if tail == null:\n",
    "    head := tail \n",
    "else:\n",
    "    tail.next := node\n",
    "    tail := node\n",
    "```"
   ]
  },
  {
   "cell_type": "markdown",
   "id": "85a10de7",
   "metadata": {},
   "source": [
    "#### PopBack()"
   ]
  },
  {
   "cell_type": "markdown",
   "id": "10dc890c",
   "metadata": {},
   "source": [
    "+ Pseudo code:\n",
    "```\n",
    "if head == null:\n",
    "    Error: empty list\n",
    "if head == tail:    \n",
    "    head := tail := null\n",
    "else: \n",
    "    p := head\n",
    "    while p.next.next != null:\n",
    "        p := p.next\n",
    "p.next := null\n",
    "tail := p\n",
    "```"
   ]
  },
  {
   "cell_type": "markdown",
   "id": "ed604346",
   "metadata": {},
   "source": [
    "#### AddAfter(node, key)\n",
    "\n",
    "+ Pseudo code:\n",
    "```\n",
    "node2 := new node\n",
    "node2.key := key\n",
    "node2.next = node.next\n",
    "node.next = node2\n",
    "if tail == node:\n",
    "    tail := node2\n",
    "```"
   ]
  },
  {
   "cell_type": "markdown",
   "id": "dab391e9",
   "metadata": {},
   "source": [
    "#### Summary\n",
    "\n",
    "![summary_array](./figures/summary_array.PNG)"
   ]
  },
  {
   "cell_type": "markdown",
   "id": "47ad6864",
   "metadata": {},
   "source": [
    "## 1.3 Doubly-Linked lists"
   ]
  },
  {
   "cell_type": "markdown",
   "id": "a2159dd2",
   "metadata": {},
   "source": [
    "+ Visual doubly-linked:\n",
    "\n",
    "![doubly_linked_list](./figures/doubly_linked_list.PNG)"
   ]
  },
  {
   "cell_type": "markdown",
   "id": "9cf8ad93",
   "metadata": {},
   "source": [
    "#### PushBack(key)\n",
    "\n",
    "![pushback](./figures/doubly_linked_pushback.PNG)"
   ]
  },
  {
   "cell_type": "markdown",
   "id": "1e1801c2",
   "metadata": {},
   "source": [
    "#### PopBack()"
   ]
  },
  {
   "cell_type": "markdown",
   "id": "e8438892",
   "metadata": {},
   "source": [
    "![doubly_linked_popback](./figures/doubly_linked_popback.PNG)"
   ]
  },
  {
   "cell_type": "markdown",
   "id": "1d1eed6f",
   "metadata": {},
   "source": [
    "#### AddAfter(node, key)"
   ]
  },
  {
   "cell_type": "markdown",
   "id": "fb2cb28f",
   "metadata": {},
   "source": [
    "![doubly_linked_addafter](./figures/doubly_linked_addafter.PNG)"
   ]
  },
  {
   "cell_type": "markdown",
   "id": "4c6a0b8e",
   "metadata": {},
   "source": [
    "#### Summary"
   ]
  },
  {
   "cell_type": "markdown",
   "id": "196a70f1",
   "metadata": {},
   "source": [
    "![doubly_linked_summary](./figures/doubly_linked_summary.PNG)"
   ]
  },
  {
   "cell_type": "markdown",
   "id": "9e797b64",
   "metadata": {},
   "source": [
    "# 2. Stack and Queues"
   ]
  },
  {
   "cell_type": "markdown",
   "id": "421d2be9",
   "metadata": {},
   "source": [
    "# 3. Trees"
   ]
  },
  {
   "cell_type": "markdown",
   "id": "c397f85d",
   "metadata": {},
   "source": [
    "# 4. "
   ]
  }
 ],
 "metadata": {
  "kernelspec": {
   "display_name": "Python 3",
   "language": "python",
   "name": "python3"
  },
  "language_info": {
   "codemirror_mode": {
    "name": "ipython",
    "version": 3
   },
   "file_extension": ".py",
   "mimetype": "text/x-python",
   "name": "python",
   "nbconvert_exporter": "python",
   "pygments_lexer": "ipython3",
   "version": "3.8.8"
  }
 },
 "nbformat": 4,
 "nbformat_minor": 5
}
