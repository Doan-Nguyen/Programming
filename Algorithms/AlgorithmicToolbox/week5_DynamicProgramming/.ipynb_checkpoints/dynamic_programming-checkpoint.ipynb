{
 "cells": [
  {
   "cell_type": "markdown",
   "id": "3d588cb9",
   "metadata": {},
   "source": [
    "# 5.1 Change Problem"
   ]
  },
  {
   "cell_type": "markdown",
   "id": "56eb0105",
   "metadata": {},
   "source": [
    "+ Problem overview: Find the minimum number of coins needed to make change.\n",
    "+ **Input**: An integer *money* & positive integers $coin_{1}, ... , coin_{d}$\n",
    "+ **Output**: The minimum number of coins with denominations $coin_{1}, ... , coin_{d}$ that changes money"
   ]
  },
  {
   "cell_type": "markdown",
   "id": "76419196",
   "metadata": {},
   "source": [
    "## 5.1.1 Greedy Way"
   ]
  },
  {
   "cell_type": "markdown",
   "id": "636d0c29",
   "metadata": {},
   "source": [
    "```\n",
    "GreedyChange(money)\n",
    "    # \n",
    "    change = []\n",
    "    while money > 0:\n",
    "        coin := largest_denomination\n",
    "        # money add coin to change\n",
    "        change.append(coin)\n",
    "        money := money - coin\n",
    "    return change            \n",
    "```"
   ]
  },
  {
   "cell_type": "code",
   "execution_count": null,
   "id": "00bc7fec",
   "metadata": {},
   "outputs": [],
   "source": [
    "def greedy_change(money):\n",
    "    '''\n",
    "    the coins with denominations 1, 3, 4.\n",
    "    '''\n",
    "    coin_denom = [4, 3, 1]\n",
    "    coins = 0\n",
    "    while(money > 0):\n",
    "        for coin in coin_denom:\n",
    "            numb_coin = int(money/coin)\n",
    "            if numb_coin > 0:\n",
    "                print(coin, numb_coin)\n",
    "                money = money - numb_coin*coin\n",
    "                coins += numb_coin\n",
    "    print(coins)                    \n",
    "    \n",
    "greedy_change(34)    "
   ]
  },
  {
   "cell_type": "markdown",
   "id": "b808e18c",
   "metadata": {},
   "source": [
    "## 5.1.2 Recursive Change"
   ]
  },
  {
   "cell_type": "markdown",
   "id": "d5deda70",
   "metadata": {},
   "source": [
    "![recursive_change](./figures/recursive_change.PNG)"
   ]
  },
  {
   "cell_type": "markdown",
   "id": "dcde63cc",
   "metadata": {},
   "source": [
    "+ Pseudo code:\n",
    "```\n",
    "if money = 0\n",
    "    return 0\n",
    "MinNumCoins := []   \n",
    "for i from [1, abs(coins)]:\n",
    "    if money >= coin_i: \n",
    "        NumCoins := RecursiveChange(money - coin_i, coins)\n",
    "    if NumCoins + 1 < MinNumCoins:\n",
    "        MinNumCoins := NumCoins + 1\n",
    "return MinNumCoins        \n",
    "```"
   ]
  },
  {
   "cell_type": "markdown",
   "id": "d03e3559",
   "metadata": {},
   "source": [
    "### 5.1.3 Dynamic Programming"
   ]
  },
  {
   "cell_type": "markdown",
   "id": "e0178890",
   "metadata": {},
   "source": [
    "+ Pseudo code\n",
    "```\n",
    "DPChange(money, coins):\n",
    "    MinNumCoins(0) := 0\n",
    "    for m from [1, money]:\n",
    "        MinNumCoins(m) := []\n",
    "        for i from [1, abs(coins)]:\n",
    "            if m >= coin_i:\n",
    "                NumCoins := MinNumCoins(m - coins_i) + 1\n",
    "                if NumCoins < MinNumCoins(m):\n",
    "                    MinNumCoins(m) := NumCoins\n",
    "   return MinNumCoins(money)                    \n",
    "```"
   ]
  },
  {
   "cell_type": "markdown",
   "id": "20417fe5",
   "metadata": {},
   "source": [
    "# 5.2 String Comparison"
   ]
  },
  {
   "cell_type": "markdown",
   "id": "42630069",
   "metadata": {},
   "source": [
    "### 5.2.1 The alignment game"
   ]
  },
  {
   "cell_type": "markdown",
   "id": "5ebee805",
   "metadata": {},
   "source": [
    "+ Alignment game: remove all symbols from 2 strings in such a way that the number of points is max.\n",
    "    - Remove the $1^{st}$ symbol from both strings:\n",
    "        - 1 point if the symbols match\n",
    "        - 0 point if they don't match.\n",
    "    - Remove 1 symbol from one of the strings:\n",
    "        - 0 point."
   ]
  },
  {
   "cell_type": "markdown",
   "id": "3c9787f9",
   "metadata": {},
   "source": [
    "```\n",
    "Consider:\n",
    "    - A T G T T A T A \n",
    "    - A T C G T C C\n",
    "1 ) A match A => + 1\n",
    "2 ) T match T => + 1 (2) point\n",
    "3 ) Remove/intersection C => + 0 \n",
    "    - A T G T T A T A\n",
    "    - A T G T C C\n",
    "4 ) G match G => + 1\n",
    "5 ) T match T => + 1\n",
    "6 ) remove T \n",
    "    - A T G T A T A\n",
    "    - A T G T C C\n",
    "7 ) remove T\n",
    "    - A T G T A A\n",
    "    - A T G T C C\n",
    "```"
   ]
  },
  {
   "cell_type": "markdown",
   "id": "713dc0ad",
   "metadata": {},
   "source": [
    "+ Alignment score:\n",
    "    ![alignment_score](./figures/alignment_score.PNG)"
   ]
  },
  {
   "cell_type": "markdown",
   "id": "dd101924",
   "metadata": {},
   "source": [
    "+ Input: two strings, mismatch penalty & indel penalty\n",
    "+ Output: An alignment of the strings max the score"
   ]
  },
  {
   "cell_type": "markdown",
   "id": "7475a265",
   "metadata": {},
   "source": [
    "### Common subsequence\n",
    "+ Matches in an alignment of two strings from their *common subsequence*"
   ]
  },
  {
   "cell_type": "markdown",
   "id": "35762756",
   "metadata": {},
   "source": [
    "### Longest common subsequence\n",
    "+ Input: two strings\n",
    "+ Output: a longest common subsequence of these strings.\n",
    "\n",
    "    - Max the length of a common subsequence corresponds to max the score of an alignment with mis_match = indel = 0"
   ]
  },
  {
   "cell_type": "markdown",
   "id": "41903bc6",
   "metadata": {},
   "source": [
    "### Edit distance\n",
    "+ Input: two strings\n",
    "+ Output: the min number of operations (insertions, deletions & substitutions of symbols) to transform one string into another."
   ]
  },
  {
   "cell_type": "code",
   "execution_count": null,
   "id": "ee4b3a15",
   "metadata": {},
   "outputs": [],
   "source": []
  },
  {
   "cell_type": "code",
   "execution_count": null,
   "id": "6509800f",
   "metadata": {},
   "outputs": [],
   "source": []
  },
  {
   "cell_type": "markdown",
   "id": "0ebd0bad",
   "metadata": {},
   "source": [
    "# 5.3 Additional Slides"
   ]
  },
  {
   "cell_type": "code",
   "execution_count": null,
   "id": "7bd1edd5",
   "metadata": {},
   "outputs": [],
   "source": []
  }
 ],
 "metadata": {
  "kernelspec": {
   "display_name": "Python 3",
   "language": "python",
   "name": "python3"
  },
  "language_info": {
   "codemirror_mode": {
    "name": "ipython",
    "version": 3
   },
   "file_extension": ".py",
   "mimetype": "text/x-python",
   "name": "python",
   "nbconvert_exporter": "python",
   "pygments_lexer": "ipython3",
   "version": "3.8.8"
  }
 },
 "nbformat": 4,
 "nbformat_minor": 5
}
