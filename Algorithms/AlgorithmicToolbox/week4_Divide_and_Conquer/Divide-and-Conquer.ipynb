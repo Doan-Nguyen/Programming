{
 "cells": [
  {
   "cell_type": "markdown",
   "id": "940ccf27",
   "metadata": {},
   "source": [
    "# 1. Introduction\n",
    "\n",
    "+ **Divide**: break into non-overlapping subproblems of the same type.\n",
    "+ Subproblems: \n",
    "    - the same type as the original \n",
    "    - No overlapping\n",
    "+ **Generaly strategy**\n",
    "    - Break into non-overlapping subproblems of the same type\n",
    "    - Solve subproblems\n",
    "    - Combine results"
   ]
  },
  {
   "cell_type": "markdown",
   "id": "6ee90e2a",
   "metadata": {},
   "source": [
    "![not subproblems](./figures/into.png)"
   ]
  },
  {
   "cell_type": "markdown",
   "id": "2efb277e",
   "metadata": {},
   "source": [
    "## 1.1 Linear search"
   ]
  },
  {
   "cell_type": "markdown",
   "id": "ffd28646",
   "metadata": {},
   "source": [
    "## Searching in an array\n",
    "+ Input: An array (unsorted) A with *n* elements. A key *k*.\n",
    "+ Output: An index *i*, where A[i] = k. If there is no such i, then Not_found"
   ]
  },
  {
   "cell_type": "markdown",
   "id": "5ca047eb",
   "metadata": {},
   "source": [
    "## Recursive solution"
   ]
  },
  {
   "cell_type": "markdown",
   "id": "ee146a1b",
   "metadata": {},
   "source": [
    "```\n",
    "LinearSearch(A, low, high, key):\n",
    "\n",
    "    '''\n",
    "    Args:\n",
    "        - A: the array of values\n",
    "        - low: the lower bound of the array in which to search\n",
    "        - high: the upper bound of the array in which to search\n",
    "        - k : the key to search\n",
    "    Return:\n",
    "        - an index in range [low, high]\n",
    "    '''\n",
    "    if high < low:\n",
    "        return NOT_FOUND\n",
    "    if A[low] == key:\n",
    "        return low\n",
    "    return LinearSearch(A, low + 1, high, key)\n",
    "```"
   ]
  },
  {
   "cell_type": "markdown",
   "id": "752978ef",
   "metadata": {},
   "source": [
    "### Definition:\n",
    "+ A **recurrence relation** is an equation recursively defining a sequence of values.\n",
    "\n",
    "+ Recurrence defining worst-case time:\n",
    "    **T(n) = T(n-1) + c**"
   ]
  },
  {
   "cell_type": "markdown",
   "id": "9c2a11b5",
   "metadata": {},
   "source": [
    "### Run-time of linear search\n",
    "\n",
    "![Runtime of linear search](./figures/runtime_linear_search.png)"
   ]
  },
  {
   "cell_type": "markdown",
   "id": "fba317f7",
   "metadata": {},
   "source": [
    "### Summary\n",
    "\n",
    "+ Create a recursive solution\n",
    "\n",
    "+ Define a corresponding recurrence relation T\n",
    "\n",
    "+ Determine T(n): worst-case runtime."
   ]
  },
  {
   "cell_type": "markdown",
   "id": "722e49be",
   "metadata": {},
   "source": [
    "## 1.2 Binary search"
   ]
  },
  {
   "cell_type": "markdown",
   "id": "9087c67c",
   "metadata": {},
   "source": [
    "### Searching in a sorted array\n",
    "\n",
    "+ Input: a sorted array A[low, high] & a key - *K*\n",
    "\n",
    "+ Output: \n",
    "    - an index - i (low <= i <= high) where A[i] = *K*. \n",
    "    - Otherwise, the greatest index *i* where A[i] < K.\n",
    "    - Otherwise, k <A[low], the results is low - 1"
   ]
  },
  {
   "cell_type": "code",
   "execution_count": 1,
   "id": "af559c70",
   "metadata": {},
   "outputs": [],
   "source": [
    "def binary_search(input_arr, input_num):\n",
    "    high_idx = len(input_arr)\n",
    "    low_idx = 0\n",
    "    while low_idx <= high_idx:\n",
    "        mid_idx = int((high_idx + low_idx)/2)\n",
    "        if input_arr[mid_idx] == input_num:\n",
    "            return mid_idx\n",
    "        elif input_arr[mid_idx] < input_num:\n",
    "            low_idx = mid_idx + 1\n",
    "        else:\n",
    "            high_idx = mid_idx - 1\n",
    "    return -1"
   ]
  },
  {
   "cell_type": "code",
   "execution_count": 3,
   "id": "a8ec09e4",
   "metadata": {},
   "outputs": [
    {
     "data": {
      "text/plain": [
       "-1"
      ]
     },
     "execution_count": 3,
     "metadata": {},
     "output_type": "execute_result"
    }
   ],
   "source": [
    "nums_arr = [1, 5, 9, 10, 14, 19, 33, 45, 60]\n",
    "input_num = 11\n",
    "binary_search(nums_arr, input_num)"
   ]
  },
  {
   "cell_type": "markdown",
   "id": "16dbf2f2",
   "metadata": {},
   "source": [
    "### Summary \n",
    "\n",
    "+ Break problem into non-overlapping subproblems of the same type.\n",
    "\n",
    "+ Recursiverly solve those subproblems\n",
    "\n",
    "+ Combine results of subproblems."
   ]
  },
  {
   "cell_type": "markdown",
   "id": "23c2170d",
   "metadata": {},
   "source": [
    "## 1.3 Binary search runtime"
   ]
  },
  {
   "cell_type": "markdown",
   "id": "88a11d38",
   "metadata": {},
   "source": [
    "![binary_search_runtime](./figures/binary_search_runtime.PNG)"
   ]
  },
  {
   "cell_type": "markdown",
   "id": "fd4cf0c9",
   "metadata": {},
   "source": [
    "+ Binary search recurrence relation\n",
    "T(n) = T(n/2) + c"
   ]
  },
  {
   "cell_type": "markdown",
   "id": "b3f90426",
   "metadata": {},
   "source": [
    "### Runtime of Binary Search\n",
    "\n",
    "![runtime_binary_search](./figures/runtime_binary_search.PNG)\n",
    "\n",
    "\n",
    "![total_runtime_binary_search](./figures/total_runtime_binary_search.PNG)"
   ]
  },
  {
   "cell_type": "markdown",
   "id": "fce55ad3",
   "metadata": {},
   "source": [
    "### Iterative version\n",
    "\n",
    "![iterative_binary_search](./figures/iterative_binary_search.PNG)"
   ]
  },
  {
   "cell_type": "code",
   "execution_count": null,
   "id": "69360438",
   "metadata": {},
   "outputs": [],
   "source": []
  },
  {
   "cell_type": "markdown",
   "id": "2abbc031",
   "metadata": {},
   "source": [
    "# 2. Polynomial Multiplication"
   ]
  },
  {
   "cell_type": "markdown",
   "id": "00a02868",
   "metadata": {},
   "source": [
    "## 2.1 Problem overview & naive solution\n"
   ]
  },
  {
   "cell_type": "markdown",
   "id": "30405201",
   "metadata": {},
   "source": [
    "+ Use of multiplying polynomials\n",
    "\n",
    "    - Error-correcting codes\n",
    "    - Large-integer multiplication\n",
    "    - Generating functions\n",
    "    - Convolution in signal processing"
   ]
  },
  {
   "cell_type": "code",
   "execution_count": null,
   "id": "25f83e8b",
   "metadata": {},
   "outputs": [],
   "source": []
  },
  {
   "cell_type": "markdown",
   "id": "19398eac",
   "metadata": {},
   "source": [
    "## 2.2 Naive divide & conquer algorithm"
   ]
  },
  {
   "cell_type": "markdown",
   "id": "31aabda0",
   "metadata": {},
   "source": [
    "## 2.3 Faster divide & conquer algorithm"
   ]
  },
  {
   "cell_type": "code",
   "execution_count": null,
   "id": "e49834f1",
   "metadata": {},
   "outputs": [],
   "source": []
  },
  {
   "cell_type": "markdown",
   "id": "3c9550ec",
   "metadata": {},
   "source": [
    "# 3. Master Theorem"
   ]
  },
  {
   "cell_type": "markdown",
   "id": "0fd442ff",
   "metadata": {},
   "source": [
    "## 3.1 What is master theorem ?"
   ]
  },
  {
   "cell_type": "markdown",
   "id": "e4c7e116",
   "metadata": {},
   "source": [
    "## 3.2 Proof of the master theorem"
   ]
  },
  {
   "cell_type": "markdown",
   "id": "3c031071",
   "metadata": {},
   "source": [
    "![master_theorem](./figures/master_theorem.PNG)"
   ]
  },
  {
   "cell_type": "markdown",
   "id": "cd020ce8",
   "metadata": {},
   "source": [
    "# 4. Sorting problem"
   ]
  },
  {
   "cell_type": "markdown",
   "id": "1f4baa54",
   "metadata": {},
   "source": [
    "## 4.1 Problem overview"
   ]
  },
  {
   "cell_type": "markdown",
   "id": "4ccd914d",
   "metadata": {},
   "source": [
    "+ Sorting \n",
    "    - Input: sequence A[1, ..., n]\n",
    "    - Output: permutation A'[1, ..., n] of A[1, ..., n] in non-decreasing order."
   ]
  },
  {
   "cell_type": "markdown",
   "id": "869517d2",
   "metadata": {},
   "source": [
    "## 4.2 Selection sort"
   ]
  },
  {
   "cell_type": "markdown",
   "id": "29683202",
   "metadata": {},
   "source": [
    "+ Steps:\n",
    "    - Find a minimum by scanning the array.\n",
    "    - Swap it with the first element.\n",
    "    - Repeat with the remaining part of the array."
   ]
  },
  {
   "cell_type": "code",
   "execution_count": 8,
   "id": "647ab677",
   "metadata": {},
   "outputs": [],
   "source": [
    "input_arr = [4, 8, 2, 5, 2]\n",
    "#\n",
    "def swap(input_arr, first, end):\n",
    "    input_arr[first], input_arr[end] = input_arr[end], input_arr[first]\n",
    "    return input_arr\n",
    "\n",
    "def selection_sort(input_arr):\n",
    "    for i in range(len(input_arr)):\n",
    "        min_idx = i\n",
    "        for j in range(i + 1, len(input_arr)):\n",
    "            if input_arr[j] < input_arr[min_idx]:\n",
    "                min_idx = j\n",
    "        input_arr = swap(input_arr, i, min_idx)\n",
    "    return input_arr"
   ]
  },
  {
   "cell_type": "code",
   "execution_count": 9,
   "id": "771a8fca",
   "metadata": {},
   "outputs": [
    {
     "name": "stdout",
     "output_type": "stream",
     "text": [
      "[2, 2, 4, 5, 8]\n"
     ]
    }
   ],
   "source": [
    "min_value = selection_sort(input_arr)\n",
    "print(min_value)"
   ]
  },
  {
   "cell_type": "markdown",
   "id": "17905842",
   "metadata": {},
   "source": [
    "+ Selection Sort: Summary\n",
    "    - Worst case: $O(n^{2})$\n",
    "    - Best case: $O(n)$\n",
    "    - Sorts in place: requires a constant amount of extra memory."
   ]
  },
  {
   "cell_type": "markdown",
   "id": "ef6f3ecb",
   "metadata": {},
   "source": [
    "## 4.3 Merge sort"
   ]
  },
  {
   "cell_type": "markdown",
   "id": "f41ca5ea",
   "metadata": {},
   "source": [
    "+ **Idea**: Split the array into two halves -> sort the halves recursively."
   ]
  },
  {
   "cell_type": "markdown",
   "id": "e2bbc78a",
   "metadata": {},
   "source": [
    "![example_merge_sort](./figures/example_merge_sort.PNG)"
   ]
  },
  {
   "cell_type": "code",
   "execution_count": 40,
   "id": "5e363e28",
   "metadata": {},
   "outputs": [],
   "source": [
    "input_list = [4, 8, 2, 5, 2, 3, 10, 7, 23]\n",
    "\n",
    "def merger_list(left_list, right_list):\n",
    "    i = 0\n",
    "    j = 0\n",
    "    final_list = []\n",
    "    while(i < len(left_list) and j <len(right_list)):\n",
    "        if left_list[i] <= right_list[j]:\n",
    "            final_list.append(left_list[i])\n",
    "            i += 1\n",
    "        else:\n",
    "            final_list.append(right_list[j])\n",
    "            j += 1\n",
    "    # concatenate the rest of the left & right sublists\n",
    "    final_list += left_list[i:]\n",
    "    final_list += right_list[:j]\n",
    "    return final_list\n",
    "            \n",
    "        \n",
    "def merger_sort(input_list):\n",
    "    leng_list = len(input_list)\n",
    "    if leng_list <= 1:\n",
    "        return input_list\n",
    "    mid_idx = int(leng_list/2)\n",
    "    left_list = merger_sort(input_list[:mid_idx])\n",
    "    right_list = merger_sort(input_list[mid_idx:])\n",
    "    final_list = merger_list(left_list, right_list)\n",
    "    return final_list"
   ]
  },
  {
   "cell_type": "code",
   "execution_count": 41,
   "id": "3902cbce",
   "metadata": {},
   "outputs": [
    {
     "data": {
      "text/plain": [
       "[2, 2, 4, 2, 2]"
      ]
     },
     "execution_count": 41,
     "metadata": {},
     "output_type": "execute_result"
    }
   ],
   "source": [
    "arr = merger_sort(input_list)\n",
    "arr"
   ]
  },
  {
   "cell_type": "markdown",
   "id": "26e54ed3",
   "metadata": {},
   "source": []
  },
  {
   "cell_type": "markdown",
   "id": "099b698b",
   "metadata": {},
   "source": [
    "## 4.4 Lower bound for comparison based sorting"
   ]
  },
  {
   "cell_type": "markdown",
   "id": "8ee91d24",
   "metadata": {},
   "source": [
    "+ **Lemma:**\n",
    "    - Any comparison based sorting algorithms performs $\\Omega(n log(n))$ comparisons in the worst case to sort *n* objects.\n",
    "\n",
    "+ In other words:\n",
    "    - For any comparison based sorting algorithm, thers exists an array A[1, ..., n] such that th algorithm performs at least $\\Omega(n logn)$ comparisons to sort A"
   ]
  },
  {
   "cell_type": "markdown",
   "id": "206b85a7",
   "metadata": {},
   "source": [
    "+ **Estimating Tree Depth**\n",
    "    - The number of leaves *l* in the tree must be at least *n!* (the total number of permutations - hoán vị)\n",
    "    \n",
    "    - The worst-case running time of the algorithm (the number of comparisons made) is at least the depth *d*.\n",
    "    \n",
    "    - $d \\geq log_{2}l$\n",
    "    \n",
    "    - the running time is at least:\n",
    "         $log_{2}(n!) = \\Omega(n log n)$"
   ]
  },
  {
   "cell_type": "markdown",
   "id": "6906d1a5",
   "metadata": {},
   "source": [
    "## 4.5 Non-comparison based sorting algorithms"
   ]
  },
  {
   "cell_type": "markdown",
   "id": "b0140f8e",
   "metadata": {},
   "source": [
    "+ **Counting sort: ideas**\n",
    "    - Assume that all elements of A[1, ..., n] are integers from 1 to M\n",
    "    - By a single scan of the array A, count the number of occurrences of each $1 \\leq k \\leq M$ in the array A and store it in Count[k]\n",
    "    - Using this information, fill in the stored array A'."
   ]
  },
  {
   "cell_type": "markdown",
   "id": "8bdeea2d",
   "metadata": {},
   "source": [
    "![count_sorting](./figures/count_sorting.PNG)"
   ]
  },
  {
   "cell_type": "markdown",
   "id": "bc50a340",
   "metadata": {},
   "source": [
    "+ **Lemma**:\n",
    "    - Provided that all elements of A[1, ..., n] are integers from 1 to M, CountSort(A) sorts A in time 0(n + M)"
   ]
  },
  {
   "cell_type": "markdown",
   "id": "93c6bdc6",
   "metadata": {},
   "source": [
    "### Summary\n",
    "\n",
    "+ Merge sort uses the divide-and-conquer strategy to sort an n-element array in time O(n log n)\n",
    "\n",
    "+ No comparisons based algorithm can do this (asymptotically - tiệm cận) faster.\n",
    "\n",
    "+ One can do faster if something is known about the input array in advance."
   ]
  },
  {
   "cell_type": "markdown",
   "id": "610bd783",
   "metadata": {},
   "source": [
    "# 5. Quick sort"
   ]
  },
  {
   "cell_type": "markdown",
   "id": "8cd2842c",
   "metadata": {},
   "source": [
    "## 5.1 Overview"
   ]
  },
  {
   "cell_type": "markdown",
   "id": "fbb711aa",
   "metadata": {},
   "source": [
    "+ Comparison based algorithm\n",
    "+ Running time: O(n logn)\n",
    "+ Efficient in practive"
   ]
  },
  {
   "cell_type": "markdown",
   "id": "65aa5975",
   "metadata": {},
   "source": [
    "+ **Idea**:\n",
    "\n",
    "![idea_quick_sort](./figures/idea_quick_sort.PNG)"
   ]
  },
  {
   "cell_type": "markdown",
   "id": "bc9085c8",
   "metadata": {},
   "source": [
    "## 5.2 Algorithm"
   ]
  },
  {
   "cell_type": "markdown",
   "id": "853126c7",
   "metadata": {},
   "source": [
    "```\n",
    "def quick_sort(A, l, r):\n",
    "    if l >= r:\n",
    "        return\n",
    "    m := Partition(A, l, r)\n",
    "    # A[m]: is the final position.\n",
    "    quick_sort(A, l, m - 1)\n",
    "    quick_sort(A, m + 1, r)\n",
    "```"
   ]
  },
  {
   "cell_type": "markdown",
   "id": "a2f03dca",
   "metadata": {},
   "source": [
    "### Quicksort Pipeline"
   ]
  },
  {
   "cell_type": "markdown",
   "id": "699e25d0",
   "metadata": {},
   "source": [
    "![quick_sort_pipeline](./figures/quick_sort_pipeline.PNG)"
   ]
  },
  {
   "cell_type": "code",
   "execution_count": null,
   "id": "5a47264a",
   "metadata": {},
   "outputs": [],
   "source": []
  },
  {
   "cell_type": "markdown",
   "id": "35071558",
   "metadata": {},
   "source": [
    "## 5.3 Equal elements"
   ]
  },
  {
   "cell_type": "markdown",
   "id": "a09e26ac",
   "metadata": {},
   "source": [
    "## 5.4 Running time analysis "
   ]
  },
  {
   "cell_type": "markdown",
   "id": "cfaaf934",
   "metadata": {},
   "source": [
    "+ Proof ideas: Comparisons\n",
    "    - the running time is proportional to the number of comparisons made.\n",
    "    - "
   ]
  },
  {
   "cell_type": "markdown",
   "id": "11059bd7",
   "metadata": {},
   "source": [
    "## 5.5 Final remarks"
   ]
  },
  {
   "cell_type": "code",
   "execution_count": null,
   "id": "1d3b456b",
   "metadata": {},
   "outputs": [],
   "source": []
  }
 ],
 "metadata": {
  "kernelspec": {
   "display_name": "Python 3",
   "language": "python",
   "name": "python3"
  },
  "language_info": {
   "codemirror_mode": {
    "name": "ipython",
    "version": 3
   },
   "file_extension": ".py",
   "mimetype": "text/x-python",
   "name": "python",
   "nbconvert_exporter": "python",
   "pygments_lexer": "ipython3",
   "version": "3.8.8"
  }
 },
 "nbformat": 4,
 "nbformat_minor": 5
}
