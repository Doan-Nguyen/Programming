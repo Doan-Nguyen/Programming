{
 "cells": [
  {
   "cell_type": "markdown",
   "id": "940ccf27",
   "metadata": {},
   "source": [
    "# 1. Introduction\n",
    "\n",
    "+ **Divide**: break into non-overlapping subproblems of the same type.\n",
    "+ Subproblems: \n",
    "    - the same type as the original \n",
    "    - No overlapping\n",
    "+ **Generaly strategy**\n",
    "    - Break into non-overlapping subproblems of the same type\n",
    "    - Solve subproblems\n",
    "    - Combine results"
   ]
  },
  {
   "cell_type": "markdown",
   "id": "6ee90e2a",
   "metadata": {},
   "source": [
    "![not subproblems](./figures/into.png)"
   ]
  },
  {
   "cell_type": "markdown",
   "id": "2efb277e",
   "metadata": {},
   "source": [
    "## 1.1 Linear search"
   ]
  },
  {
   "cell_type": "markdown",
   "id": "ffd28646",
   "metadata": {},
   "source": [
    "## Searching in an array\n",
    "+ Input: An array (unsorted) A with *n* elements. A key *k*.\n",
    "+ Output: An index *i*, where A[i] = k. If there is no such i, then Not_found"
   ]
  },
  {
   "cell_type": "markdown",
   "id": "5ca047eb",
   "metadata": {},
   "source": [
    "## Recursive solution"
   ]
  },
  {
   "cell_type": "markdown",
   "id": "ee146a1b",
   "metadata": {},
   "source": [
    "```\n",
    "LinearSearch(A, low, high, key):\n",
    "\n",
    "    '''\n",
    "    Args:\n",
    "        - A: the array of values\n",
    "        - low: the lower bound of the array in which to search\n",
    "        - high: the upper bound of the array in which to search\n",
    "        - k : the key to search\n",
    "    Return:\n",
    "        - an index in range [low, high]\n",
    "    '''\n",
    "    if high < low:\n",
    "        return NOT_FOUND\n",
    "    if A[low] == key:\n",
    "        return low\n",
    "    return LinearSearch(A, low + 1, high, key)\n",
    "```"
   ]
  },
  {
   "cell_type": "markdown",
   "id": "752978ef",
   "metadata": {},
   "source": [
    "### Definition:\n",
    "+ A **recurrence relation** is an equation recursively defining a sequence of values.\n",
    "\n",
    "+ Recurrence defining worst-case time:\n",
    "    **T(n) = T(n-1) + c**"
   ]
  },
  {
   "cell_type": "markdown",
   "id": "9c2a11b5",
   "metadata": {},
   "source": [
    "### Run-time of linear search\n",
    "\n",
    "![Runtime of linear search](./figures/runtime_linear_search.png)"
   ]
  },
  {
   "cell_type": "markdown",
   "id": "fba317f7",
   "metadata": {},
   "source": [
    "### Summary\n",
    "\n",
    "+ Create a recursive solution\n",
    "\n",
    "+ Define a corresponding recurrence relation T\n",
    "\n",
    "+ Determine T(n): worst-case runtime."
   ]
  },
  {
   "cell_type": "markdown",
   "id": "722e49be",
   "metadata": {},
   "source": [
    "## 1.2 Binary search"
   ]
  },
  {
   "cell_type": "markdown",
   "id": "9087c67c",
   "metadata": {},
   "source": [
    "### Searching in a sorted array\n",
    "\n",
    "+ Input: a sorted array A[low, high] & a key - *K*\n",
    "\n",
    "+ Output: \n",
    "    - an index - i (low <= i <= high) where A[i] = *K*. \n",
    "    - Otherwise, the greatest index *i* where A[i] < K.\n",
    "    - Otherwise, k <A[low], the results is low - 1"
   ]
  },
  {
   "cell_type": "code",
   "execution_count": 1,
   "id": "af559c70",
   "metadata": {},
   "outputs": [],
   "source": [
    "def binary_search(input_arr, input_num):\n",
    "    high_idx = len(input_arr)\n",
    "    low_idx = 0\n",
    "    while low_idx <= high_idx:\n",
    "        mid_idx = int((high_idx + low_idx)/2)\n",
    "        if input_arr[mid_idx] == input_num:\n",
    "            return mid_idx\n",
    "        elif input_arr[mid_idx] < input_num:\n",
    "            low_idx = mid_idx + 1\n",
    "        else:\n",
    "            high_idx = mid_idx - 1\n",
    "    return -1"
   ]
  },
  {
   "cell_type": "code",
   "execution_count": 3,
   "id": "a8ec09e4",
   "metadata": {},
   "outputs": [
    {
     "data": {
      "text/plain": [
       "-1"
      ]
     },
     "execution_count": 3,
     "metadata": {},
     "output_type": "execute_result"
    }
   ],
   "source": [
    "nums_arr = [1, 5, 9, 10, 14, 19, 33, 45, 60]\n",
    "input_num = 11\n",
    "binary_search(nums_arr, input_num)"
   ]
  },
  {
   "cell_type": "markdown",
   "id": "16dbf2f2",
   "metadata": {},
   "source": [
    "### Summary \n",
    "\n",
    "+ Break problem into non-overlapping subproblems of the same type.\n",
    "\n",
    "+ Recursiverly solve those subproblems\n",
    "\n",
    "+ Combine results of subproblems."
   ]
  },
  {
   "cell_type": "markdown",
   "id": "23c2170d",
   "metadata": {},
   "source": [
    "## 1.3 Binary search runtime"
   ]
  },
  {
   "cell_type": "markdown",
   "id": "88a11d38",
   "metadata": {},
   "source": [
    "![binary_search_runtime](./figures/binary_search_runtime.PNG)"
   ]
  },
  {
   "cell_type": "markdown",
   "id": "fd4cf0c9",
   "metadata": {},
   "source": [
    "+ Binary search recurrence relation\n",
    "T(n) = T(n/2) + c"
   ]
  },
  {
   "cell_type": "markdown",
   "id": "b3f90426",
   "metadata": {},
   "source": [
    "### Runtime of Binary Search\n",
    "\n",
    "![runtime_binary_search](./figures/runtime_binary_search.PNG)\n",
    "\n",
    "\n",
    "![total_runtime_binary_search](./figures/total_runtime_binary_search.PNG)"
   ]
  },
  {
   "cell_type": "markdown",
   "id": "fce55ad3",
   "metadata": {},
   "source": [
    "### Iterative version\n",
    "\n",
    "![iterative_binary_search](./figures/iterative_binary_search.PNG)"
   ]
  },
  {
   "cell_type": "code",
   "execution_count": null,
   "id": "69360438",
   "metadata": {},
   "outputs": [],
   "source": []
  },
  {
   "cell_type": "markdown",
   "id": "2abbc031",
   "metadata": {},
   "source": [
    "# 2. Polynomial Multiplication"
   ]
  },
  {
   "cell_type": "markdown",
   "id": "00a02868",
   "metadata": {},
   "source": [
    "## 2.1 Problem overview & naive solution\n"
   ]
  },
  {
   "cell_type": "markdown",
   "id": "30405201",
   "metadata": {},
   "source": [
    "+ Use of multiplying polynomials\n",
    "\n",
    "    - Error-correcting codes\n",
    "    - Large-integer multiplication\n",
    "    - Generating functions\n",
    "    - Convolution in signal processing"
   ]
  },
  {
   "cell_type": "code",
   "execution_count": null,
   "id": "25f83e8b",
   "metadata": {},
   "outputs": [],
   "source": []
  },
  {
   "cell_type": "markdown",
   "id": "19398eac",
   "metadata": {},
   "source": [
    "## 2.2 Naive divide & conquer algorithm"
   ]
  },
  {
   "cell_type": "markdown",
   "id": "31aabda0",
   "metadata": {},
   "source": [
    "## 2.3 Faster divide & conquer algorithm"
   ]
  },
  {
   "cell_type": "code",
   "execution_count": null,
   "id": "e49834f1",
   "metadata": {},
   "outputs": [],
   "source": []
  },
  {
   "cell_type": "markdown",
   "id": "3c9550ec",
   "metadata": {},
   "source": [
    "# 3. Master Theorem"
   ]
  },
  {
   "cell_type": "markdown",
   "id": "0fd442ff",
   "metadata": {},
   "source": [
    "## 3.1 What is master theorem ?"
   ]
  },
  {
   "cell_type": "markdown",
   "id": "e4c7e116",
   "metadata": {},
   "source": [
    "## 3.2 Proof of the master theorem"
   ]
  },
  {
   "cell_type": "code",
   "execution_count": null,
   "id": "0fddd4d2",
   "metadata": {},
   "outputs": [],
   "source": []
  },
  {
   "cell_type": "markdown",
   "id": "cd020ce8",
   "metadata": {},
   "source": [
    "# 4. Sorting problem"
   ]
  },
  {
   "cell_type": "markdown",
   "id": "1f4baa54",
   "metadata": {},
   "source": [
    "## 4.1 Problem overview"
   ]
  },
  {
   "cell_type": "markdown",
   "id": "869517d2",
   "metadata": {},
   "source": [
    "## 4.2 Selection sort"
   ]
  },
  {
   "cell_type": "markdown",
   "id": "ef6f3ecb",
   "metadata": {},
   "source": [
    "## 4.3 Merge sort"
   ]
  },
  {
   "cell_type": "markdown",
   "id": "099b698b",
   "metadata": {},
   "source": [
    "## 4.4 Lower bound for comparison based sorting"
   ]
  },
  {
   "cell_type": "markdown",
   "id": "6906d1a5",
   "metadata": {},
   "source": [
    "## 4.5 Non-comparison based sorting algorithms"
   ]
  },
  {
   "cell_type": "markdown",
   "id": "610bd783",
   "metadata": {},
   "source": [
    "# 5. Quick sort"
   ]
  },
  {
   "cell_type": "code",
   "execution_count": null,
   "id": "d6cf60e9",
   "metadata": {},
   "outputs": [],
   "source": []
  }
 ],
 "metadata": {
  "kernelspec": {
   "display_name": "Python 3",
   "language": "python",
   "name": "python3"
  },
  "language_info": {
   "codemirror_mode": {
    "name": "ipython",
    "version": 3
   },
   "file_extension": ".py",
   "mimetype": "text/x-python",
   "name": "python",
   "nbconvert_exporter": "python",
   "pygments_lexer": "ipython3",
   "version": "3.8.8"
  }
 },
 "nbformat": 4,
 "nbformat_minor": 5
}
