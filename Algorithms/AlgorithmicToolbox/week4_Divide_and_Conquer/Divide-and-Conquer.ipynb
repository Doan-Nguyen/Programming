{
 "cells": [
  {
   "cell_type": "markdown",
   "id": "940ccf27",
   "metadata": {},
   "source": [
    "# 1. Introduction\n",
    "\n",
    "+ **Divide**: break into non-overlapping subproblems of the same type.\n",
    "+ Subproblems: \n",
    "    - the same type as the original \n",
    "    - No overlapping\n",
    "+ **Generaly strategy**\n",
    "    - Break into non-overlapping subproblems of the same type\n",
    "    - Solve subproblems\n",
    "    - Combine results"
   ]
  },
  {
   "cell_type": "markdown",
   "id": "6ee90e2a",
   "metadata": {},
   "source": [
    "![not subproblems](./figures/into.png)"
   ]
  },
  {
   "cell_type": "markdown",
   "id": "2efb277e",
   "metadata": {},
   "source": [
    "## 1.1 Linear search"
   ]
  },
  {
   "cell_type": "markdown",
   "id": "ffd28646",
   "metadata": {},
   "source": [
    "## Searching in an array\n",
    "+ Input: An array (unsorted) A with *n* elements. A key *k*.\n",
    "+ Output: An index *i*, where A[i] = k. If there is no such i, then Not_found"
   ]
  },
  {
   "cell_type": "markdown",
   "id": "5ca047eb",
   "metadata": {},
   "source": [
    "## Recursive solution"
   ]
  },
  {
   "cell_type": "markdown",
   "id": "ee146a1b",
   "metadata": {},
   "source": [
    "```\n",
    "LinearSearch(A, low, high, key):\n",
    "\n",
    "    '''\n",
    "    Args:\n",
    "        - A: the array of values\n",
    "        - low: the lower bound of the array in which to search\n",
    "        - high: the upper bound of the array in which to search\n",
    "        - k : the key to search\n",
    "    Return:\n",
    "        - an index in range [low, high]\n",
    "    '''\n",
    "    if high < low:\n",
    "        return NOT_FOUND\n",
    "    if A[low] == key:\n",
    "        return low\n",
    "    return LinearSearch(A, low + 1, high, key)\n",
    "```"
   ]
  },
  {
   "cell_type": "markdown",
   "id": "752978ef",
   "metadata": {},
   "source": [
    "### Definition:\n",
    "+ A **recurrence relation** is an equation recursively defining a sequence of values.\n",
    "\n",
    "+ Recurrence defining worst-case time:\n",
    "    T(n) = T(n-1) + c"
   ]
  },
  {
   "cell_type": "markdown",
   "id": "9c2a11b5",
   "metadata": {},
   "source": [
    "### Run-time of linear search\n",
    "\n",
    "![Runtime of linear search](./figures/runtime_linear_search.png)"
   ]
  },
  {
   "cell_type": "markdown",
   "id": "722e49be",
   "metadata": {},
   "source": [
    "## 1.2 Binary search"
   ]
  },
  {
   "cell_type": "markdown",
   "id": "23c2170d",
   "metadata": {},
   "source": [
    "## 1.3 Binary search runtime"
   ]
  },
  {
   "cell_type": "markdown",
   "id": "88a11d38",
   "metadata": {},
   "source": []
  },
  {
   "cell_type": "markdown",
   "id": "2abbc031",
   "metadata": {},
   "source": [
    "# 2. Polynomial Multiplication"
   ]
  },
  {
   "cell_type": "markdown",
   "id": "00a02868",
   "metadata": {},
   "source": [
    "## 2.1 Problem overview & naive solution"
   ]
  },
  {
   "cell_type": "markdown",
   "id": "19398eac",
   "metadata": {},
   "source": [
    "## 2.2 Naive divide & conquer algorithm"
   ]
  },
  {
   "cell_type": "markdown",
   "id": "31aabda0",
   "metadata": {},
   "source": [
    "## 2.3 Faster divide & conquer algorithm"
   ]
  },
  {
   "cell_type": "code",
   "execution_count": null,
   "id": "e49834f1",
   "metadata": {},
   "outputs": [],
   "source": []
  },
  {
   "cell_type": "markdown",
   "id": "3c9550ec",
   "metadata": {},
   "source": [
    "# 3. Master Theorem"
   ]
  },
  {
   "cell_type": "markdown",
   "id": "0fd442ff",
   "metadata": {},
   "source": [
    "## 3.1 What is master theorem ?"
   ]
  },
  {
   "cell_type": "markdown",
   "id": "e4c7e116",
   "metadata": {},
   "source": [
    "## 3.2 Proof of the master theorem"
   ]
  },
  {
   "cell_type": "code",
   "execution_count": null,
   "id": "0fddd4d2",
   "metadata": {},
   "outputs": [],
   "source": []
  },
  {
   "cell_type": "markdown",
   "id": "cd020ce8",
   "metadata": {},
   "source": [
    "# 4. Sorting problem"
   ]
  },
  {
   "cell_type": "markdown",
   "id": "1f4baa54",
   "metadata": {},
   "source": [
    "## 4.1 Problem overview"
   ]
  },
  {
   "cell_type": "markdown",
   "id": "869517d2",
   "metadata": {},
   "source": [
    "## 4.2 Selection sort"
   ]
  },
  {
   "cell_type": "markdown",
   "id": "ef6f3ecb",
   "metadata": {},
   "source": [
    "## 4.3 Merge sort"
   ]
  },
  {
   "cell_type": "markdown",
   "id": "099b698b",
   "metadata": {},
   "source": [
    "## 4.4 Lower bound for comparison based sorting"
   ]
  },
  {
   "cell_type": "markdown",
   "id": "6906d1a5",
   "metadata": {},
   "source": [
    "## 4.5 Non-comparison based sorting algorithms"
   ]
  },
  {
   "cell_type": "markdown",
   "id": "610bd783",
   "metadata": {},
   "source": [
    "# 5. Quick sort"
   ]
  },
  {
   "cell_type": "code",
   "execution_count": null,
   "id": "d6cf60e9",
   "metadata": {},
   "outputs": [],
   "source": []
  }
 ],
 "metadata": {
  "kernelspec": {
   "display_name": "Python 3",
   "language": "python",
   "name": "python3"
  },
  "language_info": {
   "codemirror_mode": {
    "name": "ipython",
    "version": 3
   },
   "file_extension": ".py",
   "mimetype": "text/x-python",
   "name": "python",
   "nbconvert_exporter": "python",
   "pygments_lexer": "ipython3",
   "version": "3.7.3"
  }
 },
 "nbformat": 4,
 "nbformat_minor": 5
}
