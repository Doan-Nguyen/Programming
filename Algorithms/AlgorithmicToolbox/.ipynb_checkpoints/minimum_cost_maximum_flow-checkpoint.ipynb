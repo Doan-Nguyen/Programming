{
 "cells": [
  {
   "cell_type": "markdown",
   "id": "d7c1fd5d",
   "metadata": {},
   "source": [
    "# Minimum Cost Maximum Flow"
   ]
  },
  {
   "cell_type": "markdown",
   "id": "801ad3da",
   "metadata": {},
   "source": [
    "## Problem:\n",
    "+ Bài toán luồng cực đại có chi phí nhỏ nhất: thực hiện 2 task vụ trong mạng\n",
    "    - Tối thiểu chi phí\n",
    "    - Tối đa luồng có thể chạy\n",
    "+ Là bài toán mở rộng với thêm điều kiện về chi phí tại mỗi cạnh/luồng."
   ]
  },
  {
   "cell_type": "markdown",
   "id": "de1de515",
   "metadata": {},
   "source": [
    "+ Input: \n",
    "    - A source node **S**\n",
    "    - A sink node **T**\n",
    "+ 2 metrics:\n",
    "    - Cap[i][j]: the capacity of a directed edge from node i to node j\n",
    "    - Cose[i][j]: the cost of sending one unit a flow along a directed edge from node i to node j."
   ]
  },
  {
   "cell_type": "markdown",
   "id": "55174f75",
   "metadata": {},
   "source": [
    "+ Dieu kien: \n",
    "    - Tren cac canh u -> v, luồng sẽ chỉ chạy với khả năng không âm & nhỏ hơn khả năng tối đa:  0 <= f(u->v) <= c(u->v).\n",
    "    - Voi moi dinh u (u # sink & u # source), luồng vào bằng luồng ra. \n",
    "    - Giá trị của một luông được định nghĩa: \n",
    "    - Chi phí của một luồng được định nghĩa: "
   ]
  },
  {
   "cell_type": "markdown",
   "id": "428a4d9a",
   "metadata": {},
   "source": [
    "## Reference:\n",
    "[1] http://www.giaithuatlaptrinh.com/?tag=minimum-cost-flow\n",
    "[2] https://www.hackerearth.com/practice/algorithms/graphs/minimum-cost-maximum-flow/tutorial/\n",
    "[3] https://codeforces.com/blog/entry/95823"
   ]
  }
 ],
 "metadata": {
  "kernelspec": {
   "display_name": "Python 3",
   "language": "python",
   "name": "python3"
  },
  "language_info": {
   "codemirror_mode": {
    "name": "ipython",
    "version": 3
   },
   "file_extension": ".py",
   "mimetype": "text/x-python",
   "name": "python",
   "nbconvert_exporter": "python",
   "pygments_lexer": "ipython3",
   "version": "3.8.8"
  }
 },
 "nbformat": 4,
 "nbformat_minor": 5
}
