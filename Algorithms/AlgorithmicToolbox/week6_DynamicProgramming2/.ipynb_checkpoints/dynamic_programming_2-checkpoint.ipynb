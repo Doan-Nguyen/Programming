{
 "cells": [
  {
   "cell_type": "markdown",
   "metadata": {},
   "source": [
    "# Learning Objectives\n",
    "+ Implementing dynamic programming solutions\n",
    "+ Learn more complex applications of dynamic programming\n",
    "+ Implement efficient solutions to various problems in combinatorial optimization."
   ]
  },
  {
   "cell_type": "markdown",
   "metadata": {},
   "source": [
    "# Knapsack"
   ]
  },
  {
   "cell_type": "markdown",
   "metadata": {},
   "source": [
    "## Problem overview\n",
    "\n",
    "+ Select a set of TV commercials {duration & cost}. The total revenue is maximal while the total length does not exceed the length of the available time slot.\n",
    "\n",
    "+ Output: the maximal performance under limited budget."
   ]
  },
  {
   "cell_type": "markdown",
   "metadata": {},
   "source": [
    "+ Knapsack problem\n",
    "\n",
    "![knapsack_problem](./figures/knapsack_problem.PNG)"
   ]
  },
  {
   "cell_type": "markdown",
   "metadata": {},
   "source": [
    "+ Problem variations:\n",
    "    - Fractional knapsack (take fractions of items)\n",
    "    - Knapsack\n",
    "    - Discrete knapsack (each item is either taken or not):\n",
    "      - With repetitions: unlimited quantities.\n",
    "      - Without repetitions: one of each item."
   ]
  },
  {
   "cell_type": "markdown",
   "metadata": {},
   "source": [
    "+ Example: \n",
    "    - We have 4 items: \n",
    "      - A {6 parts, total cost: 30}\n",
    "      - B {3 parts, total cost: 14}\n",
    "      - C {4 parts, total cost: 16}\n",
    "      - D {2 parts, total cost: 9}\n",
    "    - We just pick 10 parts. How to optimal total cost ?"
   ]
  },
  {
   "cell_type": "markdown",
   "metadata": {},
   "source": [
    "![knapsack_example](./figures/knapsack_example.PNG)"
   ]
  },
  {
   "cell_type": "markdown",
   "metadata": {},
   "source": [
    "+ Why does greedy fail for the discrete ?\n",
    "    - Taking an element of maximum value per unit of weight is not safe !"
   ]
  },
  {
   "cell_type": "markdown",
   "metadata": {},
   "source": [
    "## Knapsack with repetitions"
   ]
  },
  {
   "cell_type": "markdown",
   "metadata": {},
   "source": [
    "+ Compare knapsack with repetitions & without repetitions:\n",
    "\n",
    "![compare_with_and_without_repetitions](./figures/compare_with_and_without_repetitions.PNG)"
   ]
  },
  {
   "cell_type": "markdown",
   "metadata": {},
   "source": [
    "### Knapsack with repetitions problem:\n",
    "+ Input:\n",
    "    - *n* items:\n",
    "      - Weights: $w_1, ..., w_n$\n",
    "      - Values: $v_1, ..., v_n$\n",
    "    - Total weight: *W*\n",
    "+ Output:\n",
    "    - the maximum value of items whose weight does not exceed W.\n",
    "    - Each item can be used any number of times."
   ]
  },
  {
   "cell_type": "markdown",
   "metadata": {},
   "source": [
    "### Subproblems"
   ]
  },
  {
   "cell_type": "markdown",
   "metadata": {},
   "source": [
    "- Consider an optimal solution & an item in it.\n",
    "- If we take this item out then get an *optimal* solution for a knapsack of total weight $W - w_{i}$."
   ]
  },
  {
   "cell_type": "markdown",
   "metadata": {},
   "source": [
    "+ Let *value(w)* be the maximum value of knapsack of weight *w*.\n",
    "    $value(w) = max_{i: w_{i} \\leq w} {value(w - w_{i} + v_{i})}$"
   ]
  },
  {
   "cell_type": "markdown",
   "metadata": {},
   "source": [
    "![knapsack_repetitions](./figures/knapsack_repetitions.PNG)"
   ]
  },
  {
   "cell_type": "code",
   "execution_count": 30,
   "metadata": {},
   "outputs": [],
   "source": [
    "def knapsack_repetitions(W):\n",
    "    # dict_items = {\n",
    "        \n",
    "    # }\n",
    "    n = 4\n",
    "    values = [30, 14, 16, 9]\n",
    "    weights = [6, 3, 4, 2]\n",
    "    #\n",
    "    value = [0] * (W)\n",
    "    for w in range(W):\n",
    "        value[w] = 0\n",
    "        for i in range(n):\n",
    "            if weights[i] <= w:\n",
    "                val = value[w - weights[i]] + values[i]\n",
    "                if val > value[w]:\n",
    "                    value[w] = val\n",
    "    return value                    "
   ]
  },
  {
   "cell_type": "code",
   "execution_count": 31,
   "metadata": {},
   "outputs": [
    {
     "name": "stdout",
     "output_type": "stream",
     "text": [
      "[0, 0, 9, 14, 18, 23, 30, 32, 39, 44]\n"
     ]
    }
   ],
   "source": [
    "val = knapsack_repetitions(10)\n",
    "print(val)"
   ]
  },
  {
   "cell_type": "markdown",
   "metadata": {},
   "source": [
    "## Knapsack without repetitions"
   ]
  },
  {
   "cell_type": "markdown",
   "metadata": {},
   "source": [
    "+ Input: \n",
    "    - weights: $w_{1}, ..., w_{n}$\n",
    "    - values: $v_{1}, ..., v_{n}$\n",
    "    - Total weights: W\n",
    "+ Output:\n",
    "    - the maximum value of items whose weight does not exceed W.\n",
    "    - Condition: each item can be used at most once."
   ]
  },
  {
   "cell_type": "markdown",
   "metadata": {},
   "source": [
    "### Subproblems\n",
    "\n",
    "+ If the $n^{th}$ item is taken into an optimal solution then what is left is an optimal solution for a knapsack of total weight $W - w_{n}$ using items 1, 2, ..., n - 1.\n",
    "+ If the $n^{th}$ item is not used then the whole knapsack must be filled in optimally with items 1, 2, ..., n - 1"
   ]
  },
  {
   "cell_type": "markdown",
   "metadata": {},
   "source": [
    "+ For $0 \\leq w \\leq W$ and $0 \\leq i \\leq n$, value(w, i) is the maximum value achievable using a knapsack of weight w and items 1, ..., i\n",
    "+ The $i^{th}$ item is either used or not\n",
    "\n",
    "    $value(w, i) = max(value(w - w_{i}, i - 1) + v_{i}, value(w, i - 1))$"
   ]
  },
  {
   "cell_type": "markdown",
   "metadata": {},
   "source": [
    "+ Pseudo code:\n",
    "\n",
    "![knapsack_without_repetitions](./figures/knapsack_without_repetitions.PNG)"
   ]
  },
  {
   "cell_type": "markdown",
   "metadata": {},
   "source": [
    "! Notes:\n",
    "    - Manage to express the solution for problems through solution for smaller sub-problems."
   ]
  },
  {
   "cell_type": "markdown",
   "metadata": {},
   "source": [
    "![knapsack_no_repetitions_example](./figures/knapsack_no_repetitions_example.PNG)"
   ]
  },
  {
   "cell_type": "code",
   "execution_count": 53,
   "metadata": {},
   "outputs": [],
   "source": [
    "import numpy as np\n",
    "def knapsack_norepetitions(W):\n",
    "    weights = [6, 3, 4, 2]\n",
    "    cost = [30, 14, 16, 9]\n",
    "    #\n",
    "    values = np.zeros((len(weights) + 1, W + 1))\n",
    "    print(values)\n",
    "    for i in range(1, len(weights) + 1):       # so loai goi hang\n",
    "        for w in range(1, W + 1):              # so luong goi hang\n",
    "#             print(i, w)\n",
    "            values[i][w] = values[i - 1][w] # gia tri voi i-goi hang \n",
    "            if weights[i - 1] <= w:\n",
    "                i = i - 1\n",
    "                val = values[i - 1][w - weights[i]] + cost[i]\n",
    "                if values[i][w] < val:\n",
    "                    values[i][w] = val\n",
    "    return values[len(weights)][W]     \n"
   ]
  },
  {
   "cell_type": "code",
   "execution_count": 54,
   "metadata": {},
   "outputs": [
    {
     "name": "stdout",
     "output_type": "stream",
     "text": [
      "[[0. 0. 0. 0. 0. 0. 0. 0. 0. 0. 0.]\n",
      " [0. 0. 0. 0. 0. 0. 0. 0. 0. 0. 0.]\n",
      " [0. 0. 0. 0. 0. 0. 0. 0. 0. 0. 0.]\n",
      " [0. 0. 0. 0. 0. 0. 0. 0. 0. 0. 0.]\n",
      " [0. 0. 0. 0. 0. 0. 0. 0. 0. 0. 0.]]\n"
     ]
    },
    {
     "data": {
      "text/plain": [
       "0.0"
      ]
     },
     "execution_count": 54,
     "metadata": {},
     "output_type": "execute_result"
    }
   ],
   "source": [
    "knapsack_norepetitions(10)"
   ]
  },
  {
   "cell_type": "markdown",
   "metadata": {},
   "source": []
  },
  {
   "cell_type": "markdown",
   "metadata": {},
   "source": [
    "## Final remarks"
   ]
  },
  {
   "cell_type": "markdown",
   "metadata": {},
   "source": [
    "+ Knapsack pseudo code:\n",
    "\n",
    "![knapsack_pseudo_code](./figures/knapsack_pseudo_code.PNG)"
   ]
  },
  {
   "cell_type": "markdown",
   "metadata": {},
   "source": [
    "+ First trick - **memoization**, when designing a dynamic program & algorithms:\n",
    "    - $1^{st}$: analyzing the structure of an optimal solution for computational problem.\n",
    "    - $2^{nd}$: definition of a sub-problem that will allow you to express the solutions for sub-problem through solutions of smaller sub-problems.\n",
    "    - $3^{th}$: write down this recurrence relation you can transform it to an ISA alternative algorithm or recursive algorithm."
   ]
  },
  {
   "cell_type": "markdown",
   "metadata": {},
   "source": [
    "### What is faster ? \n",
    "+ If all sub-problems must be solved then an iterative algorithm is usually faster since it has no recursion overhead.\n",
    "    - recursive algorithm: solve the same problems\n",
    "+ There are cases however when one does not need to solve all sub-problems."
   ]
  },
  {
   "cell_type": "markdown",
   "metadata": {},
   "source": [
    "### Running time\n",
    "+ The running time O(nW)\n",
    "+ *notes*: in other words, the running time is $O(n 2 ^{(log W)})$"
   ]
  },
  {
   "cell_type": "markdown",
   "metadata": {},
   "source": [
    "# Placing parentheses"
   ]
  },
  {
   "cell_type": "markdown",
   "metadata": {},
   "source": [
    " ## Problem overview"
   ]
  },
  {
   "cell_type": "markdown",
   "metadata": {},
   "source": [
    "+ How to place parentheses in an expression f = 1 + 2 - 3 x 4 - 5, to maximize its value ?\n",
    "+ Example: \n",
    "    - ((((1 + 2)) - 3) x 4) - 5 = - 5\n",
    "    - ((1 + 2) - ((3 x 4) - 5)) = -4"
   ]
  },
  {
   "cell_type": "markdown",
   "metadata": {},
   "source": [
    "## Sub-problems"
   ]
  },
  {
   "cell_type": "markdown",
   "metadata": {},
   "source": [
    "+ Input: a sequence of digits $d_{1}, d_{2}, ..., d_{n}$ & a sequence of operations $op_{1}, ..., op_{n - 1}$ in {+, -, x} \n",
    "+ Output: An order of applying these operations that max the value of expression.\n",
    "\n",
    "   -  $d_{1} op_{1} d_{2} op_{2} ... op_{n - 1} d_{n}$"
   ]
  },
  {
   "cell_type": "markdown",
   "metadata": {},
   "source": [
    "## Algorithms"
   ]
  },
  {
   "cell_type": "markdown",
   "metadata": {},
   "source": [
    "## Reconstructing a Solution"
   ]
  },
  {
   "cell_type": "markdown",
   "metadata": {},
   "source": [
    "# "
   ]
  }
 ],
 "metadata": {
  "interpreter": {
   "hash": "183bbf6827d058c2a2fb0f4acdc0420849dda2b4380af0e437e38c64d798d8b7"
  },
  "kernelspec": {
   "display_name": "Python 3",
   "language": "python",
   "name": "python3"
  },
  "language_info": {
   "codemirror_mode": {
    "name": "ipython",
    "version": 3
   },
   "file_extension": ".py",
   "mimetype": "text/x-python",
   "name": "python",
   "nbconvert_exporter": "python",
   "pygments_lexer": "ipython3",
   "version": "3.8.8"
  }
 },
 "nbformat": 4,
 "nbformat_minor": 2
}
