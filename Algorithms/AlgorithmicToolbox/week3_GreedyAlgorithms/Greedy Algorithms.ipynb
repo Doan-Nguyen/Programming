{
 "cells": [
  {
   "cell_type": "markdown",
   "id": "a9703a35",
   "metadata": {},
   "source": [
    "# 1. Learning Objectives\n",
    "+ Practive implementing greedy solutions\n",
    "+ Build greed algorithms\n",
    "+ Create a program for changing money optimally\n",
    "+ Create a program for maximizing the value of a loot\n",
    "+ Create a program for maximizing the number of prize places in a competition"
   ]
  },
  {
   "cell_type": "markdown",
   "id": "65272712",
   "metadata": {},
   "source": [
    "# 2. Main ideas"
   ]
  },
  {
   "cell_type": "markdown",
   "id": "7dc7f4c8",
   "metadata": {},
   "source": [
    "## 2.1 Largest number "
   ]
  },
  {
   "cell_type": "markdown",
   "id": "7441bd6a",
   "metadata": {},
   "source": [
    "+ **Toy problem**: What is the largest number that consists of digits 3, 9, 5, 9, 7, 1 ? Use all the digits"
   ]
  },
  {
   "cell_type": "markdown",
   "id": "fc560521",
   "metadata": {},
   "source": [
    "### Greedy strategy\n",
    "+ Find max digit\n",
    "+ Append it to the number\n",
    "+ Remove it from the list of digits\n",
    "+ Repeat while there are digits in the list"
   ]
  },
  {
   "cell_type": "markdown",
   "id": "da89b4e3",
   "metadata": {},
   "source": [
    "## 2.2 Car fueling\n"
   ]
  },
  {
   "cell_type": "markdown",
   "id": "236dab2e",
   "metadata": {},
   "source": [
    "![Problem](./figures/car_fueling_1.PNG)"
   ]
  },
  {
   "cell_type": "markdown",
   "id": "9cf538a9",
   "metadata": {},
   "source": [
    "+ Greedy choice:\n",
    "    - Refill at the farthest reachable gas station\n",
    "    - *Safe move* if there is an optimal solution consistent with this first move.\n",
    "    - Safe move: to refill at the farthest reachable gas station "
   ]
  },
  {
   "cell_type": "markdown",
   "id": "0a9f8dbc",
   "metadata": {},
   "source": [
    "## 2.3 Implementation and analysis"
   ]
  },
  {
   "cell_type": "markdown",
   "id": "bf9e4d32",
   "metadata": {},
   "source": [
    "### Pseudocode:"
   ]
  },
  {
   "cell_type": "markdown",
   "id": "44d22ba2",
   "metadata": {},
   "source": [
    "```\n",
    "MinRefills(x, n, L):\n",
    "    /*\n",
    "    x : an array ~ the position of gas stations.\n",
    "    n : the number of gas stations.\n",
    "    L : (km)\n",
    "    */\n",
    "\n",
    "    numRefills := 0, currentRefills := 0\n",
    "    while currentRefills <= n:             # O(n)\n",
    "        lastRefill := currentRefills\n",
    "        while (currentRefills <= n) && (x[currentRefill + 1] - x[lastRefill] <= L):\n",
    "            currentRefill := +1\n",
    "        if currentRefill == lastRefill:\n",
    "            return IMPOSSIBLE\n",
    "        if currentRefill <= n:\n",
    "            numRefills := +1\n",
    "    return numbRefills\n",
    "```"
   ]
  },
  {
   "cell_type": "markdown",
   "id": "6e661983",
   "metadata": {},
   "source": [
    "### Running time\n",
    "+ the largest value of currentRefill: n + 1\n",
    "+ the largest value of numRefills in the end: L"
   ]
  },
  {
   "cell_type": "markdown",
   "id": "2529d69f",
   "metadata": {},
   "source": [
    "## 2.4 Main ingredients of Greedy Algorithms"
   ]
  },
  {
   "cell_type": "markdown",
   "id": "d2791f7b",
   "metadata": {},
   "source": [
    "### Reduction to Subproblem\n",
    "+ Make a first move \n",
    "+ Then solve a problem fo the same kind\n",
    "+ Smaller: fewer digits, fewer fuel stations"
   ]
  },
  {
   "cell_type": "markdown",
   "id": "4b845984",
   "metadata": {},
   "source": [
    "### Safe move\n",
    "+ A move is called *safe* if there is an optimal solution consistent with this first move.\n",
    "+ Not all first moves are safe.\n",
    "+ Often, greedy moves are not safe."
   ]
  },
  {
   "cell_type": "markdown",
   "id": "ec768f69",
   "metadata": {},
   "source": [
    "### General Strategy\n",
    "+ **Problem:**\n",
    "    - First: analyze the problem\n",
    "    - Second: come up with some greedy choice\n",
    "    - Third: try **prove** that it is a safe move.\n",
    "    - Fourth: Reduce to a subproblem\n",
    "    - Fiveth: Solve the subproblem"
   ]
  },
  {
   "cell_type": "markdown",
   "id": "71497753",
   "metadata": {},
   "source": [
    "# 3. Grouping children"
   ]
  },
  {
   "cell_type": "markdown",
   "id": "50abcd0a",
   "metadata": {},
   "source": [
    "## 3.1 Celebration party problem"
   ]
  },
  {
   "cell_type": "markdown",
   "id": "a7b380cc",
   "metadata": {},
   "source": [
    "### Problem: "
   ]
  },
  {
   "cell_type": "markdown",
   "id": "39285ecd",
   "metadata": {},
   "source": [
    "![celebration problem](./figures/celebration_problem.PNG)"
   ]
  },
  {
   "cell_type": "markdown",
   "id": "aff34798",
   "metadata": {},
   "source": [
    "### Naive solution"
   ]
  },
  {
   "cell_type": "markdown",
   "id": "c41b44da",
   "metadata": {},
   "source": [
    "![Group children](./figures/naive_solution_group_children.PNG)"
   ]
  },
  {
   "cell_type": "markdown",
   "id": "c074a930",
   "metadata": {},
   "source": [
    "### Running time\n",
    "+ The number fo operations is at least $2^{n}$, where n is the number of children in C."
   ]
  },
  {
   "cell_type": "markdown",
   "id": "9a9424f6",
   "metadata": {},
   "source": [
    "### Proof\n",
    "+ Consider just partitions in 2 groups.\n",
    "+ C = G1 union G2\n",
    "+ Each item can be included or excluded from the group G1.\n",
    "+ There are $2^n$ different G1.\n",
    "+ At least $2^n$ operations => O($2^n$)"
   ]
  },
  {
   "cell_type": "markdown",
   "id": "417c41f7",
   "metadata": {},
   "source": [
    "## 3.2 Efficient algorithms for grouping children"
   ]
  },
  {
   "cell_type": "markdown",
   "id": "391a234f",
   "metadata": {},
   "source": [
    "### Convering points by segments\n",
    "+ Input: A set of *n* points $x_1, x_2, ..., x_n \\in R$\n",
    "+ Output: the minimum number of segments of unit length needed to cover all the points.\n",
    "\n",
    "![Convering points by segments](./figures/efficient_algorithms_1.png)"
   ]
  },
  {
   "cell_type": "markdown",
   "id": "21e09d64",
   "metadata": {},
   "source": [
    "+ **Safe move**: cover the leftmost point with a unit segment with left end in this point.\n",
    "\n",
    "![efficient algorithms](./figures/efficient_algorithms_2.png)"
   ]
  },
  {
   "cell_type": "markdown",
   "id": "f73c07b0",
   "metadata": {},
   "source": [
    "## 3.3 Analysis & implementation of efficient algorithm"
   ]
  },
  {
   "cell_type": "code",
   "execution_count": 8,
   "id": "8372ba4f",
   "metadata": {},
   "outputs": [
    {
     "name": "stdout",
     "output_type": "stream",
     "text": [
      "[[1, 1.3, 2], [2.5, 3.5], [5, 5.6]]\n"
     ]
    }
   ],
   "source": [
    "inputs = [1, 1.3, 2, 2.5, 3.5, 5, 5.6]\n",
    "\n",
    "def pointsCoverSorted(inputs):\n",
    "    '''\n",
    "    \n",
    "    '''\n",
    "    R = []  # an empty list of segments \n",
    "    i = 0\n",
    "    while(i < len(inputs)):\n",
    "        tmp_set = []\n",
    "        tmp_set.append(inputs[i])\n",
    "        # sub_end_point: if inputs[i] is the start point\n",
    "        sub_end_point = inputs[i] + 1\n",
    "        i += 1\n",
    "        while(i < len(inputs) and inputs[i] <= sub_end_point):\n",
    "            tmp_set.append(inputs[i])\n",
    "            i += 1\n",
    "        # \n",
    "        R.append(tmp_set)\n",
    "    return R\n",
    "            \n",
    "r = pointsCoverSorted(inputs)\n",
    "print(r)"
   ]
  },
  {
   "cell_type": "markdown",
   "id": "aee9c133",
   "metadata": {},
   "source": [
    "### Total Running time: \n",
    "+ If sorted {$x_1, x_2, ..., x_n$}, *PointersConverSorted* works in O(n) time.\n",
    "+ Sort inputs in O(n.log(n))\n",
    "+ Sort + PointersConverSorted is O(n.log(n))"
   ]
  },
  {
   "cell_type": "markdown",
   "id": "c9567b34",
   "metadata": {},
   "source": [
    "# 4. Fractional knapsack"
   ]
  },
  {
   "cell_type": "markdown",
   "id": "a310bd2a",
   "metadata": {},
   "source": [
    "## 4.1 Long hike\n",
    "\n",
    "![Long hike problem](./figures/long_hike.png)"
   ]
  },
  {
   "cell_type": "markdown",
   "id": "4e66be01",
   "metadata": {},
   "source": [
    "### Problem:\n",
    "\n",
    "![Fractional knapsack](./figures/fractional_knapsack.png)"
   ]
  },
  {
   "cell_type": "markdown",
   "id": "ddfe07f7",
   "metadata": {},
   "source": [
    "+ The $i^{th}$ item contributes:\n",
    "    - the weight: $x_{i}.w_{i}$\n",
    "    - the value: $x_{i}.v_{i}$\n",
    "    \n",
    "+ **The objective** of this algorithm:\n",
    "       $$\n",
    "\n",
    "+ Subject to constraint: \n",
    "    $$\n",
    " \n",
    "+ An optimal solution can be obtained by:\n",
    "    $$"
   ]
  },
  {
   "cell_type": "markdown",
   "id": "e0105e97",
   "metadata": {},
   "source": [
    "Reference:\n",
    "[1] https://www.tutorialspoint.com/design_and_analysis_of_algorithms/design_and_analysis_of_algorithms_fractional_knapsack.htm"
   ]
  },
  {
   "cell_type": "markdown",
   "id": "9f869910",
   "metadata": {},
   "source": [
    "### Greedy algorithm"
   ]
  },
  {
   "cell_type": "markdown",
   "id": "4d6f08b9",
   "metadata": {},
   "source": [
    "![Greedy algorithms](./figures/greedy_algorithm_long_hike.png)"
   ]
  },
  {
   "cell_type": "markdown",
   "id": "0289564c",
   "metadata": {},
   "source": [
    "## 4.2 Fractional knapsack - implementation, analysis & optimization"
   ]
  },
  {
   "cell_type": "markdown",
   "id": "e8e7afea",
   "metadata": {},
   "source": [
    "### Pseudocode"
   ]
  },
  {
   "cell_type": "code",
   "execution_count": 22,
   "id": "67ac5fca",
   "metadata": {},
   "outputs": [
    {
     "name": "stdout",
     "output_type": "stream",
     "text": [
      "[{'weights': 4, 'values': 20, 'unit': 5.0}, {'weights': 3, 'values': 18, 'unit': 6.0}, {'weights': 2, 'values': 14, 'unit': 7.0}]\n",
      "[{'weights': 2, 'values': 14, 'unit': 7.0}, {'weights': 3, 'values': 18, 'unit': 6.0}, {'weights': 4, 'values': 20, 'unit': 5.0}]\n"
     ]
    }
   ],
   "source": [
    "list_items_info = [{\"weights\": 4, \"values\": 20}, {\"weights\": 3, \"values\": 18}, {\"weights\": 2, \"values\": 14}]\n",
    "\n",
    "def check_remained_weights(max_weights, list_items_info):\n",
    "    '''\n",
    "    list_items_info = [{\"weights\": , \"values\": \"unit\": }, ....]\n",
    "    '''\n",
    "    for item in list_items_info:\n",
    "        if max_weights > item[]\n",
    "\n",
    "def Knapsack(max_weights, list_items_info):\n",
    "    # calculate the value units \n",
    "    for item in list_items_info: # O(n)\n",
    "        unit = item[\"values\"]/item[\"weights\"]\n",
    "        item[\"unit\"] = unit\n",
    "    # sort the dictionary of items by \"unit\"\n",
    "    list_items_info = sorted(list_items_info, key=lambda d: d['unit'], reverse=True) \n",
    "    #\n",
    "    for i in range(max_weights):\n",
    "        \n",
    "        \n",
    "Knapsack(7, dict_items_info)"
   ]
  },
  {
   "cell_type": "markdown",
   "id": "357f45d7",
   "metadata": {},
   "source": [
    "## 4.3 Review of Greedy Algorithms"
   ]
  },
  {
   "cell_type": "markdown",
   "id": "6a25168a",
   "metadata": {},
   "source": [
    "### Main ingredients\n",
    "+ Safe move\n",
    "+ Prove safety\n",
    "+ Solve subproblem\n",
    "+ Estimate running time"
   ]
  },
  {
   "cell_type": "markdown",
   "id": "3c5f1ab1",
   "metadata": {},
   "source": [
    "### Safe moves\n",
    "+ Put max digit first\n",
    "+ Find first occurrence of first character\n",
    "+ Cover leftmost point\n",
    "+ Use item with maximumn value per unit of weight"
   ]
  },
  {
   "cell_type": "markdown",
   "id": "0435f86f",
   "metadata": {},
   "source": [
    "### Optimization\n",
    "+ Assume everything is somehow sorted\n",
    "+ Which sort order is convenient ?\n",
    "+ Greedy move can be faster after sorting."
   ]
  },
  {
   "cell_type": "markdown",
   "id": "c894c8b6",
   "metadata": {},
   "source": [
    "### Generaly Strategy\n",
    "+ Step 1: Make a greedy choice\n",
    "+ Prove that it is a safe move\n",
    "+ Reduce to a subproblem\n",
    "+ Solve the subproblem"
   ]
  },
  {
   "cell_type": "markdown",
   "id": "bcd9ec3a",
   "metadata": {},
   "source": []
  }
 ],
 "metadata": {
  "kernelspec": {
   "display_name": "Python 3",
   "language": "python",
   "name": "python3"
  },
  "language_info": {
   "codemirror_mode": {
    "name": "ipython",
    "version": 3
   },
   "file_extension": ".py",
   "mimetype": "text/x-python",
   "name": "python",
   "nbconvert_exporter": "python",
   "pygments_lexer": "ipython3",
   "version": "3.7.3"
  }
 },
 "nbformat": 4,
 "nbformat_minor": 5
}
