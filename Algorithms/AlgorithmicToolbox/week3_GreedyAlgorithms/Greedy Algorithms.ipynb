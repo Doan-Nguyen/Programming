{
 "cells": [
  {
   "cell_type": "markdown",
   "id": "a9703a35",
   "metadata": {},
   "source": [
    "# 1. Learning Objectives\n",
    "+ Practive implementing greedy solutions\n",
    "+ Build greed algorithms\n",
    "+ Create a program for changing money optimally\n",
    "+ Create a program for maximizing the value of a loot\n",
    "+ Create a program for maximizing the number of prize places in a competition"
   ]
  },
  {
   "cell_type": "markdown",
   "id": "65272712",
   "metadata": {},
   "source": [
    "# 2. Main ideas"
   ]
  },
  {
   "cell_type": "markdown",
   "id": "7dc7f4c8",
   "metadata": {},
   "source": [
    "## 2.1 Largest number "
   ]
  },
  {
   "cell_type": "markdown",
   "id": "7441bd6a",
   "metadata": {},
   "source": [
    "+ **Toy problem**: What is the largest number that consists of digits 3, 9, 5, 9, 7, 1 ? Use all the digits"
   ]
  },
  {
   "cell_type": "markdown",
   "id": "fc560521",
   "metadata": {},
   "source": [
    "### Greedy strategy\n",
    "+ Find max digit\n",
    "+ Append it to the number\n",
    "+ Remove it from the list of digits\n",
    "+ Repeat while there are digits in the list"
   ]
  },
  {
   "cell_type": "markdown",
   "id": "da89b4e3",
   "metadata": {},
   "source": [
    "## 2.2 Car fueling\n"
   ]
  },
  {
   "cell_type": "markdown",
   "id": "236dab2e",
   "metadata": {},
   "source": [
    "![Problem](./figures/car_fueling_1.PNG)"
   ]
  },
  {
   "cell_type": "markdown",
   "id": "9cf538a9",
   "metadata": {},
   "source": [
    "+ Greedy choice:\n",
    "    - Refill at the farthest reachable gas station\n",
    "    - *Safe move* if there is an optimal solution consistent with this first move.\n",
    "    - Safe move: to refill at the farthest reachable gas station "
   ]
  },
  {
   "cell_type": "markdown",
   "id": "0a9f8dbc",
   "metadata": {},
   "source": [
    "## 2.3 Implementation and analysis"
   ]
  },
  {
   "cell_type": "markdown",
   "id": "bf9e4d32",
   "metadata": {},
   "source": [
    "### Pseudocode:"
   ]
  },
  {
   "cell_type": "markdown",
   "id": "44d22ba2",
   "metadata": {},
   "source": [
    "```\n",
    "MinRefills(x, n, L):\n",
    "    /*\n",
    "    x : an array ~ the position of gas stations.\n",
    "    n : the number of gas stations.\n",
    "    L : (km)\n",
    "    */\n",
    "\n",
    "    numRefills := 0, currentRefills := 0\n",
    "    while currentRefills <= n:             # O(n)\n",
    "        lastRefill := currentRefills\n",
    "        while (currentRefills <= n) && (x[currentRefill + 1] - x[lastRefill] <= L):\n",
    "            currentRefill := +1\n",
    "        if currentRefill == lastRefill:\n",
    "            return IMPOSSIBLE\n",
    "        if currentRefill <= n:\n",
    "            numRefills := +1\n",
    "    return numbRefills\n",
    "```"
   ]
  },
  {
   "cell_type": "markdown",
   "id": "6e661983",
   "metadata": {},
   "source": [
    "### Running time\n",
    "+ the largest value of currentRefill: n + 1\n",
    "+ the largest value of numRefills in the end: L"
   ]
  },
  {
   "cell_type": "markdown",
   "id": "2529d69f",
   "metadata": {},
   "source": [
    "## 2.4 Main ingredients of Greedy Algorithms"
   ]
  },
  {
   "cell_type": "markdown",
   "id": "d2791f7b",
   "metadata": {},
   "source": [
    "### Reduction to Subproblem\n",
    "+ Make a first move \n",
    "+ Then solve a problem fo the same kind\n",
    "+ Smaller: fewer digits, fewer fuel stations"
   ]
  },
  {
   "cell_type": "markdown",
   "id": "4b845984",
   "metadata": {},
   "source": [
    "### Safe move\n",
    "+ A move is called *safe* if there is an optimal solution consistent with this first move.\n",
    "+ Not all first moves are safe.\n",
    "+ Often, greedy moves are not safe."
   ]
  },
  {
   "cell_type": "markdown",
   "id": "ec768f69",
   "metadata": {},
   "source": [
    "### General Strategy\n",
    "+ **Problem:**\n",
    "    - First: analyze the problem\n",
    "    - Second: come up with some greedy choice\n",
    "    - Third: try **prove** that it is a safe move.\n",
    "    - Fourth: Reduce to a subproblem\n",
    "    - Fiveth: Solve the subproblem"
   ]
  },
  {
   "cell_type": "markdown",
   "id": "71497753",
   "metadata": {},
   "source": [
    "# 3. Grouping children"
   ]
  },
  {
   "cell_type": "markdown",
   "id": "50abcd0a",
   "metadata": {},
   "source": [
    "## 3.1 Celebration party problem"
   ]
  },
  {
   "cell_type": "markdown",
   "id": "a7b380cc",
   "metadata": {},
   "source": [
    "### Problem: "
   ]
  },
  {
   "attachments": {},
   "cell_type": "markdown",
   "id": "39285ecd",
   "metadata": {},
   "source": [
    "![celebration problem](./figures/celebration_problem.PNG)"
   ]
  },
  {
   "cell_type": "markdown",
   "id": "aff34798",
   "metadata": {},
   "source": [
    "### Naive solution"
   ]
  },
  {
   "cell_type": "markdown",
   "id": "c41b44da",
   "metadata": {},
   "source": [
    "![Group children](./figures/naive_solution_group_children.PNG)"
   ]
  },
  {
   "cell_type": "markdown",
   "id": "c074a930",
   "metadata": {},
   "source": [
    "### Running time\n",
    "+ The number fo operations is at least $2^{n}$, where n is the number of children in C."
   ]
  },
  {
   "cell_type": "markdown",
   "id": "9a9424f6",
   "metadata": {},
   "source": [
    "### Proof\n",
    "+ Consider just partitions in 2 groups.\n",
    "+ C = G1 union G2\n",
    "+ Each item can be included or excluded from the group G1.\n",
    "+ There are $2^n$ different G1.\n",
    "+ At least $2^n$ operations => O($2^n$)"
   ]
  },
  {
   "cell_type": "code",
   "execution_count": null,
   "id": "2c498bc5",
   "metadata": {},
   "outputs": [],
   "source": []
  },
  {
   "cell_type": "code",
   "execution_count": null,
   "id": "aa030a95",
   "metadata": {},
   "outputs": [],
   "source": []
  },
  {
   "cell_type": "code",
   "execution_count": null,
   "id": "5973b38e",
   "metadata": {},
   "outputs": [],
   "source": []
  },
  {
   "cell_type": "markdown",
   "id": "417c41f7",
   "metadata": {},
   "source": [
    "## 3.2 Efficient algorithms for grouping children"
   ]
  },
  {
   "cell_type": "markdown",
   "id": "f73c07b0",
   "metadata": {},
   "source": [
    "## 3.3 Analysis & implementation of efficient algorithm"
   ]
  },
  {
   "cell_type": "code",
   "execution_count": null,
   "id": "8372ba4f",
   "metadata": {},
   "outputs": [],
   "source": []
  },
  {
   "cell_type": "markdown",
   "id": "c9567b34",
   "metadata": {},
   "source": [
    "# 4. Fractional knapsack"
   ]
  },
  {
   "cell_type": "markdown",
   "id": "bcd9ec3a",
   "metadata": {},
   "source": []
  }
 ],
 "metadata": {
  "kernelspec": {
   "display_name": "Python 3",
   "language": "python",
   "name": "python3"
  },
  "language_info": {
   "codemirror_mode": {
    "name": "ipython",
    "version": 3
   },
   "file_extension": ".py",
   "mimetype": "text/x-python",
   "name": "python",
   "nbconvert_exporter": "python",
   "pygments_lexer": "ipython3",
   "version": "3.8.8"
  }
 },
 "nbformat": 4,
 "nbformat_minor": 5
}
