{
 "cells": [
  {
   "cell_type": "markdown",
   "id": "eeb04005",
   "metadata": {},
   "source": [
    "# 1. Learning Objectives\n",
    "+ Practive implementing greedy solutions\n",
    "+ Build greed algorithms\n",
    "+ Create a program for changing money optimally\n",
    "+ Create a program for maximizing the value of a loot\n",
    "+ Create a program for maximizing the number of prize places in a competition"
   ]
  },
  {
   "cell_type": "markdown",
   "id": "8dae626e",
   "metadata": {},
   "source": [
    "# 2. Main ideas"
   ]
  },
  {
   "cell_type": "markdown",
   "id": "43419a75",
   "metadata": {},
   "source": [
    "## 2.1 Largest number "
   ]
  },
  {
   "cell_type": "markdown",
   "id": "b81a08b5",
   "metadata": {},
   "source": [
    "+ **Toy problem**: What is the largest number that consists of digits 3, 9, 5, 9, 7, 1 ? Use all the digits"
   ]
  },
  {
   "cell_type": "markdown",
   "id": "570322f1",
   "metadata": {},
   "source": [
    "### Greedy strategy\n",
    "+ Find max digit\n",
    "+ Append it to the number\n",
    "+ Remove it from the list of digits\n",
    "+ Repeat while there are digits in the list"
   ]
  },
  {
   "cell_type": "markdown",
   "id": "57988424",
   "metadata": {},
   "source": [
    "## 2.2 Car fueling\n"
   ]
  },
  {
   "cell_type": "markdown",
   "id": "f1bd5ae3",
   "metadata": {},
   "source": [
    "![Problem](./figures/car_fueling_1.PNG)"
   ]
  },
  {
   "cell_type": "markdown",
   "id": "6fc3b448",
   "metadata": {},
   "source": [
    "+ Greedy choice:\n",
    "    - Refill at the farthest reachable gas station\n",
    "    - *Safe move* if there is an optimal solution consistent with this first move.\n",
    "    - Safe move: to refill at the farthest reachable gas station "
   ]
  },
  {
   "cell_type": "markdown",
   "id": "9055ea89",
   "metadata": {},
   "source": [
    "## 2.3 Implementation and analysis"
   ]
  },
  {
   "cell_type": "markdown",
   "id": "4b43b66a",
   "metadata": {},
   "source": [
    "### Pseudocode:"
   ]
  },
  {
   "cell_type": "markdown",
   "id": "7b483666",
   "metadata": {},
   "source": [
    "```\n",
    "MinRefills(x, n, L):\n",
    "    /*\n",
    "    x : an array ~ the position of gas stations.\n",
    "    n : the number of gas stations.\n",
    "    L : (km)\n",
    "    */\n",
    "\n",
    "    numRefills := 0, currentRefills := 0\n",
    "    while currentRefills <= n:             # O(n)\n",
    "        lastRefill := currentRefills\n",
    "        while (currentRefills <= n) && (x[currentRefill + 1] - x[lastRefill] <= L):\n",
    "            currentRefill := +1\n",
    "        if currentRefill == lastRefill:\n",
    "            return IMPOSSIBLE\n",
    "        if currentRefill <= n:\n",
    "            numRefills := +1\n",
    "    return numbRefills\n",
    "```"
   ]
  },
  {
   "cell_type": "markdown",
   "id": "d4c21c26",
   "metadata": {},
   "source": [
    "### Running time\n",
    "+ the largest value of currentRefill: L\n",
    "+ the largest value of currentRefill in the end: L"
   ]
  },
  {
   "cell_type": "code",
   "execution_count": null,
   "id": "1f045ef1",
   "metadata": {},
   "outputs": [],
   "source": []
  }
 ],
 "metadata": {
  "kernelspec": {
   "display_name": "Python 3",
   "language": "python",
   "name": "python3"
  },
  "language_info": {
   "codemirror_mode": {
    "name": "ipython",
    "version": 3
   },
   "file_extension": ".py",
   "mimetype": "text/x-python",
   "name": "python",
   "nbconvert_exporter": "python",
   "pygments_lexer": "ipython3",
   "version": "3.8.8"
  }
 },
 "nbformat": 4,
 "nbformat_minor": 5
}
