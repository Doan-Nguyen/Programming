{
 "cells": [
  {
   "cell_type": "markdown",
   "id": "6c908a07",
   "metadata": {},
   "source": [
    "# 5.1 Change Problem"
   ]
  },
  {
   "cell_type": "markdown",
   "id": "d824530c",
   "metadata": {},
   "source": [
    "+ Problem overview: Find the minimum number of coins needed to make change.\n",
    "+ **Input**: An integer *money* & positive integers $coin_{1}, ... , coin_{d}$\n",
    "+ **Output**: The minimum number of coins with denominations $coin_{1}, ... , coin_{d}$ that changes money"
   ]
  },
  {
   "cell_type": "markdown",
   "id": "fcc5ce6f",
   "metadata": {},
   "source": [
    "## 5.1.1 Greedy Way"
   ]
  },
  {
   "cell_type": "markdown",
   "id": "2c01d803",
   "metadata": {},
   "source": [
    "```\n",
    "GreedyChange(money)\n",
    "    # \n",
    "    change = []\n",
    "    while money > 0:\n",
    "        coin := largest_denomination\n",
    "        # money add coin to change\n",
    "        change.append(coin)\n",
    "        money := money - coin\n",
    "    return change            \n",
    "```"
   ]
  },
  {
   "cell_type": "code",
   "execution_count": null,
   "id": "9eba47c0",
   "metadata": {},
   "outputs": [],
   "source": [
    "def greedy_change(money):\n",
    "    '''\n",
    "    the coins with denominations 1, 3, 4.\n",
    "    '''\n",
    "    coin_denom = [4, 3, 1]\n",
    "    coins = 0\n",
    "    while(money > 0):\n",
    "        for coin in coin_denom:\n",
    "            numb_coin = int(money/coin)\n",
    "            if numb_coin > 0:\n",
    "                print(coin, numb_coin)\n",
    "                money = money - numb_coin*coin\n",
    "                coins += numb_coin\n",
    "    print(coins)                    \n",
    "    \n",
    "greedy_change(34)    "
   ]
  },
  {
   "cell_type": "markdown",
   "id": "08bb6f09",
   "metadata": {},
   "source": [
    "## 5.1.2 Recursive Change"
   ]
  },
  {
   "cell_type": "markdown",
   "id": "917c6a6f",
   "metadata": {},
   "source": [
    "![recursive_change](./figures/recursive_change.PNG)"
   ]
  },
  {
   "cell_type": "markdown",
   "id": "a4ef9e37",
   "metadata": {},
   "source": [
    "+ Pseudo code:\n",
    "```\n",
    "if money = 0\n",
    "    return 0\n",
    "MinNumCoins := []   \n",
    "for i from [1, abs(coins)]:\n",
    "    if money >= coin_i: \n",
    "        NumCoins := RecursiveChange(money - coin_i, coins)\n",
    "    if NumCoins + 1 < MinNumCoins:\n",
    "        MinNumCoins := NumCoins + 1\n",
    "return MinNumCoins        \n",
    "```"
   ]
  },
  {
   "cell_type": "markdown",
   "id": "453ba889",
   "metadata": {},
   "source": [
    "### 5.1.3 Dynamic Programming"
   ]
  },
  {
   "cell_type": "markdown",
   "id": "d65dc33f",
   "metadata": {},
   "source": [
    "+ Pseudo code\n",
    "```\n",
    "DPChange(money, coins):\n",
    "    MinNumCoins(0) := 0\n",
    "    for m from [1, money]:\n",
    "        MinNumCoins(m) := []\n",
    "        for i from [1, abs(coins)]:\n",
    "            if m >= coin_i:\n",
    "                NumCoins := MinNumCoins(m - coins_i) + 1\n",
    "                if NumCoins < MinNumCoins(m):\n",
    "                    MinNumCoins(m) := NumCoins\n",
    "   return MinNumCoins(money)                    \n",
    "```"
   ]
  },
  {
   "cell_type": "markdown",
   "id": "78b0a329",
   "metadata": {},
   "source": [
    "# 5.2 String Comparison"
   ]
  },
  {
   "cell_type": "markdown",
   "id": "20d20a57",
   "metadata": {},
   "source": [
    "### 5.2.1 The alignment game"
   ]
  },
  {
   "cell_type": "markdown",
   "id": "20b7fa02",
   "metadata": {},
   "source": [
    "+ Alignment game: remove all symbols from 2 strings in such a way that the number of points is max.\n",
    "    - Remove the $1^{st}$ symbol from both strings:\n",
    "        - 1 point if the symbols match\n",
    "        - 0 point if they don't match.\n",
    "    - Remove 1 symbol from one of the strings:\n",
    "        - 0 point."
   ]
  },
  {
   "cell_type": "markdown",
   "id": "b27b8586",
   "metadata": {},
   "source": [
    "```\n",
    "Consider:\n",
    "    - A T G T T A T A \n",
    "    - A T C G T C C\n",
    "1 ) A match A => + 1\n",
    "2 ) T match T => + 1 (2) point\n",
    "3 ) Remove/intersection C => + 0 \n",
    "    - A T G T T A T A\n",
    "    - A T G T C C\n",
    "4 ) G match G => + 1\n",
    "5 ) T match T => + 1\n",
    "6 ) remove T \n",
    "    - A T G T A T A\n",
    "    - A T G T C C\n",
    "7 ) remove T\n",
    "    - A T G T A A\n",
    "    - A T G T C C\n",
    "```"
   ]
  },
  {
   "cell_type": "markdown",
   "id": "afb9514a",
   "metadata": {},
   "source": [
    "+ Alignment score:\n",
    "    ![alignment_score](./figures/alignment_score.PNG)"
   ]
  },
  {
   "cell_type": "markdown",
   "id": "54774a8c",
   "metadata": {},
   "source": [
    "+ Input: two strings, mismatch penalty & indel penalty\n",
    "+ Output: An alignment of the strings max the score"
   ]
  },
  {
   "cell_type": "markdown",
   "id": "6ec13d00",
   "metadata": {},
   "source": [
    "### Common subsequence\n",
    "+ Matches in an alignment of two strings from their *common subsequence*"
   ]
  },
  {
   "cell_type": "markdown",
   "id": "de0855d7",
   "metadata": {},
   "source": [
    "### Longest common subsequence\n",
    "+ Input: two strings\n",
    "+ Output: a longest common subsequence of these strings.\n",
    "\n",
    "    - Max the length of a common subsequence corresponds to max the score of an alignment with mis_match = indel = 0"
   ]
  },
  {
   "cell_type": "markdown",
   "id": "288b8ef3",
   "metadata": {},
   "source": [
    "### Edit distance\n",
    "+ Input: two strings\n",
    "+ Output: the min number of operations (insertions, deletions & substitutions of symbols) to transform one string into another."
   ]
  },
  {
   "cell_type": "markdown",
   "id": "79e70858",
   "metadata": {},
   "source": [
    "+ Example:\n",
    "\n",
    "![edit_distance](./figures/edit_distance.PNG)"
   ]
  },
  {
   "cell_type": "markdown",
   "id": "6111599c",
   "metadata": {},
   "source": [
    "### 5.2.2 Computing Edit Distance "
   ]
  },
  {
   "cell_type": "markdown",
   "id": "fbe7d477",
   "metadata": {},
   "source": [
    "![computing_edit_distance](./figures/computing_edit_distance.PNG)"
   ]
  },
  {
   "cell_type": "markdown",
   "id": "d6927019",
   "metadata": {},
   "source": [
    "#### Pseudo code"
   ]
  },
  {
   "cell_type": "markdown",
   "id": "97645e36",
   "metadata": {},
   "source": [
    "```\n",
    "EditDistance(A[1 ... n], B[1 ... m]):\n",
    "    D(i, 0) := i\n",
    "    D(0, j) := j \n",
    "    for j to [1: m]:\n",
    "        for i to [1 : n]:\n",
    "            insert_value := D(i, j - 1) + 1\n",
    "            del_value := D(i - 1, j) + 1\n",
    "            match_value := D(i - 1, j - 1)\n",
    "            mismatch_value := D(i - 1, j - 1) +  1\n",
    "            if A[i] == B[j]:\n",
    "                D(i, j) := min(insert_value, del_value, match_value)\n",
    "            else:\n",
    "                D(i ,j) := max(insert_value, del_value, mismatch_value)\n",
    "    return D(n, m)                \n",
    "```"
   ]
  },
  {
   "cell_type": "markdown",
   "id": "d3ed0a8f",
   "metadata": {},
   "source": [
    "+ Example:\n",
    "\n",
    "![ex_distance_edit](./figures/ex_distance_edit.PNG)"
   ]
  },
  {
   "cell_type": "markdown",
   "id": "d6683d98",
   "metadata": {},
   "source": [
    "### 5.2.3 Reconstructing an Optimal Alignment"
   ]
  },
  {
   "cell_type": "markdown",
   "id": "d6b04c14",
   "metadata": {},
   "source": [
    "+ How can we find a optimal alignment ?\n",
    "    - The backtracking pointers that we stored will helps us to reconstruct an optimal alignment.\n",
    "    - "
   ]
  },
  {
   "cell_type": "markdown",
   "id": "9c363b57",
   "metadata": {},
   "source": [
    "# 5.3 Additional Slides"
   ]
  },
  {
   "cell_type": "code",
   "execution_count": null,
   "id": "b0d0451d",
   "metadata": {},
   "outputs": [],
   "source": []
  }
 ],
 "metadata": {
  "kernelspec": {
   "display_name": "Python 3",
   "language": "python",
   "name": "python3"
  },
  "language_info": {
   "codemirror_mode": {
    "name": "ipython",
    "version": 3
   },
   "file_extension": ".py",
   "mimetype": "text/x-python",
   "name": "python",
   "nbconvert_exporter": "python",
   "pygments_lexer": "ipython3",
   "version": "3.8.8"
  }
 },
 "nbformat": 4,
 "nbformat_minor": 5
}
