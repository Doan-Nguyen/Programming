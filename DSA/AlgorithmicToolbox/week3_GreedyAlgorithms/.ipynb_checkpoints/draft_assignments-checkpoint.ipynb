{
 "cells": [
  {
   "cell_type": "code",
   "execution_count": 18,
   "id": "200e7b88",
   "metadata": {},
   "outputs": [],
   "source": [
    "def change(money):\n",
    "    # sorted by value\n",
    "    dict_coins_value = [{\"value\": 10}, {\"value\": 5}, {\"value\": 1}]\n",
    "    total_coins = 0\n",
    "    for coin_value in dict_coins_value:\n",
    "        total_coins += int(money/coin_value[\"value\"])\n",
    "        money = money - int(money/coin_value[\"value\"])*coin_value[\"value\"]\n",
    "    return total_coins"
   ]
  },
  {
   "cell_type": "code",
   "execution_count": 17,
   "id": "e2d3980b",
   "metadata": {},
   "outputs": [
    {
     "name": "stdout",
     "output_type": "stream",
     "text": [
      "2\n"
     ]
    }
   ],
   "source": [
    "total_coins = change(2)\n",
    "print(total_coins)"
   ]
  },
  {
   "cell_type": "code",
   "execution_count": null,
   "id": "e99c3094",
   "metadata": {},
   "outputs": [],
   "source": [
    "def fractional_knapsack():\n",
    "    \n",
    "    \n"
   ]
  }
 ],
 "metadata": {
  "kernelspec": {
   "display_name": "Python 3",
   "language": "python",
   "name": "python3"
  },
  "language_info": {
   "codemirror_mode": {
    "name": "ipython",
    "version": 3
   },
   "file_extension": ".py",
   "mimetype": "text/x-python",
   "name": "python",
   "nbconvert_exporter": "python",
   "pygments_lexer": "ipython3",
   "version": "3.7.3"
  }
 },
 "nbformat": 4,
 "nbformat_minor": 5
}
