{
 "cells": [
  {
   "cell_type": "markdown",
   "id": "73ba80ca",
   "metadata": {},
   "source": [
    "# 1. Arrays and Linked Lists"
   ]
  },
  {
   "cell_type": "markdown",
   "id": "4778b199",
   "metadata": {},
   "source": [
    "## 1.1 Arrays"
   ]
  },
  {
   "cell_type": "markdown",
   "id": "9f0cc0ca",
   "metadata": {},
   "source": [
    "+ **Definition**: Array contigous (sequence) area of memory consisting of equal-size elements indexed by contiguous integers.\n",
    "    - it is broken down into equal sized elements."
   ]
  },
  {
   "cell_type": "markdown",
   "id": "81eae2de",
   "metadata": {},
   "source": [
    "+ What's special about arrays ?\n",
    "    - contanst time to access to any particular element.\n",
    "        - Constant time to read\n",
    "        - Constant time to write\n",
    "    - the address of the array: \n",
    "        - every element has the same size.\n",
    "        - end_arr_add = start_arr_add + elem_size*(index - first_index)"
   ]
  },
  {
   "cell_type": "markdown",
   "id": "418770bc",
   "metadata": {},
   "source": [
    "+ Multi-Dimensional arrays:\n",
    "    - end_arr_add = start_arr_add + elem_size x ((index_row - first_index) x numb_col + (index_col - 1)"
   ]
  },
  {
   "cell_type": "markdown",
   "id": "b10f907d",
   "metadata": {},
   "source": [
    "+ Time for common operations:\n",
    "    - Standard feature of array: read & write - O(1) \n",
    "    - Remove/add first element: O(n)\n",
    "        - Step 1: remove first element\n",
    "        - Step 2: update/push array's elements\n",
    "    - Remove/add middle element: O(n)\n",
    "\n",
    "![time_common_operations](./figures/time_common_operations.PNG)\n",
    "\n",
    "+ Notes: (huge advantage)\n",
    "    - array has a constant time to access to elements, either read or write."
   ]
  },
  {
   "cell_type": "markdown",
   "id": "7c0d7ecb",
   "metadata": {},
   "source": [
    "+ **Summary**:\n",
    "    - Array: contigous area of memory consisting of equal-size elements indexed by contiguous integers.\n",
    "    - Constant time access to any element.\n",
    "    - Constant time to add/remove at the end."
   ]
  },
  {
   "cell_type": "markdown",
   "id": "39b8dfd8",
   "metadata": {},
   "source": [
    "## 1.2 Singly-Linked lists"
   ]
  },
  {
   "attachments": {},
   "cell_type": "markdown",
   "id": "7056ce78",
   "metadata": {},
   "source": [
    "![singly_linked_lists](./figures/singly_linked_lists.PNG)"
   ]
  },
  {
   "cell_type": "markdown",
   "id": "e8dddbe6",
   "metadata": {},
   "source": [
    "+ **The operations:**\n",
    "    - PushFront(Key): add to front\n",
    "    - TopFront() -> Key: return front item\n",
    "    - PopFront(): remove front item\n",
    "    - PushBack(key): add to back\n",
    "    - TopBack() -> Key: return back item\n",
    "    - PopBack(): remove back item\n",
    "    - Find(Key) -> Boolean: is key in list ?\n",
    "    - Erase(Key): remove key from list\n",
    "    - Empty() -> Boolean: empty list ?\n",
    "    - AddBefore(Node, Key): adds key before node\n",
    "    - AddAfter(Node, Key): adds key after node\n",
    "    "
   ]
  },
  {
   "cell_type": "markdown",
   "id": "35de5fa5",
   "metadata": {},
   "source": [
    "### Times for some operations"
   ]
  },
  {
   "cell_type": "markdown",
   "id": "0865de80",
   "metadata": {},
   "source": [
    "#### Push front"
   ]
  },
  {
   "cell_type": "markdown",
   "id": "6e787258",
   "metadata": {},
   "source": [
    "+ Visualize O(1):\n",
    "\n",
    "![visualize_push_front](./figures/visualize_push_front.PNG)\n",
    "\n",
    "+ Pseudo code:\n",
    "\n",
    "```\n",
    "PushFront(key):\n",
    "    node := new node\n",
    "    node.key := key\n",
    "    node.next := head\n",
    "    head := node\n",
    "    if tail == null:\n",
    "        tail := head\n",
    "```"
   ]
  },
  {
   "cell_type": "markdown",
   "id": "1e5d1e68",
   "metadata": {},
   "source": [
    "#### PopFront"
   ]
  },
  {
   "cell_type": "markdown",
   "id": "0e206514",
   "metadata": {},
   "source": [
    "+ Step by step - O(1):\n",
    "    - Step 1: update the head pointer\n",
    "    - Step 2: remove the node\n",
    "    \n",
    "+ Pseudo code:\n",
    "```\n",
    "PopFront():\n",
    "    if head == null:\n",
    "        Error: empty list\n",
    "    head := head.next\n",
    "    if head == null:\n",
    "        tail := null\n",
    "```"
   ]
  },
  {
   "cell_type": "markdown",
   "id": "d686e9ca",
   "metadata": {},
   "source": [
    "#### PushBack(Key)"
   ]
  },
  {
   "cell_type": "markdown",
   "id": "2f782d8f",
   "metadata": {},
   "source": [
    "+ Pseudo code\n",
    "```\n",
    "node := new node\n",
    "node.key := key\n",
    "node.next := null\n",
    "if tail == null:\n",
    "    head := tail \n",
    "else:\n",
    "    tail.next := node\n",
    "    tail := node\n",
    "```"
   ]
  },
  {
   "cell_type": "markdown",
   "id": "70c5e422",
   "metadata": {},
   "source": [
    "#### PopBack()"
   ]
  },
  {
   "cell_type": "markdown",
   "id": "4c3d267f",
   "metadata": {},
   "source": [
    "+ Pseudo code:\n",
    "```\n",
    "if head == null:\n",
    "    Error: empty list\n",
    "if head == tail:    \n",
    "    head := tail := null\n",
    "else: \n",
    "    p := head\n",
    "    while p.next.next != null:\n",
    "        p := p.next\n",
    "p.next := null\n",
    "tail := p\n",
    "```"
   ]
  },
  {
   "cell_type": "markdown",
   "id": "4bf1c3e5",
   "metadata": {},
   "source": [
    "#### AddAfter(node, key)\n",
    "\n",
    "+ Pseudo code:\n",
    "```\n",
    "node2 := new node\n",
    "node2.key := key\n",
    "node2.next = node.next\n",
    "node.next = node2\n",
    "if tail == node:\n",
    "    tail := node2\n",
    "```"
   ]
  },
  {
   "cell_type": "markdown",
   "id": "6947ad9b",
   "metadata": {},
   "source": [
    "#### Summary\n",
    "\n",
    "![summary_array](./figures/summary_array.PNG)"
   ]
  },
  {
   "cell_type": "markdown",
   "id": "9ce19379",
   "metadata": {},
   "source": [
    "## 1.3 Doubly-Linked lists"
   ]
  },
  {
   "cell_type": "markdown",
   "id": "ae7fe7cd",
   "metadata": {},
   "source": [
    "+ Visual doubly-linked:\n",
    "\n",
    "![doubly_linked_list](./figures/doubly_linked_list.PNG)"
   ]
  },
  {
   "cell_type": "markdown",
   "id": "bf8f5761",
   "metadata": {},
   "source": [
    "#### PushBack(key)\n",
    "\n",
    "![pushback](./figures/doubly_linked_pushback.PNG)"
   ]
  },
  {
   "cell_type": "markdown",
   "id": "1cf384d8",
   "metadata": {},
   "source": [
    "#### PopBack()"
   ]
  },
  {
   "cell_type": "markdown",
   "id": "7a154577",
   "metadata": {},
   "source": [
    "![doubly_linked_popback](./figures/doubly_linked_popback.PNG)"
   ]
  },
  {
   "cell_type": "markdown",
   "id": "86eb37ac",
   "metadata": {},
   "source": [
    "#### AddAfter(node, key)"
   ]
  },
  {
   "cell_type": "markdown",
   "id": "35ad65d7",
   "metadata": {},
   "source": [
    "![doubly_linked_addafter](./figures/doubly_linked_addafter.PNG)"
   ]
  },
  {
   "cell_type": "markdown",
   "id": "8d24ad13",
   "metadata": {},
   "source": [
    "#### Summary"
   ]
  },
  {
   "cell_type": "markdown",
   "id": "7c2dd435",
   "metadata": {},
   "source": [
    "![doubly_linked_summary](./figures/doubly_linked_summary.PNG)"
   ]
  },
  {
   "cell_type": "markdown",
   "id": "b4fba3f9",
   "metadata": {},
   "source": [
    "# 2. Stack and Queues"
   ]
  },
  {
   "cell_type": "markdown",
   "id": "077a0388",
   "metadata": {},
   "source": [
    "# 3. Trees"
   ]
  },
  {
   "cell_type": "markdown",
   "id": "c92a7a03",
   "metadata": {},
   "source": [
    "# 4. "
   ]
  }
 ],
 "metadata": {
  "kernelspec": {
   "display_name": "Python 3",
   "language": "python",
   "name": "python3"
  },
  "language_info": {
   "codemirror_mode": {
    "name": "ipython",
    "version": 3
   },
   "file_extension": ".py",
   "mimetype": "text/x-python",
   "name": "python",
   "nbconvert_exporter": "python",
   "pygments_lexer": "ipython3",
   "version": "3.8.8"
  }
 },
 "nbformat": 4,
 "nbformat_minor": 5
}
