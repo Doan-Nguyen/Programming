{
 "cells": [
  {
   "cell_type": "markdown",
   "id": "73ba80ca",
   "metadata": {},
   "source": [
    "# 1. Arrays and Linked Lists"
   ]
  },
  {
   "cell_type": "markdown",
   "id": "4778b199",
   "metadata": {},
   "source": [
    "## 1.1 Arrays"
   ]
  },
  {
   "cell_type": "markdown",
   "id": "9f0cc0ca",
   "metadata": {},
   "source": [
    "+ **Definition**: Array contigous (sequence) area of memory consisting of equal-size elements indexed by contiguous integers.\n",
    "    - it is broken down into equal sized elements."
   ]
  },
  {
   "cell_type": "markdown",
   "id": "81eae2de",
   "metadata": {},
   "source": [
    "+ What's special about arrays ?\n",
    "    - contanst time to access to any particular element.\n",
    "        - Constant time to read\n",
    "        - Constant time to write\n",
    "    - the address of the array: \n",
    "        - every element has the same size.\n",
    "        - end_arr_add = start_arr_add + elem_size*(index - first_index)"
   ]
  },
  {
   "cell_type": "markdown",
   "id": "418770bc",
   "metadata": {},
   "source": [
    "+ Multi-Dimensional arrays:\n",
    "    - end_arr_add = start_arr_add + elem_size x ((index_row - first_index) x numb_col + (index_col - 1)"
   ]
  },
  {
   "cell_type": "markdown",
   "id": "b10f907d",
   "metadata": {},
   "source": [
    "+ Time for common operations:\n",
    "    - Standard feature of array: read & write - O(1) \n",
    "    - Remove/add first element: O(n)\n",
    "        - Step 1: remove first element\n",
    "        - Step 2: update/push array's elements\n",
    "    - Remove/add middle element: O(n)\n",
    "\n",
    "![time_common_operations](./figures/time_common_operations.PNG)\n",
    "\n",
    "+ Notes: (huge advantage)\n",
    "    - array has a constant time to access to elements, either read or write."
   ]
  },
  {
   "cell_type": "markdown",
   "id": "7c0d7ecb",
   "metadata": {},
   "source": [
    "+ **Summary**:\n",
    "    - Array: contigous area of memory consisting of equal-size elements indexed by contiguous integers.\n",
    "    - Constant time access to any element.\n",
    "    - Constant time to add/remove at the end."
   ]
  },
  {
   "cell_type": "markdown",
   "id": "39b8dfd8",
   "metadata": {},
   "source": [
    "## 1.2 Singly-Linked lists"
   ]
  },
  {
   "cell_type": "markdown",
   "id": "7056ce78",
   "metadata": {},
   "source": [
    "![singly_linked_lists](./figures/singly_linked_lists.PNG)"
   ]
  },
  {
   "cell_type": "markdown",
   "id": "e8dddbe6",
   "metadata": {},
   "source": [
    "+ **The operations:**\n",
    "    - PushFront(Key): add to front\n",
    "    - TopFront() -> Key: return front item\n",
    "    - PopFront(): remove front item\n",
    "    - PushBack(key): add to back\n",
    "    - TopBack() -> Key: return back item\n",
    "    - PopBack(): remove back item\n",
    "    - Find(Key) -> Boolean: is key in list ?\n",
    "    - Erase(Key): remove key from list\n",
    "    - Empty() -> Boolean: empty list ?\n",
    "    - AddBefore(Node, Key): adds key before node\n",
    "    - AddAfter(Node, Key): adds key after node\n",
    "    "
   ]
  },
  {
   "cell_type": "markdown",
   "id": "35de5fa5",
   "metadata": {},
   "source": [
    "### Times for some operations"
   ]
  },
  {
   "cell_type": "markdown",
   "id": "0865de80",
   "metadata": {},
   "source": [
    "#### Push front"
   ]
  },
  {
   "cell_type": "markdown",
   "id": "6e787258",
   "metadata": {},
   "source": [
    "+ Visualize O(1):\n",
    "\n",
    "![visualize_push_front](./figures/visualize_push_front.PNG)\n",
    "\n",
    "+ Pseudo code:\n",
    "\n",
    "```\n",
    "PushFront(key):\n",
    "    node := new node\n",
    "    node.key := key\n",
    "    node.next := head\n",
    "    head := node\n",
    "    if tail == null:\n",
    "        tail := head\n",
    "```"
   ]
  },
  {
   "cell_type": "markdown",
   "id": "1e5d1e68",
   "metadata": {},
   "source": [
    "#### PopFront"
   ]
  },
  {
   "cell_type": "markdown",
   "id": "2901e58d",
   "metadata": {},
   "source": []
  },
  {
   "cell_type": "markdown",
   "id": "44b2bc6d",
   "metadata": {},
   "source": []
  },
  {
   "cell_type": "markdown",
   "id": "0e206514",
   "metadata": {},
   "source": [
    "+ Step by step - O(1):\n",
    "    - Step 1: update the head pointer\n",
    "    - Step 2: remove the node\n",
    "    \n",
    "+ Pseudo code:\n",
    "```\n",
    "PopFront():\n",
    "    if head == null:\n",
    "        Error: empty list\n",
    "    head := head.next\n",
    "    if head == null:\n",
    "        tail := null\n",
    "```"
   ]
  },
  {
   "cell_type": "markdown",
   "id": "d686e9ca",
   "metadata": {},
   "source": [
    "#### PushBack(Key)"
   ]
  },
  {
   "cell_type": "markdown",
   "id": "2f782d8f",
   "metadata": {},
   "source": [
    "+ Pseudo code\n",
    "```\n",
    "node := new node\n",
    "node.key := key\n",
    "node.next := null\n",
    "if tail == null:\n",
    "    head := tail \n",
    "else:\n",
    "    tail.next := node\n",
    "    tail := node\n",
    "```"
   ]
  },
  {
   "cell_type": "markdown",
   "id": "70c5e422",
   "metadata": {},
   "source": [
    "#### PopBack()"
   ]
  },
  {
   "cell_type": "markdown",
   "id": "4c3d267f",
   "metadata": {},
   "source": [
    "+ Pseudo code:\n",
    "```\n",
    "if head == null:\n",
    "    Error: empty list\n",
    "if head == tail:    \n",
    "    head := tail := null\n",
    "else: \n",
    "    p := head\n",
    "    while p.next.next != null:\n",
    "        p := p.next\n",
    "p.next := null\n",
    "tail := p\n",
    "```"
   ]
  },
  {
   "cell_type": "markdown",
   "id": "4bf1c3e5",
   "metadata": {},
   "source": [
    "#### AddAfter(node, key)\n",
    "\n",
    "+ Pseudo code:\n",
    "```\n",
    "node2 := new node\n",
    "node2.key := key\n",
    "node2.next = node.next\n",
    "node.next = node2\n",
    "if tail == node:\n",
    "    tail := node2\n",
    "```"
   ]
  },
  {
   "cell_type": "markdown",
   "id": "6947ad9b",
   "metadata": {},
   "source": [
    "#### Summary\n",
    "\n",
    "![summary_array](./figures/summary_array.PNG)"
   ]
  },
  {
   "cell_type": "markdown",
   "id": "9ce19379",
   "metadata": {},
   "source": [
    "## 1.3 Doubly-Linked lists"
   ]
  },
  {
   "cell_type": "markdown",
   "id": "ae7fe7cd",
   "metadata": {},
   "source": [
    "+ Visual doubly-linked:\n",
    "\n",
    "![doubly_linked_list](./figures/doubly_linked_list.PNG)"
   ]
  },
  {
   "cell_type": "markdown",
   "id": "bf8f5761",
   "metadata": {},
   "source": [
    "#### PushBack(key)\n",
    "\n",
    "![pushback](./figures/doubly_linked_pushback.PNG)"
   ]
  },
  {
   "cell_type": "markdown",
   "id": "1cf384d8",
   "metadata": {},
   "source": [
    "#### PopBack()"
   ]
  },
  {
   "cell_type": "markdown",
   "id": "7a154577",
   "metadata": {},
   "source": [
    "![doubly_linked_popback](./figures/doubly_linked_popback.PNG)"
   ]
  },
  {
   "cell_type": "markdown",
   "id": "86eb37ac",
   "metadata": {},
   "source": [
    "#### AddAfter(node, key)"
   ]
  },
  {
   "cell_type": "markdown",
   "id": "35ad65d7",
   "metadata": {},
   "source": [
    "![doubly_linked_addafter](./figures/doubly_linked_addafter.PNG)"
   ]
  },
  {
   "cell_type": "markdown",
   "id": "8d24ad13",
   "metadata": {},
   "source": [
    "#### Summary"
   ]
  },
  {
   "cell_type": "code",
   "execution_count": null,
   "id": "9b0ef1ad",
   "metadata": {},
   "outputs": [],
   "source": []
  },
  {
   "cell_type": "code",
   "execution_count": null,
   "metadata": {},
   "outputs": [],
   "source": []
  },
  {
   "cell_type": "markdown",
   "id": "7c2dd435",
   "metadata": {},
   "source": [
    "![doubly_linked_summary](./figures/doubly_linked_summary.PNG)"
   ]
  },
  {
   "cell_type": "markdown",
   "id": "b4fba3f9",
   "metadata": {},
   "source": [
    "# 2. Stack and Queues"
   ]
  },
  {
   "cell_type": "markdown",
   "id": "2688f402",
   "metadata": {},
   "source": [
    "## 2.1 Stack"
   ]
  },
  {
   "cell_type": "markdown",
   "id": "8c4fcc94",
   "metadata": {},
   "source": [
    "+ Definition:\n",
    "    - Stack: abstract data type with following operations:\n",
    "        - Push(key): adds key to collection\n",
    "        - Top() -> key: returns most recently-added key\n",
    "        - Pop() -> key: removes & returns most recently-added key\n",
    "        - Empty(): are there any elements ?"
   ]
  },
  {
   "cell_type": "markdown",
   "id": "6ce86896",
   "metadata": {},
   "source": [
    "+ Balanced brackets\n",
    "    - Input: a string consisting of ['(', ')', '[', ']']\n",
    "    - Output: return whether or not the string's parenthese & square brackets are balanced.\n",
    "\n",
    "+ Example:\n",
    "    - Balanced: \n",
    "        - \"([])[]()\"\n",
    "        - \"((([([])]))())\"\n",
    "    - Unbalanced:\n",
    "        - \"([]]()\"\n",
    "        - \"]["
   ]
  },
  {
   "cell_type": "markdown",
   "id": "c58abceb",
   "metadata": {},
   "source": [
    "#### IsBalanced(str)\n",
    "```\n",
    "Stack stack\n",
    "for char in str:\n",
    "    if char in ['(', '[']:\n",
    "        stack.Push(char)\n",
    "    else:\n",
    "        if stack.Empty():\n",
    "            return False\n",
    "        top := stack.Pop()\n",
    "        if (top == '[' and char != ']') or (top == '(' and char != ')'):\n",
    "            return False\n",
    "return stack.Empty()                \n",
    "```"
   ]
  },
  {
   "cell_type": "markdown",
   "id": "466a32e0",
   "metadata": {},
   "source": [
    "#### Stack implement with array"
   ]
  },
  {
   "cell_type": "markdown",
   "id": "967c320b",
   "metadata": {},
   "source": [
    "#### Stack implement with Linked List"
   ]
  },
  {
   "cell_type": "markdown",
   "id": "f9408c7c",
   "metadata": {},
   "source": [
    "+ The limitation of array is maximum size."
   ]
  },
  {
   "cell_type": "markdown",
   "id": "a36aa456",
   "metadata": {},
   "source": []
  },
  {
   "cell_type": "markdown",
   "metadata": {},
   "source": []
  },
  {
   "cell_type": "markdown",
   "id": "429b9068",
   "metadata": {},
   "source": [
    "#### Summary\n",
    "+ Stack can be implemented with either an array or a linked list.\n",
    "+ Each stack operation is O(1): Push, Pop, Top, Empty\n",
    "+ Stack: LIFO queues."
   ]
  },
  {
   "cell_type": "markdown",
   "id": "90184981",
   "metadata": {},
   "source": [
    "## 2.2 Queues"
   ]
  },
  {
   "cell_type": "markdown",
   "id": "dac0c146",
   "metadata": {},
   "source": [
    "+ Definition:\n",
    "    - **Queues**: Abstract data type with the following operations:\n",
    "      - Enqueue(Key): adds key to collection\n",
    "      - Dequeue() -> Key: removes and returns least recently-added key\n",
    "      - Boolean Empty(): are there any elements ?\n",
    "    - First In First Out (FIFO)"
   ]
  },
  {
   "cell_type": "markdown",
   "id": "077a0388",
   "metadata": {},
   "source": [
    "# 3. Trees"
   ]
  },
  {
   "cell_type": "markdown",
   "id": "675fee15",
   "metadata": {},
   "source": [
    "+ Definition: A tree is:\n",
    "    - Empty, or\n",
    "    - A node with:\n",
    "        - a key, and\n",
    "        - a list of child trees\n",
    "        - parent (optional)\n",
    "\n",
    "+ Simple tree:\n",
    "\n",
    "![simple_tree](./figures/simple_tree.PNG)\n",
    "\n",
    "+ Terminology:\n",
    "\n",
    "![tree_example](./figures/tree_example.PNG)\n",
    "\n",
    "    - Fred ~ root (level 1)\n",
    "    - Kate ~ parent of Sam & Hung (level 2)\n",
    "    - Sam & Hugh ~ level 3\n",
    "    \n",
    "    - *Forest*: collection of trees\n",
    "    \n",
    "+ For binay tree, node contains:\n",
    "    - key\n",
    "    - left\n",
    "    - right\n",
    "    - parent (optional)"
   ]
  },
  {
   "cell_type": "markdown",
   "id": "1fcfe1fd",
   "metadata": {},
   "source": [
    "+ Pseudo code for tree's height:\n",
    "```\n",
    "height(tree):\n",
    "    if tree == null:\n",
    "        return 0\n",
    "    return 1 + Max(height(tree.left), height(tree.right))\n",
    "```\n",
    "\n"
   ]
  },
  {
   "cell_type": "markdown",
   "id": "e2a5e615",
   "metadata": {},
   "source": [
    "+ Pseudo code for tree's size:\n",
    "```\n",
    "size(tree):\n",
    "    if tree == null:\n",
    "        return 0\n",
    "    return 1 + size(tree.left) + size(tree.right)\n",
    "```"
   ]
  },
  {
   "cell_type": "markdown",
   "id": "0591dd29",
   "metadata": {},
   "source": [
    "## 3.2 Tree Traversal\n"
   ]
  },
  {
   "cell_type": "markdown",
   "id": "273b9e2f",
   "metadata": {},
   "source": [
    "+ Có 2 phương pháp duyệt cây chính:\n",
    "    - Deeth-first (tìm kiếm chiều sâu): di chuyển hết 1 cây con rồi chuyển sang cây khác đồng cấp.\n",
    "    - Breadth-first (tìm kiếm chiều rộng): di chuyển qua tất cả các nodes cùng level trước khi chuyển sang level khác.\n"
   ]
  },
  {
   "cell_type": "markdown",
   "id": "4ada2528",
   "metadata": {},
   "source": [
    "+ Depth-first:\n",
    "```\n",
    "inOrderTraversal(tree): # duyet thu tu\n",
    "    if tree == null:\n",
    "        return 0\n",
    "    inOrderTraversal(tree.left)\n",
    "    print(tree.key)\n",
    "    inOrderTraversal(tree.right)\n",
    "```\n",
    "\n",
    "```\n",
    "# duyent tien thu tu\n",
    "\n",
    "preOrderTraversal(tree):\n",
    "    if tree == null:\n",
    "        return 0\n",
    "    print(tree.key)\n",
    "    preOrderTraversal(tree.left)\n",
    "    preOrderTraversal(tree.right)\n",
    "```"
   ]
  },
  {
   "cell_type": "code",
   "execution_count": null,
   "id": "656efc3a",
   "metadata": {},
   "outputs": [],
   "source": []
  },
  {
   "cell_type": "markdown",
   "id": "c92a7a03",
   "metadata": {},
   "source": [
    "# 4. "
   ]
  }
 ],
 "metadata": {
  "kernelspec": {
   "display_name": "Python 3",
   "language": "python",
   "name": "python3"
  },
  "language_info": {
   "codemirror_mode": {
    "name": "ipython",
    "version": 3
   },
   "file_extension": ".py",
   "mimetype": "text/x-python",
   "name": "python",
   "nbconvert_exporter": "python",
   "pygments_lexer": "ipython3",
   "version": "3.8.8"
  }
 },
 "nbformat": 4,
 "nbformat_minor": 5
}
