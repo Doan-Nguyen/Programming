{
 "cells": [
  {
   "cell_type": "markdown",
   "id": "e50fe4ce",
   "metadata": {},
   "source": [
    "# 1. Getting started tutorials\n",
    "(https://pandas.pydata.org/pandas-docs/stable/getting_started/intro_tutorials/index.html)"
   ]
  },
  {
   "cell_type": "markdown",
   "id": "c3aa7cb8",
   "metadata": {},
   "source": [
    "## 1.1 What kind of data does pandas handle ?"
   ]
  },
  {
   "cell_type": "code",
   "execution_count": 1,
   "id": "7ce580f9",
   "metadata": {},
   "outputs": [],
   "source": [
    "import pandas as pd"
   ]
  },
  {
   "cell_type": "code",
   "execution_count": 10,
   "id": "47b37882",
   "metadata": {},
   "outputs": [
    {
     "data": {
      "text/html": [
       "<div>\n",
       "<style scoped>\n",
       "    .dataframe tbody tr th:only-of-type {\n",
       "        vertical-align: middle;\n",
       "    }\n",
       "\n",
       "    .dataframe tbody tr th {\n",
       "        vertical-align: top;\n",
       "    }\n",
       "\n",
       "    .dataframe thead th {\n",
       "        text-align: right;\n",
       "    }\n",
       "</style>\n",
       "<table border=\"1\" class=\"dataframe\">\n",
       "  <thead>\n",
       "    <tr style=\"text-align: right;\">\n",
       "      <th></th>\n",
       "      <th>Name</th>\n",
       "      <th>Age</th>\n",
       "      <th>School</th>\n",
       "    </tr>\n",
       "  </thead>\n",
       "  <tbody>\n",
       "    <tr>\n",
       "      <th>0</th>\n",
       "      <td>DoanNN</td>\n",
       "      <td>26</td>\n",
       "      <td>BKHN</td>\n",
       "    </tr>\n",
       "    <tr>\n",
       "      <th>1</th>\n",
       "      <td>ToanNN</td>\n",
       "      <td>61</td>\n",
       "      <td>Quan su</td>\n",
       "    </tr>\n",
       "    <tr>\n",
       "      <th>2</th>\n",
       "      <td>Bong</td>\n",
       "      <td>6</td>\n",
       "      <td>Tieu hoc</td>\n",
       "    </tr>\n",
       "  </tbody>\n",
       "</table>\n",
       "</div>"
      ],
      "text/plain": [
       "     Name  Age    School\n",
       "0  DoanNN   26      BKHN\n",
       "1  ToanNN   61   Quan su\n",
       "2    Bong    6  Tieu hoc"
      ]
     },
     "execution_count": 10,
     "metadata": {},
     "output_type": "execute_result"
    }
   ],
   "source": [
    "family_df = pd.DataFrame(\n",
    "{\n",
    "    \"Name\": [\"DoanNN\", \"ToanNN\", \"Bong\"],\n",
    "    \"Age\": [26, 61, 6],\n",
    "    \"School\": [\"BKHN\", \"Quan su\", \"Tieu hoc\"]\n",
    "})\n",
    "#\n",
    "family_df"
   ]
  },
  {
   "cell_type": "markdown",
   "id": "50b6f392",
   "metadata": {},
   "source": [
    "### *Each column* in a DataFrame is a **Series**"
   ]
  },
  {
   "cell_type": "code",
   "execution_count": 11,
   "id": "b1cf9f3c",
   "metadata": {},
   "outputs": [
    {
     "data": {
      "text/plain": [
       "0    DoanNN\n",
       "1    ToanNN\n",
       "2      Bong\n",
       "Name: Name, dtype: object"
      ]
     },
     "execution_count": 11,
     "metadata": {},
     "output_type": "execute_result"
    }
   ],
   "source": [
    "family_df[\"Name\"]"
   ]
  },
  {
   "cell_type": "code",
   "execution_count": 12,
   "id": "5946a5b2",
   "metadata": {},
   "outputs": [
    {
     "data": {
      "text/html": [
       "<div>\n",
       "<style scoped>\n",
       "    .dataframe tbody tr th:only-of-type {\n",
       "        vertical-align: middle;\n",
       "    }\n",
       "\n",
       "    .dataframe tbody tr th {\n",
       "        vertical-align: top;\n",
       "    }\n",
       "\n",
       "    .dataframe thead th {\n",
       "        text-align: right;\n",
       "    }\n",
       "</style>\n",
       "<table border=\"1\" class=\"dataframe\">\n",
       "  <thead>\n",
       "    <tr style=\"text-align: right;\">\n",
       "      <th></th>\n",
       "      <th>Name</th>\n",
       "      <th>Age</th>\n",
       "    </tr>\n",
       "  </thead>\n",
       "  <tbody>\n",
       "    <tr>\n",
       "      <th>0</th>\n",
       "      <td>DoanNN</td>\n",
       "      <td>26</td>\n",
       "    </tr>\n",
       "    <tr>\n",
       "      <th>1</th>\n",
       "      <td>ToanNN</td>\n",
       "      <td>61</td>\n",
       "    </tr>\n",
       "    <tr>\n",
       "      <th>2</th>\n",
       "      <td>Bong</td>\n",
       "      <td>6</td>\n",
       "    </tr>\n",
       "  </tbody>\n",
       "</table>\n",
       "</div>"
      ],
      "text/plain": [
       "     Name  Age\n",
       "0  DoanNN   26\n",
       "1  ToanNN   61\n",
       "2    Bong    6"
      ]
     },
     "execution_count": 12,
     "metadata": {},
     "output_type": "execute_result"
    }
   ],
   "source": [
    "list_columns = [\"Name\", \"Age\"]\n",
    "family_df[list_columns]"
   ]
  },
  {
   "cell_type": "markdown",
   "id": "40bf393e",
   "metadata": {},
   "source": [
    "### Create a **Series** from scratch"
   ]
  },
  {
   "cell_type": "code",
   "execution_count": 13,
   "id": "7eba9427",
   "metadata": {},
   "outputs": [],
   "source": [
    "ages = pd.Series([4, 50, 30], name='Age')"
   ]
  },
  {
   "cell_type": "code",
   "execution_count": 14,
   "id": "b1733803",
   "metadata": {},
   "outputs": [
    {
     "data": {
      "text/plain": [
       "0     4\n",
       "1    50\n",
       "2    30\n",
       "Name: Age, dtype: int64"
      ]
     },
     "execution_count": 14,
     "metadata": {},
     "output_type": "execute_result"
    }
   ],
   "source": [
    "ages"
   ]
  },
  {
   "cell_type": "markdown",
   "id": "fbe3c1db",
   "metadata": {},
   "source": [
    "## 2. How to read & write tabular data ?"
   ]
  },
  {
   "cell_type": "code",
   "execution_count": null,
   "id": "ba45ab1d",
   "metadata": {},
   "outputs": [],
   "source": []
  }
 ],
 "metadata": {
  "kernelspec": {
   "display_name": "Python 3",
   "language": "python",
   "name": "python3"
  },
  "language_info": {
   "codemirror_mode": {
    "name": "ipython",
    "version": 3
   },
   "file_extension": ".py",
   "mimetype": "text/x-python",
   "name": "python",
   "nbconvert_exporter": "python",
   "pygments_lexer": "ipython3",
   "version": "3.8.8"
  }
 },
 "nbformat": 4,
 "nbformat_minor": 5
}
