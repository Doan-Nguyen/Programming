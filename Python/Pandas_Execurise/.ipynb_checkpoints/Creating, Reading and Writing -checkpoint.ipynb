{
 "cells": [
  {
   "cell_type": "code",
   "execution_count": 1,
   "id": "1fe3fe69",
   "metadata": {},
   "outputs": [],
   "source": [
    "import pandas as pd"
   ]
  },
  {
   "cell_type": "markdown",
   "id": "d3a50cd0",
   "metadata": {},
   "source": [
    "# 1. Creating data\n",
    "\n",
    "+ Two core objects in pandas:\n",
    "    - DataFrame\n",
    "    - Series"
   ]
  },
  {
   "cell_type": "markdown",
   "id": "40fa698a",
   "metadata": {},
   "source": [
    "## 1.1 DataFrame"
   ]
  },
  {
   "cell_type": "markdown",
   "id": "28d20bfc",
   "metadata": {},
   "source": [
    "\n",
    "+ Dạng dữ liệu bảng. Bao gồm một mảng của nhiều mục độc lập, mỗi mục có các giá trị rõ ràng.\n",
    "    - Các mục có sự tương đồng mô tả cột và hàng"
   ]
  },
  {
   "cell_type": "code",
   "execution_count": 2,
   "id": "5ce821db",
   "metadata": {},
   "outputs": [
    {
     "data": {
      "text/html": [
       "<div>\n",
       "<style scoped>\n",
       "    .dataframe tbody tr th:only-of-type {\n",
       "        vertical-align: middle;\n",
       "    }\n",
       "\n",
       "    .dataframe tbody tr th {\n",
       "        vertical-align: top;\n",
       "    }\n",
       "\n",
       "    .dataframe thead th {\n",
       "        text-align: right;\n",
       "    }\n",
       "</style>\n",
       "<table border=\"1\" class=\"dataframe\">\n",
       "  <thead>\n",
       "    <tr style=\"text-align: right;\">\n",
       "      <th></th>\n",
       "      <th>First col</th>\n",
       "      <th>Second col</th>\n",
       "    </tr>\n",
       "  </thead>\n",
       "  <tbody>\n",
       "    <tr>\n",
       "      <th>0</th>\n",
       "      <td>10</td>\n",
       "      <td>15</td>\n",
       "    </tr>\n",
       "    <tr>\n",
       "      <th>1</th>\n",
       "      <td>20</td>\n",
       "      <td>25</td>\n",
       "    </tr>\n",
       "  </tbody>\n",
       "</table>\n",
       "</div>"
      ],
      "text/plain": [
       "   First col  Second col\n",
       "0         10          15\n",
       "1         20          25"
      ]
     },
     "execution_count": 2,
     "metadata": {},
     "output_type": "execute_result"
    }
   ],
   "source": [
    "df = pd.DataFrame({'First col': [10, 20], 'Second col': [15, 25]})\n",
    "df"
   ]
  },
  {
   "cell_type": "markdown",
   "id": "7468accb",
   "metadata": {},
   "source": [
    "+ Kiểu dữ liệu **dict-list** gán các giá trị cho từng cột thông qua *label*\n",
    "+ Muốn gán tên thay thế index bằng cách gán list theo thứ tự từ trên xuống dưới các hàng.\n",
    "\n",
    "   ```\n",
    "   df = pd.DataFrame({'first_col': [value 1, value 2, value 3]},\n",
    "                      index=[first_row_label, second_row_label])\n",
    "   ```"
   ]
  },
  {
   "cell_type": "code",
   "execution_count": 3,
   "id": "5023af3f",
   "metadata": {},
   "outputs": [
    {
     "data": {
      "text/html": [
       "<div>\n",
       "<style scoped>\n",
       "    .dataframe tbody tr th:only-of-type {\n",
       "        vertical-align: middle;\n",
       "    }\n",
       "\n",
       "    .dataframe tbody tr th {\n",
       "        vertical-align: top;\n",
       "    }\n",
       "\n",
       "    .dataframe thead th {\n",
       "        text-align: right;\n",
       "    }\n",
       "</style>\n",
       "<table border=\"1\" class=\"dataframe\">\n",
       "  <thead>\n",
       "    <tr style=\"text-align: right;\">\n",
       "      <th></th>\n",
       "      <th>Age</th>\n",
       "      <th>Live</th>\n",
       "    </tr>\n",
       "  </thead>\n",
       "  <tbody>\n",
       "    <tr>\n",
       "      <th>Doan</th>\n",
       "      <td>26</td>\n",
       "      <td>Thanh Xuan</td>\n",
       "    </tr>\n",
       "    <tr>\n",
       "      <th>Toan</th>\n",
       "      <td>60</td>\n",
       "      <td>Phu Xuyen</td>\n",
       "    </tr>\n",
       "  </tbody>\n",
       "</table>\n",
       "</div>"
      ],
      "text/plain": [
       "      Age        Live\n",
       "Doan   26  Thanh Xuan\n",
       "Toan   60   Phu Xuyen"
      ]
     },
     "execution_count": 3,
     "metadata": {},
     "output_type": "execute_result"
    }
   ],
   "source": [
    "df_index = pd.DataFrame({'Age': [26, 60], 'Live': ['Thanh Xuan', 'Phu Xuyen']},\n",
    "                        index=['Doan', 'Toan'])\n",
    "df_index"
   ]
  },
  {
   "cell_type": "markdown",
   "id": "4706f0b9",
   "metadata": {},
   "source": [
    "## 1.2 Series\n",
    "+ Một chuỗi của giá trị (tương tự như list)."
   ]
  },
  {
   "cell_type": "code",
   "execution_count": 4,
   "id": "7be460f2",
   "metadata": {},
   "outputs": [
    {
     "data": {
      "text/plain": [
       "0    1\n",
       "1    2\n",
       "2    3\n",
       "dtype: int64"
      ]
     },
     "execution_count": 4,
     "metadata": {},
     "output_type": "execute_result"
    }
   ],
   "source": [
    "series_1 = pd.Series([1, 2, 3])\n",
    "series_1"
   ]
  },
  {
   "cell_type": "markdown",
   "id": "396c7e1d",
   "metadata": {},
   "source": [
    "+ Series có thể coi như một cột của DataFrame.\n",
    "+ Ta có thể gán giá trị của các cột bẳng *index*."
   ]
  },
  {
   "cell_type": "code",
   "execution_count": 6,
   "id": "7368cfc0",
   "metadata": {},
   "outputs": [
    {
     "data": {
      "text/plain": [
       "Sales 2020    30\n",
       "Sales 2021    35\n",
       "Sales 2022    40\n",
       "Name: Smart phone sale, dtype: int64"
      ]
     },
     "execution_count": 6,
     "metadata": {},
     "output_type": "execute_result"
    }
   ],
   "source": [
    "series_2 = pd.Series([30, 35, 40], \n",
    "                     index=['Sales 2020', 'Sales 2021', 'Sales 2022'],\n",
    "                     name=\"Smart phone sale\")\n",
    "series_2"
   ]
  },
  {
   "cell_type": "markdown",
   "id": "af07b8e7",
   "metadata": {},
   "source": [
    "## 1.3 Reading data files\n",
    "\n",
    "+ Sử dụng:\n",
    "```\n",
    "pd.read_csv(index_id=0)\n",
    "```"
   ]
  },
  {
   "cell_type": "markdown",
   "id": "a1fe9674",
   "metadata": {},
   "source": [
    "# 2. Indexing, Selecting & Assigning"
   ]
  },
  {
   "cell_type": "markdown",
   "id": "3ae1fcd1",
   "metadata": {},
   "source": [
    "\n"
   ]
  },
  {
   "cell_type": "markdown",
   "id": "8e8a9bed",
   "metadata": {},
   "source": [
    "## 2.1 Indexing in pandas"
   ]
  },
  {
   "cell_type": "markdown",
   "id": "31111f09",
   "metadata": {},
   "source": [
    "+ Index trong pandas làm việc với 2 mô hình:\n",
    "    - *iloc*: chọn thông tin dựa trên số thứ tự về vị trí trong data.\n",
    "\n",
    "    - *loc*: "
   ]
  },
  {
   "cell_type": "code",
   "execution_count": 13,
   "id": "015a43ce",
   "metadata": {},
   "outputs": [
    {
     "data": {
      "text/html": [
       "<div>\n",
       "<style scoped>\n",
       "    .dataframe tbody tr th:only-of-type {\n",
       "        vertical-align: middle;\n",
       "    }\n",
       "\n",
       "    .dataframe tbody tr th {\n",
       "        vertical-align: top;\n",
       "    }\n",
       "\n",
       "    .dataframe thead th {\n",
       "        text-align: right;\n",
       "    }\n",
       "</style>\n",
       "<table border=\"1\" class=\"dataframe\">\n",
       "  <thead>\n",
       "    <tr style=\"text-align: right;\">\n",
       "      <th></th>\n",
       "      <th>country</th>\n",
       "      <th>city</th>\n",
       "      <th>area</th>\n",
       "    </tr>\n",
       "  </thead>\n",
       "  <tbody>\n",
       "    <tr>\n",
       "      <th>0</th>\n",
       "      <td>Italy</td>\n",
       "      <td>Roma</td>\n",
       "      <td>eu</td>\n",
       "    </tr>\n",
       "    <tr>\n",
       "      <th>1</th>\n",
       "      <td>Portugal</td>\n",
       "      <td>Hmmm</td>\n",
       "      <td>eu</td>\n",
       "    </tr>\n",
       "    <tr>\n",
       "      <th>2</th>\n",
       "      <td>France</td>\n",
       "      <td>Paris</td>\n",
       "      <td>eu</td>\n",
       "    </tr>\n",
       "  </tbody>\n",
       "</table>\n",
       "</div>"
      ],
      "text/plain": [
       "    country   city area\n",
       "0     Italy   Roma   eu\n",
       "1  Portugal   Hmmm   eu\n",
       "2    France  Paris   eu"
      ]
     },
     "execution_count": 13,
     "metadata": {},
     "output_type": "execute_result"
    }
   ],
   "source": [
    "example_df = pd.DataFrame({'country': ['Italy', 'Portugal', 'France'], \n",
    "                           'city': ['Roma', 'Hmmm', 'Paris'],\n",
    "                           'area': ['eu', 'eu', 'eu']})\n",
    "example_df"
   ]
  },
  {
   "cell_type": "code",
   "execution_count": 15,
   "id": "c789d95c",
   "metadata": {},
   "outputs": [
    {
     "data": {
      "text/plain": [
       "country    Italy\n",
       "city        Roma\n",
       "area          eu\n",
       "Name: 0, dtype: object"
      ]
     },
     "execution_count": 15,
     "metadata": {},
     "output_type": "execute_result"
    }
   ],
   "source": [
    "example_df.iloc[0]"
   ]
  },
  {
   "cell_type": "code",
   "execution_count": null,
   "id": "84875290",
   "metadata": {},
   "outputs": [],
   "source": []
  },
  {
   "cell_type": "code",
   "execution_count": null,
   "id": "c9b8930a",
   "metadata": {},
   "outputs": [],
   "source": []
  },
  {
   "cell_type": "code",
   "execution_count": null,
   "id": "68e5e054",
   "metadata": {},
   "outputs": [],
   "source": []
  }
 ],
 "metadata": {
  "kernelspec": {
   "display_name": "Python 3",
   "language": "python",
   "name": "python3"
  },
  "language_info": {
   "codemirror_mode": {
    "name": "ipython",
    "version": 3
   },
   "file_extension": ".py",
   "mimetype": "text/x-python",
   "name": "python",
   "nbconvert_exporter": "python",
   "pygments_lexer": "ipython3",
   "version": "3.8.8"
  }
 },
 "nbformat": 4,
 "nbformat_minor": 5
}
