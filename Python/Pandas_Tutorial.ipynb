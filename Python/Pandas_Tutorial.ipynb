{
 "cells": [
  {
   "cell_type": "code",
   "execution_count": 1,
   "id": "742eeba3",
   "metadata": {},
   "outputs": [],
   "source": [
    "import pandas as pd\n",
    "import numpy as np"
   ]
  },
  {
   "cell_type": "markdown",
   "id": "f5b989a5",
   "metadata": {},
   "source": [
    "# 1. Intro to data structures"
   ]
  },
  {
   "cell_type": "markdown",
   "id": "8bdbe01e",
   "metadata": {},
   "source": [
    "+ Nguyên lý: "
   ]
  },
  {
   "cell_type": "markdown",
   "id": "f73d912f",
   "metadata": {},
   "source": [
    "## 1.1 Series\n",
    "+ Là mảng 1 chiều được gán nhãn có khả năng chứa bất kì kiểu dạng dữ liệu (int, strings, float point number, python object ...)\n",
    "+ Trục nhãn được gọi chung là **index**"
   ]
  },
  {
   "cell_type": "markdown",
   "id": "9938f066",
   "metadata": {},
   "source": [
    "```\n",
    "s = pd.Series(data, index=index)\n",
    "```\n",
    "\n",
    "+ data có thể:\n",
    "    - a python dict\n",
    "    - an ndarray\n",
    "    - a scalar value\n",
    "+ **index**: danh sách các labels."
   ]
  },
  {
   "cell_type": "markdown",
   "id": "6814bf80",
   "metadata": {},
   "source": [
    "+ **From ndarray**: \n",
    "    - index cùng độ dài với data\n",
    "    - Nếu index default sẽ được khởi tạo [0, 1, ..., len(data) -1]"
   ]
  },
  {
   "cell_type": "code",
   "execution_count": 8,
   "id": "c482e942",
   "metadata": {},
   "outputs": [
    {
     "data": {
      "text/plain": [
       "a    0.662802\n",
       "b   -0.951857\n",
       "c   -0.829884\n",
       "d    1.762194\n",
       "dtype: float64"
      ]
     },
     "execution_count": 8,
     "metadata": {},
     "output_type": "execute_result"
    }
   ],
   "source": [
    "s_ndarray = pd.Series(np.random.randn(4), index=['a', 'b', 'c', 'd'])\n",
    "#\n",
    "s_ndarray"
   ]
  },
  {
   "cell_type": "code",
   "execution_count": 9,
   "id": "76e2df40",
   "metadata": {},
   "outputs": [
    {
     "data": {
      "text/plain": [
       "0    0.113135\n",
       "1    0.831673\n",
       "2    0.184079\n",
       "3    0.180374\n",
       "dtype: float64"
      ]
     },
     "execution_count": 9,
     "metadata": {},
     "output_type": "execute_result"
    }
   ],
   "source": [
    "s_ndarray_default = pd.Series(np.random.rand(4))\n",
    "#\n",
    "s_ndarray_default"
   ]
  },
  {
   "cell_type": "markdown",
   "id": "d9d2b00b",
   "metadata": {},
   "source": [
    "+ **From dict**\n",
    "    - Khi dữ liệu từ dict & index default, thứ tự series sẽ được sắp xếp theo thứ tự chèn của dict"
   ]
  },
  {
   "cell_type": "code",
   "execution_count": 11,
   "id": "8457d682",
   "metadata": {},
   "outputs": [
    {
     "data": {
      "text/plain": [
       "a    1\n",
       "b    2\n",
       "c    3\n",
       "dtype: int64"
      ]
     },
     "execution_count": 11,
     "metadata": {},
     "output_type": "execute_result"
    }
   ],
   "source": [
    "d = {\"a\": 1, \"b\": 2, \"c\": 3}\n",
    "#\n",
    "s_d_default = pd.Series(d)\n",
    "#\n",
    "s_d_default"
   ]
  },
  {
   "cell_type": "code",
   "execution_count": 13,
   "id": "0f28cf96",
   "metadata": {},
   "outputs": [
    {
     "data": {
      "text/plain": [
       "d    NaN\n",
       "e    NaN\n",
       "f    NaN\n",
       "a    1.0\n",
       "c    3.0\n",
       "dtype: float64"
      ]
     },
     "execution_count": 13,
     "metadata": {},
     "output_type": "execute_result"
    }
   ],
   "source": [
    "s_d = pd.Series(d, index=['d', 'e', 'f', 'a', 'c'])\n",
    "#\n",
    "s_d"
   ]
  },
  {
   "cell_type": "code",
   "execution_count": null,
   "id": "c8c08cee",
   "metadata": {},
   "outputs": [],
   "source": []
  },
  {
   "cell_type": "code",
   "execution_count": null,
   "id": "b458d395",
   "metadata": {},
   "outputs": [],
   "source": [
    "\n"
   ]
  }
 ],
 "metadata": {
  "kernelspec": {
   "display_name": "Python 3",
   "language": "python",
   "name": "python3"
  },
  "language_info": {
   "codemirror_mode": {
    "name": "ipython",
    "version": 3
   },
   "file_extension": ".py",
   "mimetype": "text/x-python",
   "name": "python",
   "nbconvert_exporter": "python",
   "pygments_lexer": "ipython3",
   "version": "3.8.8"
  }
 },
 "nbformat": 4,
 "nbformat_minor": 5
}
