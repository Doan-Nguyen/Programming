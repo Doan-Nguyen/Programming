{
 "cells": [
  {
   "cell_type": "markdown",
   "id": "654f094a",
   "metadata": {},
   "source": [
    "# 3.1 Introducing Pandas Objects"
   ]
  },
  {
   "cell_type": "markdown",
   "id": "22ed145b",
   "metadata": {},
   "source": [
    "## 3.1.1 The pandas Series Object"
   ]
  },
  {
   "cell_type": "markdown",
   "id": "1501dc90",
   "metadata": {},
   "source": [
    "## 3.1.2 The pandas DataFrame Object"
   ]
  },
  {
   "cell_type": "markdown",
   "id": "e9435a35",
   "metadata": {},
   "source": [
    "## 3.1.3 The pandas Index Object"
   ]
  },
  {
   "cell_type": "markdown",
   "id": "03824031",
   "metadata": {},
   "source": [
    "# 3.2 Data Indexing and Selection"
   ]
  },
  {
   "cell_type": "markdown",
   "id": "9779b8f8",
   "metadata": {},
   "source": [
    "## 3.2.1 Data Selection in Series"
   ]
  },
  {
   "cell_type": "markdown",
   "id": "7746646d",
   "metadata": {},
   "source": [
    "## 3.2.2 Data Selection in DataFrame"
   ]
  },
  {
   "cell_type": "markdown",
   "id": "3dcffaca",
   "metadata": {},
   "source": [
    "# 3.3 Operating on Data in Pandas"
   ]
  },
  {
   "cell_type": "markdown",
   "id": "fa0901e4",
   "metadata": {},
   "source": [
    "## 3.3.1 Ufuncs: Index preservation"
   ]
  },
  {
   "cell_type": "markdown",
   "id": "f34df488",
   "metadata": {},
   "source": [
    "## 3.3.2 Ufuncs: Index alignment"
   ]
  },
  {
   "cell_type": "markdown",
   "id": "db98e669",
   "metadata": {},
   "source": [
    "## 3.3.3 Ufuncs: Operations between DataFrame and Series"
   ]
  },
  {
   "cell_type": "markdown",
   "id": "9de6332f",
   "metadata": {},
   "source": [
    "# 3.4 Handling Missing Data"
   ]
  },
  {
   "cell_type": "markdown",
   "id": "2e349ea5",
   "metadata": {},
   "source": [
    "## 3.4.1 Trade-off in Missing Data Conventions"
   ]
  },
  {
   "cell_type": "markdown",
   "id": "3e099e08",
   "metadata": {},
   "source": [
    "## 3.4.2 Missing data in Pandas"
   ]
  },
  {
   "cell_type": "markdown",
   "id": "87b60641",
   "metadata": {},
   "source": [
    "## 3.4.3 Operating on Null values"
   ]
  },
  {
   "cell_type": "markdown",
   "id": "6bb4d4aa",
   "metadata": {},
   "source": [
    "# 3.5 Hierarchical Indexing"
   ]
  },
  {
   "cell_type": "code",
   "execution_count": null,
   "id": "dae0c03e",
   "metadata": {},
   "outputs": [],
   "source": []
  },
  {
   "cell_type": "markdown",
   "id": "c16b4c4e",
   "metadata": {},
   "source": [
    "# 3.6 Combining Datasets: Concat & Append"
   ]
  },
  {
   "cell_type": "markdown",
   "id": "3ebdb378",
   "metadata": {},
   "source": [
    "# 3.7 Combining Datasets: Merge & Join"
   ]
  },
  {
   "cell_type": "markdown",
   "id": "ee36ebf3",
   "metadata": {},
   "source": [
    "# 3.8 Aggregation & Grouping"
   ]
  },
  {
   "cell_type": "markdown",
   "id": "3d3ad0ea",
   "metadata": {},
   "source": [
    "# 3.9 Pivot Tables"
   ]
  },
  {
   "cell_type": "markdown",
   "id": "7eb6306e",
   "metadata": {},
   "source": [
    "# 3.10 Vectorized String Operations"
   ]
  },
  {
   "cell_type": "markdown",
   "id": "5a0d5adb",
   "metadata": {},
   "source": [
    "# 3.11 Working with Time Series"
   ]
  },
  {
   "cell_type": "markdown",
   "id": "d7c94024",
   "metadata": {},
   "source": [
    "# 3.12 High-Performance Pandas: eval() & query()"
   ]
  },
  {
   "cell_type": "markdown",
   "id": "b9291258",
   "metadata": {},
   "source": []
  }
 ],
 "metadata": {
  "kernelspec": {
   "display_name": "Python 3",
   "language": "python",
   "name": "python3"
  },
  "language_info": {
   "codemirror_mode": {
    "name": "ipython",
    "version": 3
   },
   "file_extension": ".py",
   "mimetype": "text/x-python",
   "name": "python",
   "nbconvert_exporter": "python",
   "pygments_lexer": "ipython3",
   "version": "3.8.8"
  }
 },
 "nbformat": 4,
 "nbformat_minor": 5
}
