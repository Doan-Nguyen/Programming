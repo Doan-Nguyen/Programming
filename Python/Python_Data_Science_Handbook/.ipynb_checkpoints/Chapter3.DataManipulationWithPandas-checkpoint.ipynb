{
 "cells": [
  {
   "cell_type": "markdown",
   "id": "e27e52f0",
   "metadata": {},
   "source": [
    "# 3.1 Introducing Pandas Objects"
   ]
  },
  {
   "cell_type": "markdown",
   "id": "f8360ba2",
   "metadata": {},
   "source": [
    "## 3.1.1 The pandas Series Object"
   ]
  },
  {
   "cell_type": "markdown",
   "id": "90673ebf",
   "metadata": {},
   "source": [
    "## 3.1.2 The pandas DataFrame Object"
   ]
  },
  {
   "cell_type": "markdown",
   "id": "e1e243b4",
   "metadata": {},
   "source": [
    "## 3.1.3 The pandas Index Object"
   ]
  },
  {
   "cell_type": "markdown",
   "id": "a8e35174",
   "metadata": {},
   "source": [
    "# 3.2 Data Indexing and Selection"
   ]
  },
  {
   "cell_type": "markdown",
   "id": "2a1ef99b",
   "metadata": {},
   "source": [
    "## 3.2.1 Data Selection in Series"
   ]
  },
  {
   "cell_type": "markdown",
   "id": "b51f89aa",
   "metadata": {},
   "source": [
    "## 3.2.2 Data Selection in DataFrame"
   ]
  },
  {
   "cell_type": "markdown",
   "id": "3be86a99",
   "metadata": {},
   "source": [
    "# 3.3 Operating on Data in Pandas"
   ]
  },
  {
   "cell_type": "markdown",
   "id": "58742e4d",
   "metadata": {},
   "source": [
    "## 3.3.1 Ufuncs: Index preservation"
   ]
  },
  {
   "cell_type": "markdown",
   "id": "1abd9679",
   "metadata": {},
   "source": [
    "## 3.3.2 Ufuncs: Index alignment"
   ]
  },
  {
   "cell_type": "markdown",
   "id": "d3ac7501",
   "metadata": {},
   "source": [
    "## 3.3.3 Ufuncs: Operations between DataFrame and Series"
   ]
  },
  {
   "cell_type": "markdown",
   "id": "24b8d081",
   "metadata": {},
   "source": [
    "# 3.4 Handling Missing Data"
   ]
  },
  {
   "cell_type": "markdown",
   "id": "90807591",
   "metadata": {},
   "source": [
    "## 3.4.1 Trade-off in Missing Data Conventions"
   ]
  },
  {
   "cell_type": "markdown",
   "id": "2751bf25",
   "metadata": {},
   "source": [
    "## 3.4.2 Missing data in Pandas"
   ]
  },
  {
   "cell_type": "markdown",
   "id": "9c09678e",
   "metadata": {},
   "source": [
    "## 3.4.3 Operating on Null values"
   ]
  },
  {
   "cell_type": "markdown",
   "id": "fdacd73e",
   "metadata": {},
   "source": [
    "# 3.5 Hierarchical Indexing"
   ]
  },
  {
   "cell_type": "code",
   "execution_count": null,
   "id": "1f41a070",
   "metadata": {},
   "outputs": [],
   "source": []
  },
  {
   "cell_type": "markdown",
   "id": "61127dd6",
   "metadata": {},
   "source": [
    "# 3.6 Combining Datasets: Concat & Append"
   ]
  },
  {
   "cell_type": "markdown",
   "id": "000086b0",
   "metadata": {},
   "source": [
    "# 3.7 Combining Datasets: Merge & Join"
   ]
  },
  {
   "cell_type": "markdown",
   "id": "be328b55",
   "metadata": {},
   "source": [
    "# 3.8 Aggregation & Grouping"
   ]
  },
  {
   "cell_type": "markdown",
   "id": "b2194c45",
   "metadata": {},
   "source": [
    "# 3.9 Pivot Tables"
   ]
  },
  {
   "cell_type": "markdown",
   "id": "88a97672",
   "metadata": {},
   "source": [
    "# 3.10 Vectorized String Operations"
   ]
  },
  {
   "cell_type": "markdown",
   "id": "7f5fe87a",
   "metadata": {},
   "source": [
    "# 3.11 Working with Time Series"
   ]
  },
  {
   "cell_type": "markdown",
   "id": "7fa87173",
   "metadata": {},
   "source": [
    "# 3.12 High-Performance Pandas: eval() & query()"
   ]
  },
  {
   "cell_type": "markdown",
   "id": "6ad1d1c0",
   "metadata": {},
   "source": []
  }
 ],
 "metadata": {
  "kernelspec": {
   "display_name": "Python 3",
   "language": "python",
   "name": "python3"
  },
  "language_info": {
   "codemirror_mode": {
    "name": "ipython",
    "version": 3
   },
   "file_extension": ".py",
   "mimetype": "text/x-python",
   "name": "python",
   "nbconvert_exporter": "python",
   "pygments_lexer": "ipython3",
   "version": "3.8.8"
  }
 },
 "nbformat": 4,
 "nbformat_minor": 5
}
