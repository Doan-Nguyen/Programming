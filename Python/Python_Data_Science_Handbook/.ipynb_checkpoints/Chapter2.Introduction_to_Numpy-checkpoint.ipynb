{
 "cells": [
  {
   "cell_type": "markdown",
   "id": "e0b890da",
   "metadata": {},
   "source": [
    "# Content\n",
    "\n",
    "\n",
    "# [2.1 Understanding Data Types in Python](#2.1-Understanding-Data-Types-in-Python)\n",
    "\n",
    "# [2.2 The Basics of Numpy Arrays](2.2-The-Basics-of-Numpy-Arrays)\n",
    "\n",
    "# [2.3 Computation on Numpy Arrays: Unversal Functions](2.3-Computation-on-Numpy-Arrays:-Unversal-Functions)\n"
   ]
  },
  {
   "cell_type": "markdown",
   "id": "f8ea421e",
   "metadata": {},
   "source": [
    "# 2.1 Understanding Data Types in Python"
   ]
  },
  {
   "cell_type": "markdown",
   "id": "c5a887f3",
   "metadata": {},
   "source": [
    "## A python integer is more than just an Integer"
   ]
  },
  {
   "cell_type": "markdown",
   "id": "4b7d0c2c",
   "metadata": {},
   "source": [
    "+ Mọi object trong python được viết lại (cải trang) bởi cấu trúc C bao gồm giá trị & các thông tin khác.\n",
    "    - Ex: x=10 ~ bản chất là 1 con trỏ tới 1 khối (hợp chất) cấu trúc C.\n",
    "    ```\n",
    "    struct _longobject{\n",
    "        long ob_refcnt; # a reference count (số tham chiếu), giúp Python handle sự phân bố trong memory.\n",
    "        PyTypeObject *ob_type; # mã hóa kiểu dữ liệu của biến.\n",
    "        size_t ob_size; specifies (chỉ định) kích thước của đối tượng dữ liệu \n",
    "        long ob_digit[1]; # bao gồm giá trị thực của integer.\n",
    "    }\n",
    "    ```\n",
    "    \n",
    "    - Minh họa lưu trữ biến integer trong C & Python\n",
    "    ![Sư khác nhau C & Python integers](./figures/difference_c_python_integer.PNG)\n",
    "    \n",
    "        - Với C, số int là 1 nhãn cho 1 vị trí trong bộ nhớ của các bytes mã hóa 1 giá trị int.\n",
    "        - Với Python, số int là 1 con trỏ tới 1 vị trí trong bộ nhớ chứa toàn bộ thông tin của object bao gồm các bytes chứa giá trị int."
   ]
  },
  {
   "cell_type": "markdown",
   "id": "0db42d74",
   "metadata": {},
   "source": [
    "## A Python List is more than just a list"
   ]
  },
  {
   "cell_type": "markdown",
   "id": "cd954f80",
   "metadata": {},
   "source": [
    "+ List: định dạng có thể thay đổi nhiều thành phần"
   ]
  },
  {
   "cell_type": "code",
   "execution_count": 1,
   "id": "bfa76f3e",
   "metadata": {},
   "outputs": [
    {
     "data": {
      "text/plain": [
       "[0, 1, 2, 3, 4, 5, 6, 7, 8, 9]"
      ]
     },
     "execution_count": 1,
     "metadata": {},
     "output_type": "execute_result"
    }
   ],
   "source": [
    "list_1 = list(range(10))\n",
    "list_1"
   ]
  },
  {
   "cell_type": "code",
   "execution_count": 3,
   "id": "fc83e75f",
   "metadata": {},
   "outputs": [
    {
     "name": "stdout",
     "output_type": "stream",
     "text": [
      "Type of list_1:  <class 'list'>\n",
      "Type of element in list_1:  <class 'int'>\n"
     ]
    }
   ],
   "source": [
    "print(\"Type of list_1: \", type(list_1))\n",
    "print(\"Type of element in list_1: \", type(list_1[0]))"
   ]
  },
  {
   "cell_type": "markdown",
   "id": "a87d6d14",
   "metadata": {},
   "source": [
    "+ Có thể tạo list không đồng nhất (heterogeneous) kiểu dữ liệu:"
   ]
  },
  {
   "cell_type": "code",
   "execution_count": 4,
   "id": "4fc156e6",
   "metadata": {},
   "outputs": [],
   "source": [
    "list_2 = [True, 1, \"All\"]"
   ]
  },
  {
   "cell_type": "markdown",
   "id": "8b50ee54",
   "metadata": {},
   "source": [
    "+ Python object: bao gồm \n",
    "    - Thông tin kiểu dữ liệu \n",
    "    - Reference count (số tham chiếu)\n",
    "    - Các thông tin khác (kích thước được chỉ định cho object, the actual object value)"
   ]
  },
  {
   "cell_type": "markdown",
   "id": "3f90d52e",
   "metadata": {},
   "source": [
    "+ Notes: \n",
    "    - list có khả năng linh động kiểu dữ liệu có thể dẫn đến dư thừa tài nguyên. \n",
    "    - list chứa 1 con trỏ chỉ tới 1 khối các con trỏ. Mỗi một con trỏ lại chỉ đến 1 đối tượng đầy đủ. \n",
    "    - Ưu điểm list là tính linh động nhưng cần cân nhắc việc cố định kiểu (dữ liệu) trong việc xử lý & lưu trữ dữ liệu.\n",
    "    \n",
    "+ Sự khác nhau giữa C & Python list\n",
    "![difference_c_python_list](./figures/difference_c_python_list.PNG)"
   ]
  },
  {
   "cell_type": "markdown",
   "id": "cfb86fee",
   "metadata": {},
   "source": [
    "## Fixed-type Arrays in Python\n",
    "\n",
    "+ Python có 1 vài lựa chọn cho việc lưu trữ dữ liệu hiêu quả, cố định kiểu dữ liệu bộ đệm.\n"
   ]
  },
  {
   "cell_type": "code",
   "execution_count": 5,
   "id": "3f713cac",
   "metadata": {},
   "outputs": [],
   "source": [
    "import array"
   ]
  },
  {
   "cell_type": "code",
   "execution_count": 7,
   "id": "a4c7e191",
   "metadata": {},
   "outputs": [
    {
     "data": {
      "text/plain": [
       "array('i', [0, 1, 2, 3, 4])"
      ]
     },
     "execution_count": 7,
     "metadata": {},
     "output_type": "execute_result"
    }
   ],
   "source": [
    "# Tạo 1 array đồng dạng\n",
    "list_3 = list(range(5))\n",
    "a = array.array('i', list_3)\n",
    "#\n",
    "a"
   ]
  },
  {
   "cell_type": "code",
   "execution_count": 8,
   "id": "0583f43a",
   "metadata": {},
   "outputs": [],
   "source": [
    "import numpy as np"
   ]
  },
  {
   "cell_type": "markdown",
   "id": "d951d266",
   "metadata": {},
   "source": [
    "## Creating Arrays from Python Lists\n",
    "\n",
    "+ **Notes**: Numpy có hạn chế là các thành phần trong 1 array phải cùng kiểu dữ liệu."
   ]
  },
  {
   "cell_type": "code",
   "execution_count": 9,
   "id": "b435149f",
   "metadata": {},
   "outputs": [
    {
     "data": {
      "text/plain": [
       "array([1, 2, 3, 4])"
      ]
     },
     "execution_count": 9,
     "metadata": {},
     "output_type": "execute_result"
    }
   ],
   "source": [
    "# int array\n",
    "i_arr = np.array([1, 2, 3, 4])\n",
    "i_arr"
   ]
  },
  {
   "cell_type": "code",
   "execution_count": 12,
   "id": "0aec53f9",
   "metadata": {},
   "outputs": [
    {
     "name": "stdout",
     "output_type": "stream",
     "text": [
      "<class 'numpy.float64'>\n",
      "<class 'numpy.float64'>\n",
      "<class 'numpy.float64'>\n",
      "<class 'numpy.float64'>\n"
     ]
    },
    {
     "data": {
      "text/plain": [
       "array([3.14, 1.  , 2.  , 3.  ])"
      ]
     },
     "execution_count": 12,
     "metadata": {},
     "output_type": "execute_result"
    }
   ],
   "source": [
    "i_f_arr = np.array([3.14, 1, 2, 3])\n",
    "for element in i_f_arr:\n",
    "    print(type(element))\n",
    "#\n",
    "i_f_arr"
   ]
  },
  {
   "cell_type": "markdown",
   "id": "ae314c8e",
   "metadata": {},
   "source": [
    "+ Sử dụng *dtype* để config kiểu dữ liệu cho array."
   ]
  },
  {
   "cell_type": "code",
   "execution_count": 16,
   "id": "0b0edd32",
   "metadata": {},
   "outputs": [
    {
     "data": {
      "text/plain": [
       "array([1., 2., 3., 4.], dtype=float32)"
      ]
     },
     "execution_count": 16,
     "metadata": {},
     "output_type": "execute_result"
    }
   ],
   "source": [
    "f_32_arr = np.array([1, 2, 3, 4], dtype='float32')\n",
    "f_32_arr"
   ]
  },
  {
   "cell_type": "markdown",
   "id": "53a1e927",
   "metadata": {},
   "source": [
    "+ Numpy array có thể tạo nhiều chiều"
   ]
  },
  {
   "cell_type": "code",
   "execution_count": 19,
   "id": "5f9e1a27",
   "metadata": {},
   "outputs": [
    {
     "data": {
      "text/plain": [
       "array([[1, 2, 3],\n",
       "       [2, 3, 4],\n",
       "       [3, 4, 5]])"
      ]
     },
     "execution_count": 19,
     "metadata": {},
     "output_type": "execute_result"
    }
   ],
   "source": [
    "numb_dimen = 3\n",
    "m_d_arr = np.array([range(i, i + numb_dimen) for i in [1, 2, 3]])\n",
    "#\n",
    "m_d_arr"
   ]
  },
  {
   "cell_type": "markdown",
   "id": "526ddcdc",
   "metadata": {},
   "source": [
    "## Create Arrays from Scratch\n"
   ]
  },
  {
   "cell_type": "code",
   "execution_count": 21,
   "id": "03e6e6f3",
   "metadata": {},
   "outputs": [
    {
     "data": {
      "text/plain": [
       "array([0, 0, 0, 0, 0, 0, 0, 0, 0, 0])"
      ]
     },
     "execution_count": 21,
     "metadata": {},
     "output_type": "execute_result"
    }
   ],
   "source": [
    "num_element = 10\n",
    "zero_arr = np.zeros(num_element, dtype=int)\n",
    "#\n",
    "zero_arr"
   ]
  },
  {
   "cell_type": "code",
   "execution_count": 22,
   "id": "ffe2136e",
   "metadata": {},
   "outputs": [
    {
     "data": {
      "text/plain": [
       "array([[1., 1., 1., 1., 1.],\n",
       "       [1., 1., 1., 1., 1.],\n",
       "       [1., 1., 1., 1., 1.]])"
      ]
     },
     "execution_count": 22,
     "metadata": {},
     "output_type": "execute_result"
    }
   ],
   "source": [
    "shape_size = (3, 5)\n",
    "one_arr = np.ones(shape=shape_size,\n",
    "                  dtype=float)\n",
    "one_arr"
   ]
  },
  {
   "cell_type": "code",
   "execution_count": 23,
   "id": "ecc1f4d9",
   "metadata": {},
   "outputs": [
    {
     "data": {
      "text/plain": [
       "array([[3.14, 3.14, 3.14],\n",
       "       [3.14, 3.14, 3.14]])"
      ]
     },
     "execution_count": 23,
     "metadata": {},
     "output_type": "execute_result"
    }
   ],
   "source": [
    "shape_size_full = (2, 3)\n",
    "full_arr = np.full(shape=shape_size_full, \n",
    "                  fill_value=3.14)\n",
    "full_arr"
   ]
  },
  {
   "cell_type": "markdown",
   "id": "9c1e71fb",
   "metadata": {},
   "source": [
    "+ np.arrange(start, end, step)  # theo thu tu\n",
    "+ np.linspace(start, end, number_elements) # cach deu"
   ]
  },
  {
   "cell_type": "code",
   "execution_count": 29,
   "id": "0a2c7a20",
   "metadata": {},
   "outputs": [
    {
     "data": {
      "text/plain": [
       "array([1, 2, 3, 4, 5, 6, 7, 8, 9])"
      ]
     },
     "execution_count": 29,
     "metadata": {},
     "output_type": "execute_result"
    }
   ],
   "source": [
    "arange_arr = np.arange(1, 10, 1)\n",
    "arange_arr"
   ]
  },
  {
   "cell_type": "code",
   "execution_count": 30,
   "id": "ed1c66f5",
   "metadata": {},
   "outputs": [
    {
     "data": {
      "text/plain": [
       "array([0.        , 0.22222222, 0.44444444, 0.66666667, 0.88888889,\n",
       "       1.11111111, 1.33333333, 1.55555556, 1.77777778, 2.        ])"
      ]
     },
     "execution_count": 30,
     "metadata": {},
     "output_type": "execute_result"
    }
   ],
   "source": [
    "linspace_arr = np.linspace(0, 2, 10)\n",
    "linspace_arr"
   ]
  },
  {
   "cell_type": "markdown",
   "id": "50712b46",
   "metadata": {},
   "source": [
    "+ Tao ngau nhien ma tran phan bo đồng nhất (uniformly)\n",
    "```\n",
    "np.random.random((shape))\n",
    "```"
   ]
  },
  {
   "cell_type": "code",
   "execution_count": 33,
   "id": "17529442",
   "metadata": {},
   "outputs": [
    {
     "data": {
      "text/plain": [
       "array([[0.45978783, 0.90918836, 0.5436754 , 0.25812603, 0.54483946],\n",
       "       [0.54702174, 0.35936847, 0.21008134, 0.9698777 , 0.73351898],\n",
       "       [0.82201812, 0.64897638, 0.70389485, 0.03169595, 0.77163756]])"
      ]
     },
     "execution_count": 33,
     "metadata": {},
     "output_type": "execute_result"
    }
   ],
   "source": [
    "uniform_arr = np.random.random(shape_size)\n",
    "uniform_arr"
   ]
  },
  {
   "cell_type": "markdown",
   "id": "851b5826",
   "metadata": {},
   "source": [
    "+ Tao ngau nhien ma tran, gia tri trong khoang [a, b] voi kich thuoc (m, n)\n",
    "```\n",
    "np.random.randint(a, b, (m, n))\n",
    "```"
   ]
  },
  {
   "cell_type": "code",
   "execution_count": 34,
   "id": "02ac3adf",
   "metadata": {},
   "outputs": [
    {
     "data": {
      "text/plain": [
       "array([[5, 9, 7, 6, 4],\n",
       "       [6, 7, 1, 9, 4],\n",
       "       [3, 1, 9, 9, 9],\n",
       "       [5, 4, 2, 8, 5]])"
      ]
     },
     "execution_count": 34,
     "metadata": {},
     "output_type": "execute_result"
    }
   ],
   "source": [
    "rand_arr = np.random.randint(1, 10, (4, 5))\n",
    "rand_arr"
   ]
  },
  {
   "cell_type": "markdown",
   "id": "2e6dd400",
   "metadata": {},
   "source": [
    "## Numpy Standard Data Types\n",
    "\n",
    "![numpy_standart_data_types](./figures/numpy_standart_data_types.PNG)"
   ]
  },
  {
   "cell_type": "markdown",
   "id": "3982841d",
   "metadata": {},
   "source": [
    "# 2.2 The Basics of Numpy Arrays\n",
    "\n",
    "+ Basic array manipulations:\n",
    "    - Attributes of arrays (determining):\n",
    "        - the size\n",
    "        - the shape\n",
    "        - the memory consumption\n",
    "        - data types\n",
    "    - Indexing of arrays (getting & setting):\n",
    "        - the value of individual array elements.\n",
    "    - Slicing of arrays (getting & setting):\n",
    "        - smaller sub-arrays within a large array.\n",
    "    - Reshaping of arrays\n",
    "        - Changing the shape\n",
    "    - Joining & splitting of arrays.   "
   ]
  },
  {
   "cell_type": "markdown",
   "id": "c01fd1d5",
   "metadata": {},
   "source": [
    "## 2.2.1 Numpy array attributes"
   ]
  },
  {
   "cell_type": "code",
   "execution_count": 37,
   "id": "fd84dab0",
   "metadata": {},
   "outputs": [
    {
     "data": {
      "text/plain": [
       "array([[[7, 7, 8, 1],\n",
       "        [5, 9, 8, 9],\n",
       "        [4, 3, 0, 3]],\n",
       "\n",
       "       [[5, 0, 2, 3],\n",
       "        [8, 1, 3, 3],\n",
       "        [3, 7, 0, 1]]])"
      ]
     },
     "execution_count": 37,
     "metadata": {},
     "output_type": "execute_result"
    }
   ],
   "source": [
    "# seed with a set value in order to ensure that the same random are generated each time run code.\n",
    "np.random.seed(0)\n",
    "#\n",
    "one_d_arr = np.random.randint(10, size=4)\n",
    "#\n",
    "two_d_arr = np.random.randint(10, size=(3, 4))\n",
    "#\n",
    "three_d_arr = np.random.randint(10, size=(2, 3, 4))\n",
    "#"
   ]
  },
  {
   "cell_type": "code",
   "execution_count": 39,
   "id": "62e5412d",
   "metadata": {},
   "outputs": [
    {
     "name": "stdout",
     "output_type": "stream",
     "text": [
      "3-d number of dimensions:  3\n",
      "3-d shape:  (2, 3, 4)\n",
      "3-d - total size of the array 24\n",
      "3-d - data type int32\n"
     ]
    }
   ],
   "source": [
    "# check array \n",
    "print(\"3-d number of dimensions: \", three_d_arr.ndim)\n",
    "print(\"3-d shape: \", three_d_arr.shape)\n",
    "print(\"3-d - total size of the array\", three_d_arr.size)\n",
    "print(\"3-d - data type\", three_d_arr.dtype)"
   ]
  },
  {
   "cell_type": "markdown",
   "id": "bef90667",
   "metadata": {},
   "source": [
    "## 2.2.2 Array indexing: access single elements"
   ]
  },
  {
   "cell_type": "code",
   "execution_count": 41,
   "id": "58b7d02e",
   "metadata": {},
   "outputs": [
    {
     "name": "stdout",
     "output_type": "stream",
     "text": [
      "With one-dimension, First element 5 and last element 3\n"
     ]
    }
   ],
   "source": [
    "print(\"With one-dimension, First element {} and last element {}\".\n",
    "                  format(one_d_arr[0], \n",
    "                         one_d_arr[-1]))"
   ]
  },
  {
   "cell_type": "markdown",
   "id": "6496b0c5",
   "metadata": {},
   "source": [
    "**Notes**\n",
    "    - Không như list, numpy array là dữ liệu cố định kiểu. Nếu cố tình đưa kiểu dữ liệu khác vào, dữ liệu đó sẽ bị chuyển sang kiểu dữ liệu ban đầu (cùng dạng số) hoặc gặp lỗi."
   ]
  },
  {
   "cell_type": "code",
   "execution_count": 42,
   "id": "098f1d2c",
   "metadata": {
    "scrolled": true
   },
   "outputs": [
    {
     "ename": "ValueError",
     "evalue": "invalid literal for int() with base 10: 'a'",
     "output_type": "error",
     "traceback": [
      "\u001b[1;31m---------------------------------------------------------------------------\u001b[0m",
      "\u001b[1;31mValueError\u001b[0m                                Traceback (most recent call last)",
      "\u001b[1;32m<ipython-input-42-13c4b218c684>\u001b[0m in \u001b[0;36m<module>\u001b[1;34m\u001b[0m\n\u001b[1;32m----> 1\u001b[1;33m \u001b[0mone_d_arr\u001b[0m\u001b[1;33m[\u001b[0m\u001b[1;36m0\u001b[0m\u001b[1;33m]\u001b[0m \u001b[1;33m=\u001b[0m \u001b[1;34m'a'\u001b[0m\u001b[1;33m\u001b[0m\u001b[1;33m\u001b[0m\u001b[0m\n\u001b[0m",
      "\u001b[1;31mValueError\u001b[0m: invalid literal for int() with base 10: 'a'"
     ]
    }
   ],
   "source": [
    "one_d_arr[0] = 'a'"
   ]
  },
  {
   "cell_type": "markdown",
   "id": "527e821a",
   "metadata": {},
   "source": [
    "## 2.2.3 Array Sclicing: Access subarrays\n",
    "+ Cú pháp cắt lát numpy:\n",
    "```\n",
    "arr[start:end:step]\n",
    "```"
   ]
  },
  {
   "cell_type": "markdown",
   "id": "97e6242a",
   "metadata": {},
   "source": [
    "+ Mảng con một chiều"
   ]
  },
  {
   "cell_type": "code",
   "execution_count": 43,
   "id": "83ed2655",
   "metadata": {},
   "outputs": [
    {
     "data": {
      "text/plain": [
       "array([0, 1, 2, 3, 4])"
      ]
     },
     "execution_count": 43,
     "metadata": {},
     "output_type": "execute_result"
    }
   ],
   "source": [
    "x = np.arange(10)\n",
    "x_5 = x[:5]\n",
    "x_5"
   ]
  },
  {
   "cell_type": "markdown",
   "id": "7cb9c954",
   "metadata": {},
   "source": [
    "+ Mảng con nhiều chiều"
   ]
  },
  {
   "cell_type": "code",
   "execution_count": 45,
   "id": "d8500c7e",
   "metadata": {},
   "outputs": [
    {
     "data": {
      "text/plain": [
       "array([[ 5,  6,  8, 17],\n",
       "       [15,  4,  9, 10],\n",
       "       [ 1,  1,  7,  9]])"
      ]
     },
     "execution_count": 45,
     "metadata": {},
     "output_type": "execute_result"
    }
   ],
   "source": [
    "m_d_arr = np.random.randint(20, size=(3, 4))\n",
    "m_d_arr"
   ]
  },
  {
   "cell_type": "code",
   "execution_count": 48,
   "id": "a5fa1116",
   "metadata": {},
   "outputs": [
    {
     "data": {
      "text/plain": [
       "array([[ 5,  6,  8],\n",
       "       [15,  4,  9]])"
      ]
     },
     "execution_count": 48,
     "metadata": {},
     "output_type": "execute_result"
    }
   ],
   "source": [
    "# two rows, three columns\n",
    "m_d_arr[:2, :3]"
   ]
  },
  {
   "cell_type": "code",
   "execution_count": 51,
   "id": "d40c341b",
   "metadata": {},
   "outputs": [
    {
     "data": {
      "text/plain": [
       "array([[ 5,  8],\n",
       "       [15,  9],\n",
       "       [ 1,  7]])"
      ]
     },
     "execution_count": 51,
     "metadata": {},
     "output_type": "execute_result"
    }
   ],
   "source": [
    "# all rows, every other column (step=2)\n",
    "m_d_arr[:, ::2]"
   ]
  },
  {
   "cell_type": "markdown",
   "id": "ecaec6b5",
   "metadata": {},
   "source": [
    "+ Đảo ngược array con"
   ]
  },
  {
   "cell_type": "code",
   "execution_count": 52,
   "id": "ea38c9ac",
   "metadata": {},
   "outputs": [
    {
     "data": {
      "text/plain": [
       "array([[ 9,  7,  1,  1],\n",
       "       [10,  9,  4, 15],\n",
       "       [17,  8,  6,  5]])"
      ]
     },
     "execution_count": 52,
     "metadata": {},
     "output_type": "execute_result"
    }
   ],
   "source": [
    "m_d_arr[::-1, ::-1]"
   ]
  },
  {
   "cell_type": "markdown",
   "id": "bae9055c",
   "metadata": {},
   "source": [
    "+ Truy cập vào hàng và cột của array"
   ]
  },
  {
   "cell_type": "code",
   "execution_count": 60,
   "id": "719cae1e",
   "metadata": {},
   "outputs": [
    {
     "name": "stdout",
     "output_type": "stream",
     "text": [
      "[[ 5]\n",
      " [15]\n",
      " [ 1]]\n",
      "[ 5 15  1]\n"
     ]
    }
   ],
   "source": [
    "# First column\n",
    "print(m_d_arr[:, :1])  # subarray dimensions\n",
    "print(m_d_arr[:, 0])"
   ]
  },
  {
   "cell_type": "code",
   "execution_count": 61,
   "id": "5a9e6aad",
   "metadata": {},
   "outputs": [
    {
     "data": {
      "text/plain": [
       "array([ 5,  6,  8, 17])"
      ]
     },
     "execution_count": 61,
     "metadata": {},
     "output_type": "execute_result"
    }
   ],
   "source": [
    "# first row\n",
    "m_d_arr[0, :]"
   ]
  },
  {
   "cell_type": "markdown",
   "id": "56503dc0",
   "metadata": {},
   "source": [
    "+ Subarray as no-copy views\n",
    "    - Array slices trả về *views* thay vì copies cả một array.\n",
    "    - List trong python, mỗi list slices sẽ được copies.\n",
    "    - Thuộc tính này hữu ích khi ta cần làm việc với 1 vùng nhỏ trong array ban đầu mà không cần copy dữ liệu đệm bên dưới."
   ]
  },
  {
   "cell_type": "code",
   "execution_count": 62,
   "id": "cfca3f48",
   "metadata": {},
   "outputs": [
    {
     "data": {
      "text/plain": [
       "array([[ 5,  6,  8, 17],\n",
       "       [15,  4,  9, 10],\n",
       "       [ 1,  1,  7,  9]])"
      ]
     },
     "execution_count": 62,
     "metadata": {},
     "output_type": "execute_result"
    }
   ],
   "source": [
    "m_d_arr"
   ]
  },
  {
   "cell_type": "code",
   "execution_count": 68,
   "id": "2c7d3242",
   "metadata": {},
   "outputs": [
    {
     "data": {
      "text/plain": [
       "array([[10,  6],\n",
       "       [15,  4],\n",
       "       [ 1,  1]])"
      ]
     },
     "execution_count": 68,
     "metadata": {},
     "output_type": "execute_result"
    }
   ],
   "source": [
    "m_d_arr_subarr = m_d_arr[:3, :2]\n",
    "m_d_arr_subarr"
   ]
  },
  {
   "cell_type": "code",
   "execution_count": 64,
   "id": "9da43674",
   "metadata": {},
   "outputs": [],
   "source": [
    "m_d_arr_subarr[0, 0] = 10"
   ]
  },
  {
   "cell_type": "code",
   "execution_count": 65,
   "id": "a408fbab",
   "metadata": {},
   "outputs": [
    {
     "data": {
      "text/plain": [
       "array([[10,  6,  8, 17],\n",
       "       [15,  4,  9, 10],\n",
       "       [ 1,  1,  7,  9]])"
      ]
     },
     "execution_count": 65,
     "metadata": {},
     "output_type": "execute_result"
    }
   ],
   "source": [
    "m_d_arr"
   ]
  },
  {
   "cell_type": "markdown",
   "id": "c1c04b9e",
   "metadata": {},
   "source": [
    "+ Creating copies of arrays\n",
    "    - Copy array:\n",
    "    ```\n",
    "    copy()\n",
    "    ```\n",
    "    - Việc ta làm việc với array vừa được copy không tác động đến array ban đầu"
   ]
  },
  {
   "cell_type": "code",
   "execution_count": 67,
   "id": "9398f6ef",
   "metadata": {},
   "outputs": [
    {
     "data": {
      "text/plain": [
       "array([[10,  6],\n",
       "       [15,  4],\n",
       "       [ 1,  1]])"
      ]
     },
     "execution_count": 67,
     "metadata": {},
     "output_type": "execute_result"
    }
   ],
   "source": [
    "m_d_arr_subarr_copy = m_d_arr[:3, :2].copy()\n",
    "m_d_arr_subarr_copy"
   ]
  },
  {
   "cell_type": "code",
   "execution_count": 69,
   "id": "db5d4243",
   "metadata": {},
   "outputs": [
    {
     "data": {
      "text/plain": [
       "array([[11,  6],\n",
       "       [15,  4],\n",
       "       [ 1,  1]])"
      ]
     },
     "execution_count": 69,
     "metadata": {},
     "output_type": "execute_result"
    }
   ],
   "source": [
    "m_d_arr_subarr_copy[0, 0] = 11\n",
    "m_d_arr_subarr_copy"
   ]
  },
  {
   "cell_type": "code",
   "execution_count": 70,
   "id": "23418454",
   "metadata": {},
   "outputs": [
    {
     "data": {
      "text/plain": [
       "array([[10,  6,  8, 17],\n",
       "       [15,  4,  9, 10],\n",
       "       [ 1,  1,  7,  9]])"
      ]
     },
     "execution_count": 70,
     "metadata": {},
     "output_type": "execute_result"
    }
   ],
   "source": [
    "m_d_arr"
   ]
  },
  {
   "cell_type": "markdown",
   "id": "1829c6ee",
   "metadata": {},
   "source": [
    "## 2.2.4 Reshaping of Arrays\n",
    "\n",
    "+ Sử dụng: \n",
    "```\n",
    "reshape()\n",
    "```"
   ]
  },
  {
   "cell_type": "code",
   "execution_count": 72,
   "id": "9fc375fe",
   "metadata": {},
   "outputs": [
    {
     "data": {
      "text/plain": [
       "array([[1, 2, 3],\n",
       "       [4, 5, 6],\n",
       "       [7, 8, 9]])"
      ]
     },
     "execution_count": 72,
     "metadata": {},
     "output_type": "execute_result"
    }
   ],
   "source": [
    "grid = np.arange(1, 10).reshape(3, 3)\n",
    "grid"
   ]
  },
  {
   "cell_type": "markdown",
   "id": "b914fd7e",
   "metadata": {},
   "source": [
    "## 2.2.5 Array concatenation & Splitting\n",
    "(Combine nhiều arrays thành 1 & ngược lại.)"
   ]
  },
  {
   "cell_type": "markdown",
   "id": "d994bf0c",
   "metadata": {},
   "source": [
    "### Concatenation (kết hợp) of arrays\n",
    "```\n",
    "np.concatenate([first_array, second_array, ...], axis=1)\n",
    "\n",
    "- if axis=1: các arrays nối hàng\n",
    "- if axis=0: các arrays nối cột\n",
    "```"
   ]
  },
  {
   "cell_type": "code",
   "execution_count": 75,
   "id": "5e60dc8a",
   "metadata": {},
   "outputs": [
    {
     "data": {
      "text/plain": [
       "array([1, 2, 3, 4, 5, 6, 1, 2, 9])"
      ]
     },
     "execution_count": 75,
     "metadata": {},
     "output_type": "execute_result"
    }
   ],
   "source": [
    "x = np.array([1, 2, 3])\n",
    "y = np.array([4, 5, 6])\n",
    "h = np.array([1, 2, 9])\n",
    "#\n",
    "z = np.concatenate([x, y, h])\n",
    "z"
   ]
  },
  {
   "cell_type": "code",
   "execution_count": 80,
   "id": "2d56ad1f",
   "metadata": {
    "scrolled": true
   },
   "outputs": [
    {
     "name": "stdout",
     "output_type": "stream",
     "text": [
      "grid_1: \n",
      " [[6 5 3 1]\n",
      " [8 0 4 9]\n",
      " [6 5 7 8]]\n",
      "grid_2: \n",
      " [[8 9 2 8]\n",
      " [6 6 9 1]\n",
      " [6 8 8 3]]\n",
      "Horizontal: \n",
      " [[6 5 3 1 8 9 2 8]\n",
      " [8 0 4 9 6 6 9 1]\n",
      " [6 5 7 8 6 8 8 3]]\n",
      "Vertical: \n",
      " [[6 5 3 1]\n",
      " [8 0 4 9]\n",
      " [6 5 7 8]\n",
      " [8 9 2 8]\n",
      " [6 6 9 1]\n",
      " [6 8 8 3]]\n"
     ]
    }
   ],
   "source": [
    "grid_1 = np.random.randint(10, size=(3, 4))\n",
    "print(\"grid_1: \\n\", grid_1)\n",
    "grid_2 = np.random.randint(10, size=(3, 4))\n",
    "print(\"grid_2: \\n\", grid_2)\n",
    "#\n",
    "grid_horizontal = np.concatenate([grid_1, grid_2], axis=1)\n",
    "print(\"Horizontal: \\n\", grid_horizontal)\n",
    "grid_vertical = np.concatenate([grid_1, grid_2], axis=0)\n",
    "print(\"Vertical: \\n\", grid_vertical)"
   ]
  },
  {
   "cell_type": "markdown",
   "id": "7a8e861d",
   "metadata": {},
   "source": [
    "+ Ngoài sử dụng axis, có thể sử dụng *np.vstack* & *np.hstack*\n",
    "    - vstack: khi height size bằng nhau\n",
    "    - hstack: khi weight size bằng nhau"
   ]
  },
  {
   "cell_type": "code",
   "execution_count": 89,
   "id": "5c5a48a8",
   "metadata": {},
   "outputs": [
    {
     "data": {
      "text/plain": [
       "array([[1, 2, 3],\n",
       "       [3, 4, 5],\n",
       "       [5, 6, 7]])"
      ]
     },
     "execution_count": 89,
     "metadata": {},
     "output_type": "execute_result"
    }
   ],
   "source": [
    "x = np.array([1, 2, 3])\n",
    "grid = np.array([[3, 4, 5], \n",
    "                 [5, 6, 7]])\n",
    "#\n",
    "horizontal_arr = np.vstack([x, grid])\n",
    "horizontal_arr"
   ]
  },
  {
   "cell_type": "markdown",
   "id": "fe5169ae",
   "metadata": {},
   "source": [
    "### Splitting of arrays\n",
    "\n",
    "+ Splitting functions:\n",
    "    - np.split()\n",
    "    - np.hsplit()\n",
    "    - np.vsplit()"
   ]
  },
  {
   "cell_type": "markdown",
   "id": "151b0c7e",
   "metadata": {},
   "source": [
    "# 2.3 Computation on Numpy Arrays: Universal (phổ quát) Functions\n",
    "\n",
    "+ Khả năng tính toán của Numpy arrays nhở sử dụng vertorized. \n",
    "    - thực thi thông qua các hàm/chức năng phổ quát - universal functions (ufuncs)"
   ]
  },
  {
   "cell_type": "markdown",
   "id": "d724f137",
   "metadata": {},
   "source": [
    "### The Slowness of Loops"
   ]
  },
  {
   "cell_type": "code",
   "execution_count": 90,
   "id": "b0589e1a",
   "metadata": {},
   "outputs": [],
   "source": [
    "import numpy as np\n",
    "np.random.seed(0)"
   ]
  },
  {
   "cell_type": "code",
   "execution_count": 92,
   "id": "c7999393",
   "metadata": {},
   "outputs": [
    {
     "name": "stdout",
     "output_type": "stream",
     "text": [
      "12.9 µs ± 380 ns per loop (mean ± std. dev. of 7 runs, 100000 loops each)\n"
     ]
    }
   ],
   "source": [
    "def compute_reciprocals(values):\n",
    "    output = np.empty(len(values))\n",
    "    for i in range(len(values)):\n",
    "        output[i] = 1.0/values[i]\n",
    "    return output\n",
    "#\n",
    "values = np.random.randint(1, 10, size=5)\n",
    "%timeit compute_reciprocals(values)"
   ]
  },
  {
   "cell_type": "markdown",
   "id": "3399e8ea",
   "metadata": {},
   "source": [
    "### Introducing UFuncs"
   ]
  },
  {
   "cell_type": "markdown",
   "id": "c306cf1d",
   "metadata": {},
   "source": [
    "+ Compare the results:"
   ]
  },
  {
   "cell_type": "code",
   "execution_count": 93,
   "id": "0af16e3a",
   "metadata": {},
   "outputs": [
    {
     "name": "stdout",
     "output_type": "stream",
     "text": [
      "[0.25       0.16666667 0.33333333 0.2        0.125     ]\n",
      "[0.25       0.16666667 0.33333333 0.2        0.125     ]\n"
     ]
    }
   ],
   "source": [
    "print(compute_reciprocals(values))\n",
    "print(1.0/values)"
   ]
  },
  {
   "cell_type": "code",
   "execution_count": 94,
   "id": "4d57b692",
   "metadata": {},
   "outputs": [
    {
     "name": "stderr",
     "output_type": "stream",
     "text": [
      "UsageError: Line magic function `%timeit(1.0/big_array)` not found.\n"
     ]
    }
   ],
   "source": [
    "big_array = np.random.randint(1, 100, size=1000000)\n",
    "#\n",
    "%timeit(1.0/big_array)"
   ]
  },
  {
   "cell_type": "markdown",
   "id": "ebcfc582",
   "metadata": {},
   "source": [
    "+ Các hoạt động vectorized được thực thi bởi các *ufuncs*, mục đích chính của các hàm là nhanh chóng thực hiện các hoạt động trên các giá trị của numpy array.\n",
    "+ Khi cần thực hiện vòng lặp trong python, nên cân nhắc thay thế bởi vectorized."
   ]
  },
  {
   "cell_type": "code",
   "execution_count": 95,
   "id": "25d5600c",
   "metadata": {},
   "outputs": [
    {
     "data": {
      "text/plain": [
       "array([0.        , 0.5       , 0.66666667, 0.75      , 0.8       ])"
      ]
     },
     "execution_count": 95,
     "metadata": {},
     "output_type": "execute_result"
    }
   ],
   "source": [
    "np.arange(5)/np.arange(1, 6)"
   ]
  },
  {
   "cell_type": "markdown",
   "id": "edb1285b",
   "metadata": {},
   "source": [
    "### Exploring NumPy's UFuncs"
   ]
  },
  {
   "cell_type": "markdown",
   "id": "e958facf",
   "metadata": {},
   "source": [
    "+ Ufuncs có 2 kiểu:\n",
    "    - *unary ufuncs*: thực hiện trên 1 input.\n",
    "    - *binary ufuncs*: thực hiện trên 2 inputs.\n",
    "+ Ví dụ về 2 kiểu functions.    "
   ]
  },
  {
   "cell_type": "markdown",
   "id": "6a32b8d9",
   "metadata": {},
   "source": [
    "#### Array arithmetic"
   ]
  },
  {
   "cell_type": "code",
   "execution_count": 99,
   "id": "67a7d184",
   "metadata": {},
   "outputs": [
    {
     "name": "stdout",
     "output_type": "stream",
     "text": [
      "x + 5 =  [5 6 7 8]\n",
      "x % 2 =  [0 1 0 1]\n"
     ]
    }
   ],
   "source": [
    "x = np.arange(4)\n",
    "#\n",
    "print(\"x + 5 = \", x + 5)\n",
    "print(\"x % 2 = \", x%2)"
   ]
  },
  {
   "cell_type": "markdown",
   "id": "a6fa41c3",
   "metadata": {},
   "source": [
    "![array_arithmetic](./figures/array_arithmetic.PNG)"
   ]
  },
  {
   "cell_type": "markdown",
   "id": "f5d146fd",
   "metadata": {},
   "source": [
    "#### Absolute value"
   ]
  },
  {
   "cell_type": "code",
   "execution_count": 100,
   "id": "2a8673b6",
   "metadata": {},
   "outputs": [
    {
     "data": {
      "text/plain": [
       "array([2, 1, 1])"
      ]
     },
     "execution_count": 100,
     "metadata": {},
     "output_type": "execute_result"
    }
   ],
   "source": [
    "x = np.array([-2, -1, 1])\n",
    "x_absolute = np.absolute(x)\n",
    "x_absolute"
   ]
  },
  {
   "cell_type": "markdown",
   "id": "0b9f587c",
   "metadata": {},
   "source": [
    "#### Trigonometric functions"
   ]
  },
  {
   "cell_type": "code",
   "execution_count": 102,
   "id": "6bf2f871",
   "metadata": {},
   "outputs": [
    {
     "data": {
      "text/plain": [
       "array([0.        , 1.57079633, 3.14159265])"
      ]
     },
     "execution_count": 102,
     "metadata": {},
     "output_type": "execute_result"
    }
   ],
   "source": [
    "theta = np.linspace(0, np.pi, 3)\n",
    "theta"
   ]
  },
  {
   "cell_type": "code",
   "execution_count": 104,
   "id": "4269eefd",
   "metadata": {},
   "outputs": [
    {
     "name": "stdout",
     "output_type": "stream",
     "text": [
      "theta =  [0.         1.57079633 3.14159265]\n",
      "sin(theta) =  [0.0000000e+00 1.0000000e+00 1.2246468e-16]\n"
     ]
    }
   ],
   "source": [
    "print(\"theta = \", theta)\n",
    "print(\"sin(theta) = \", np.sin(theta))"
   ]
  },
  {
   "cell_type": "markdown",
   "id": "a3ac275d",
   "metadata": {},
   "source": [
    "#### Exponents & logarithms"
   ]
  },
  {
   "cell_type": "code",
   "execution_count": 105,
   "id": "10f9961a",
   "metadata": {},
   "outputs": [
    {
     "name": "stdout",
     "output_type": "stream",
     "text": [
      "x:  [1, 2, 3]\n",
      "e^x:  [ 2.71828183  7.3890561  20.08553692]\n",
      "2^x:  [2. 4. 8.]\n",
      "3^x:  [ 3  9 27]\n"
     ]
    }
   ],
   "source": [
    "x = [1, 2, 3]\n",
    "print(\"x: \", x)\n",
    "print(\"e^x: \", np.exp(x))\n",
    "print(\"2^x: \", np.exp2(x))\n",
    "print(\"3^x: \", np.power(3, x))"
   ]
  },
  {
   "cell_type": "code",
   "execution_count": 106,
   "id": "ec15c809",
   "metadata": {},
   "outputs": [
    {
     "name": "stdout",
     "output_type": "stream",
     "text": [
      "ln(x):  [0.         0.69314718 1.09861229]\n",
      "log2(x):  [0.        1.        1.5849625]\n",
      "log10(x):  [0.         0.30103    0.47712125]\n"
     ]
    }
   ],
   "source": [
    "print(\"ln(x): \", np.log(x))\n",
    "print(\"log2(x): \", np.log2(x))\n",
    "print(\"log10(x): \", np.log10(x))"
   ]
  },
  {
   "cell_type": "markdown",
   "id": "ecd52d22",
   "metadata": {},
   "source": [
    "### Advanced UFunc Features"
   ]
  },
  {
   "cell_type": "markdown",
   "id": "25395b7b",
   "metadata": {},
   "source": [
    "#### Specifying output"
   ]
  },
  {
   "cell_type": "code",
   "execution_count": null,
   "id": "627e2a31",
   "metadata": {},
   "outputs": [],
   "source": []
  },
  {
   "cell_type": "markdown",
   "id": "5bed24ad",
   "metadata": {},
   "source": [
    "#### Aggregates"
   ]
  },
  {
   "cell_type": "markdown",
   "id": "d650faee",
   "metadata": {},
   "source": [
    "#### Outer products"
   ]
  },
  {
   "cell_type": "markdown",
   "id": "adec833f",
   "metadata": {},
   "source": []
  },
  {
   "cell_type": "markdown",
   "id": "b9855d19",
   "metadata": {},
   "source": [
    "### UFuncs: Learning More"
   ]
  },
  {
   "cell_type": "markdown",
   "id": "8c717ffb",
   "metadata": {},
   "source": [
    "# 2.4 Aggregation: Min, Max & Everything in Between"
   ]
  },
  {
   "cell_type": "markdown",
   "id": "ba4b8c06",
   "metadata": {},
   "source": [
    "### Summing the Values in an Array"
   ]
  },
  {
   "cell_type": "markdown",
   "id": "1013b169",
   "metadata": {},
   "source": [
    "### Minimum and Maximum"
   ]
  },
  {
   "cell_type": "markdown",
   "id": "f321362d",
   "metadata": {},
   "source": [
    "### Example: What is the average height of US presidents ?"
   ]
  },
  {
   "cell_type": "markdown",
   "id": "799574c2",
   "metadata": {},
   "source": [
    "# 2.5 Computation on Arrays: Broadcasting"
   ]
  },
  {
   "cell_type": "markdown",
   "id": "6d2d6537",
   "metadata": {},
   "source": [
    "### Introducing Broadcasting"
   ]
  },
  {
   "cell_type": "markdown",
   "id": "9dcf9b4d",
   "metadata": {},
   "source": [
    "### Rules of Broadcasting"
   ]
  },
  {
   "cell_type": "markdown",
   "id": "204bac26",
   "metadata": {},
   "source": [
    "### Broadcasting in Practice"
   ]
  },
  {
   "cell_type": "markdown",
   "id": "9d609784",
   "metadata": {},
   "source": [
    "# 2.6 Comparisons, Masks & Boolean Logic"
   ]
  },
  {
   "cell_type": "markdown",
   "id": "25156267",
   "metadata": {},
   "source": [
    "### Example: Counting Rainy Days"
   ]
  },
  {
   "cell_type": "markdown",
   "id": "bee08aef",
   "metadata": {},
   "source": [
    "### Comparison operators as ufuncs"
   ]
  },
  {
   "cell_type": "markdown",
   "id": "0c99f585",
   "metadata": {},
   "source": [
    "### Working with Boolean Arrays"
   ]
  },
  {
   "cell_type": "markdown",
   "id": "8250e7b1",
   "metadata": {},
   "source": [
    "### Boolean Arrays as Masks"
   ]
  },
  {
   "cell_type": "markdown",
   "id": "f7824373",
   "metadata": {},
   "source": [
    "# 2.7 Fancy Indexing"
   ]
  },
  {
   "cell_type": "markdown",
   "id": "35e859a7",
   "metadata": {},
   "source": [
    "### Exploring Fancy Indexing "
   ]
  },
  {
   "cell_type": "markdown",
   "id": "8b66595e",
   "metadata": {},
   "source": [
    "### Combined Indexing"
   ]
  },
  {
   "cell_type": "markdown",
   "id": "e49194f7",
   "metadata": {},
   "source": [
    "### Example: Selecting random points"
   ]
  },
  {
   "cell_type": "markdown",
   "id": "85110761",
   "metadata": {},
   "source": [
    "### Modifying values with Fancy Indexing"
   ]
  },
  {
   "cell_type": "markdown",
   "id": "91af234d",
   "metadata": {},
   "source": [
    "### Example: Binning Data"
   ]
  },
  {
   "cell_type": "markdown",
   "id": "8f911241",
   "metadata": {},
   "source": [
    "# 2.8 Sorting Arrays"
   ]
  },
  {
   "cell_type": "markdown",
   "id": "3c0a40d3",
   "metadata": {},
   "source": [
    "### Fast Sorting in Numpy: np.sort & np.argsort"
   ]
  },
  {
   "cell_type": "markdown",
   "id": "f6ad6bfa",
   "metadata": {},
   "source": [
    "### Partial Sorts: Partitioning"
   ]
  },
  {
   "cell_type": "markdown",
   "id": "6e8b96e4",
   "metadata": {},
   "source": [
    "### Example: k-Nearest Neighbors"
   ]
  },
  {
   "cell_type": "markdown",
   "id": "33766432",
   "metadata": {},
   "source": [
    "# 2.9 Structured Data: NumPy's Structured Arrays"
   ]
  },
  {
   "cell_type": "markdown",
   "id": "621e13ff",
   "metadata": {},
   "source": [
    "### Creating Structured Arrays"
   ]
  },
  {
   "cell_type": "markdown",
   "id": "e8c1b6f5",
   "metadata": {},
   "source": [
    "### More Advanced Compound Types"
   ]
  },
  {
   "cell_type": "markdown",
   "id": "0c7d5c7e",
   "metadata": {},
   "source": [
    "### Record Arrays: Structured Arrays with a Twist"
   ]
  },
  {
   "cell_type": "code",
   "execution_count": null,
   "id": "4d77a999",
   "metadata": {},
   "outputs": [],
   "source": []
  }
 ],
 "metadata": {
  "kernelspec": {
   "display_name": "Python 3",
   "language": "python",
   "name": "python3"
  },
  "language_info": {
   "codemirror_mode": {
    "name": "ipython",
    "version": 3
   },
   "file_extension": ".py",
   "mimetype": "text/x-python",
   "name": "python",
   "nbconvert_exporter": "python",
   "pygments_lexer": "ipython3",
   "version": "3.8.8"
  }
 },
 "nbformat": 4,
 "nbformat_minor": 5
}
