{
 "cells": [
  {
   "cell_type": "markdown",
   "id": "e0b890da",
   "metadata": {},
   "source": [
    "# Content\n",
    "\n",
    "\n",
    "# [2.1 Understanding Data Types in Python](#2.1-Understanding-Data-Types-in-Python)\n",
    "\n",
    "# [2.2 The Basics of Numpy Arrays](2.2-The-Basics-of-Numpy-Arrays)\n",
    "\n",
    "# [2.3 Computation on Numpy Arrays: Unversal Functions](2.3-Computation-on-Numpy-Arrays:-Unversal-Functions)\n"
   ]
  },
  {
   "cell_type": "markdown",
   "id": "f8ea421e",
   "metadata": {},
   "source": [
    "# 2.1 Understanding Data Types in Python"
   ]
  },
  {
   "cell_type": "markdown",
   "id": "c5a887f3",
   "metadata": {},
   "source": [
    "## A python integer is more than just an Integer"
   ]
  },
  {
   "cell_type": "markdown",
   "id": "4b7d0c2c",
   "metadata": {},
   "source": [
    "+ Mọi object trong python được viết lại (cải trang) bởi cấu trúc C bao gồm giá trị & các thông tin khác.\n",
    "    - Ex: x=10 ~ bản chất là 1 con trỏ tới 1 khối (hợp chất) cấu trúc C.\n",
    "    ```\n",
    "    struct _longobject{\n",
    "        long ob_refcnt; # a reference count (số tham chiếu), giúp Python handle sự phân bố trong memory.\n",
    "        PyTypeObject *ob_type; # mã hóa kiểu dữ liệu của biến.\n",
    "        size_t ob_size; specifies (chỉ định) kích thước của đối tượng dữ liệu \n",
    "        long ob_digit[1]; # bao gồm giá trị thực của integer.\n",
    "    }\n",
    "    ```\n",
    "    \n",
    "    - Minh họa lưu trữ biến integer trong C & Python\n",
    "    ![Sư khác nhau C & Python integers](./figures/difference_c_python_integer.PNG)\n",
    "    \n",
    "        - Với C, số int là 1 nhãn cho 1 vị trí trong bộ nhớ của các bytes mã hóa 1 giá trị int.\n",
    "        - Với Python, số int là 1 con trỏ tới 1 vị trí trong bộ nhớ chứa toàn bộ thông tin của object bao gồm các bytes chứa giá trị int."
   ]
  },
  {
   "cell_type": "markdown",
   "id": "0db42d74",
   "metadata": {},
   "source": [
    "## A Python List is more than just a list"
   ]
  },
  {
   "cell_type": "markdown",
   "id": "cd954f80",
   "metadata": {},
   "source": [
    "+ List: định dạng có thể thay đổi nhiều thành phần"
   ]
  },
  {
   "cell_type": "code",
   "execution_count": 1,
   "id": "bfa76f3e",
   "metadata": {},
   "outputs": [
    {
     "data": {
      "text/plain": [
       "[0, 1, 2, 3, 4, 5, 6, 7, 8, 9]"
      ]
     },
     "execution_count": 1,
     "metadata": {},
     "output_type": "execute_result"
    }
   ],
   "source": [
    "list_1 = list(range(10))\n",
    "list_1"
   ]
  },
  {
   "cell_type": "code",
   "execution_count": 2,
   "id": "fc83e75f",
   "metadata": {},
   "outputs": [
    {
     "name": "stdout",
     "output_type": "stream",
     "text": [
      "Type of list_1:  <class 'list'>\n",
      "Type of element in list_1:  <class 'int'>\n"
     ]
    }
   ],
   "source": [
    "print(\"Type of list_1: \", type(list_1))\n",
    "print(\"Type of element in list_1: \", type(list_1[0]))"
   ]
  },
  {
   "cell_type": "markdown",
   "id": "a87d6d14",
   "metadata": {},
   "source": [
    "+ Có thể tạo list không đồng nhất (heterogeneous) kiểu dữ liệu:"
   ]
  },
  {
   "cell_type": "code",
   "execution_count": 3,
   "id": "4fc156e6",
   "metadata": {},
   "outputs": [],
   "source": [
    "list_2 = [True, 1, \"All\"]"
   ]
  },
  {
   "cell_type": "markdown",
   "id": "8b50ee54",
   "metadata": {},
   "source": [
    "+ Python object: bao gồm \n",
    "    - Thông tin kiểu dữ liệu \n",
    "    - Reference count (số tham chiếu)\n",
    "    - Các thông tin khác (kích thước được chỉ định cho object, the actual object value)"
   ]
  },
  {
   "cell_type": "markdown",
   "id": "3f90d52e",
   "metadata": {},
   "source": [
    "+ Notes: \n",
    "    - list có khả năng linh động kiểu dữ liệu có thể dẫn đến dư thừa tài nguyên. \n",
    "    - list chứa 1 con trỏ chỉ tới 1 khối các con trỏ. Mỗi một con trỏ lại chỉ đến 1 đối tượng đầy đủ. \n",
    "    - Ưu điểm list là tính linh động nhưng cần cân nhắc việc cố định kiểu (dữ liệu) trong việc xử lý & lưu trữ dữ liệu.\n",
    "    \n",
    "+ Sự khác nhau giữa C & Python list\n",
    "![difference_c_python_list](./figures/difference_c_python_list.PNG)"
   ]
  },
  {
   "cell_type": "markdown",
   "id": "cfb86fee",
   "metadata": {},
   "source": [
    "## Fixed-type Arrays in Python\n",
    "\n",
    "+ Python có 1 vài lựa chọn cho việc lưu trữ dữ liệu hiêu quả, cố định kiểu dữ liệu bộ đệm.\n"
   ]
  },
  {
   "cell_type": "code",
   "execution_count": 4,
   "id": "3f713cac",
   "metadata": {},
   "outputs": [],
   "source": [
    "import array"
   ]
  },
  {
   "cell_type": "code",
   "execution_count": 5,
   "id": "a4c7e191",
   "metadata": {},
   "outputs": [
    {
     "data": {
      "text/plain": [
       "array('i', [0, 1, 2, 3, 4])"
      ]
     },
     "execution_count": 5,
     "metadata": {},
     "output_type": "execute_result"
    }
   ],
   "source": [
    "# Tạo 1 array đồng dạng\n",
    "list_3 = list(range(5))\n",
    "a = array.array('i', list_3)\n",
    "#\n",
    "a"
   ]
  },
  {
   "cell_type": "code",
   "execution_count": 6,
   "id": "0583f43a",
   "metadata": {},
   "outputs": [],
   "source": [
    "import numpy as np"
   ]
  },
  {
   "cell_type": "markdown",
   "id": "d951d266",
   "metadata": {},
   "source": [
    "## Creating Arrays from Python Lists\n",
    "\n",
    "+ **Notes**: Numpy có hạn chế là các thành phần trong 1 array phải cùng kiểu dữ liệu."
   ]
  },
  {
   "cell_type": "code",
   "execution_count": 7,
   "id": "b435149f",
   "metadata": {},
   "outputs": [
    {
     "data": {
      "text/plain": [
       "array([1, 2, 3, 4])"
      ]
     },
     "execution_count": 7,
     "metadata": {},
     "output_type": "execute_result"
    }
   ],
   "source": [
    "# int array\n",
    "i_arr = np.array([1, 2, 3, 4])\n",
    "i_arr"
   ]
  },
  {
   "cell_type": "code",
   "execution_count": 8,
   "id": "0aec53f9",
   "metadata": {},
   "outputs": [
    {
     "name": "stdout",
     "output_type": "stream",
     "text": [
      "<class 'numpy.float64'>\n",
      "<class 'numpy.float64'>\n",
      "<class 'numpy.float64'>\n",
      "<class 'numpy.float64'>\n"
     ]
    },
    {
     "data": {
      "text/plain": [
       "array([3.14, 1.  , 2.  , 3.  ])"
      ]
     },
     "execution_count": 8,
     "metadata": {},
     "output_type": "execute_result"
    }
   ],
   "source": [
    "i_f_arr = np.array([3.14, 1, 2, 3])\n",
    "for element in i_f_arr:\n",
    "    print(type(element))\n",
    "#\n",
    "i_f_arr"
   ]
  },
  {
   "cell_type": "markdown",
   "id": "ae314c8e",
   "metadata": {},
   "source": [
    "+ Sử dụng *dtype* để config kiểu dữ liệu cho array."
   ]
  },
  {
   "cell_type": "code",
   "execution_count": 9,
   "id": "0b0edd32",
   "metadata": {},
   "outputs": [
    {
     "data": {
      "text/plain": [
       "array([1., 2., 3., 4.], dtype=float32)"
      ]
     },
     "execution_count": 9,
     "metadata": {},
     "output_type": "execute_result"
    }
   ],
   "source": [
    "f_32_arr = np.array([1, 2, 3, 4], dtype='float32')\n",
    "f_32_arr"
   ]
  },
  {
   "cell_type": "markdown",
   "id": "53a1e927",
   "metadata": {},
   "source": [
    "+ Numpy array có thể tạo nhiều chiều"
   ]
  },
  {
   "cell_type": "code",
   "execution_count": 10,
   "id": "5f9e1a27",
   "metadata": {},
   "outputs": [
    {
     "data": {
      "text/plain": [
       "array([[1, 2, 3],\n",
       "       [2, 3, 4],\n",
       "       [3, 4, 5]])"
      ]
     },
     "execution_count": 10,
     "metadata": {},
     "output_type": "execute_result"
    }
   ],
   "source": [
    "numb_dimen = 3\n",
    "m_d_arr = np.array([range(i, i + numb_dimen) for i in [1, 2, 3]])\n",
    "#\n",
    "m_d_arr"
   ]
  },
  {
   "cell_type": "markdown",
   "id": "526ddcdc",
   "metadata": {},
   "source": [
    "## Create Arrays from Scratch\n"
   ]
  },
  {
   "cell_type": "code",
   "execution_count": 11,
   "id": "03e6e6f3",
   "metadata": {},
   "outputs": [
    {
     "data": {
      "text/plain": [
       "array([0, 0, 0, 0, 0, 0, 0, 0, 0, 0])"
      ]
     },
     "execution_count": 11,
     "metadata": {},
     "output_type": "execute_result"
    }
   ],
   "source": [
    "num_element = 10\n",
    "zero_arr = np.zeros(num_element, dtype=int)\n",
    "#\n",
    "zero_arr"
   ]
  },
  {
   "cell_type": "code",
   "execution_count": 12,
   "id": "ffe2136e",
   "metadata": {},
   "outputs": [
    {
     "data": {
      "text/plain": [
       "array([[1., 1., 1., 1., 1.],\n",
       "       [1., 1., 1., 1., 1.],\n",
       "       [1., 1., 1., 1., 1.]])"
      ]
     },
     "execution_count": 12,
     "metadata": {},
     "output_type": "execute_result"
    }
   ],
   "source": [
    "shape_size = (3, 5)\n",
    "one_arr = np.ones(shape=shape_size,\n",
    "                  dtype=float)\n",
    "one_arr"
   ]
  },
  {
   "cell_type": "code",
   "execution_count": 13,
   "id": "ecc1f4d9",
   "metadata": {},
   "outputs": [
    {
     "data": {
      "text/plain": [
       "array([[3.14, 3.14, 3.14],\n",
       "       [3.14, 3.14, 3.14]])"
      ]
     },
     "execution_count": 13,
     "metadata": {},
     "output_type": "execute_result"
    }
   ],
   "source": [
    "shape_size_full = (2, 3)\n",
    "full_arr = np.full(shape=shape_size_full, \n",
    "                  fill_value=3.14)\n",
    "full_arr"
   ]
  },
  {
   "cell_type": "markdown",
   "id": "9c1e71fb",
   "metadata": {},
   "source": [
    "+ np.arrange(start, end, step)  # theo thu tu\n",
    "+ np.linspace(start, end, number_elements) # cach deu"
   ]
  },
  {
   "cell_type": "code",
   "execution_count": 14,
   "id": "0a2c7a20",
   "metadata": {},
   "outputs": [
    {
     "data": {
      "text/plain": [
       "array([1, 2, 3, 4, 5, 6, 7, 8, 9])"
      ]
     },
     "execution_count": 14,
     "metadata": {},
     "output_type": "execute_result"
    }
   ],
   "source": [
    "arange_arr = np.arange(1, 10, 1)\n",
    "arange_arr"
   ]
  },
  {
   "cell_type": "code",
   "execution_count": 15,
   "id": "ed1c66f5",
   "metadata": {},
   "outputs": [
    {
     "data": {
      "text/plain": [
       "array([0.        , 0.22222222, 0.44444444, 0.66666667, 0.88888889,\n",
       "       1.11111111, 1.33333333, 1.55555556, 1.77777778, 2.        ])"
      ]
     },
     "execution_count": 15,
     "metadata": {},
     "output_type": "execute_result"
    }
   ],
   "source": [
    "linspace_arr = np.linspace(0, 2, 10)\n",
    "linspace_arr"
   ]
  },
  {
   "cell_type": "markdown",
   "id": "50712b46",
   "metadata": {},
   "source": [
    "+ Tao ngau nhien ma tran phan bo đồng nhất (uniformly)\n",
    "```\n",
    "np.random.random((shape))\n",
    "```"
   ]
  },
  {
   "cell_type": "code",
   "execution_count": 16,
   "id": "17529442",
   "metadata": {},
   "outputs": [
    {
     "data": {
      "text/plain": [
       "array([[0.51431186, 0.05330872, 0.98933662, 0.77130044, 0.16556372],\n",
       "       [0.25457   , 0.49365028, 0.42780601, 0.92439923, 0.58349445],\n",
       "       [0.65074389, 0.37128919, 0.04141414, 0.82038049, 0.68201042]])"
      ]
     },
     "execution_count": 16,
     "metadata": {},
     "output_type": "execute_result"
    }
   ],
   "source": [
    "uniform_arr = np.random.random(shape_size)\n",
    "uniform_arr"
   ]
  },
  {
   "cell_type": "markdown",
   "id": "851b5826",
   "metadata": {},
   "source": [
    "+ Tao ngau nhien ma tran, gia tri trong khoang [a, b] voi kich thuoc (m, n)\n",
    "```\n",
    "np.random.randint(a, b, (m, n))\n",
    "```"
   ]
  },
  {
   "cell_type": "code",
   "execution_count": 17,
   "id": "02ac3adf",
   "metadata": {},
   "outputs": [
    {
     "data": {
      "text/plain": [
       "array([[8, 8, 7, 8, 7],\n",
       "       [8, 4, 3, 2, 9],\n",
       "       [5, 9, 4, 7, 2],\n",
       "       [3, 3, 3, 7, 6]])"
      ]
     },
     "execution_count": 17,
     "metadata": {},
     "output_type": "execute_result"
    }
   ],
   "source": [
    "rand_arr = np.random.randint(1, 10, (4, 5))\n",
    "rand_arr"
   ]
  },
  {
   "cell_type": "markdown",
   "id": "2e6dd400",
   "metadata": {},
   "source": [
    "## Numpy Standard Data Types\n",
    "\n",
    "![numpy_standart_data_types](./figures/numpy_standart_data_types.PNG)"
   ]
  },
  {
   "cell_type": "markdown",
   "id": "3982841d",
   "metadata": {},
   "source": [
    "# 2.2 The Basics of Numpy Arrays\n",
    "\n",
    "+ Basic array manipulations:\n",
    "    - Attributes of arrays (determining):\n",
    "        - the size\n",
    "        - the shape\n",
    "        - the memory consumption\n",
    "        - data types\n",
    "    - Indexing of arrays (getting & setting):\n",
    "        - the value of individual array elements.\n",
    "    - Slicing of arrays (getting & setting):\n",
    "        - smaller sub-arrays within a large array.\n",
    "    - Reshaping of arrays\n",
    "        - Changing the shape\n",
    "    - Joining & splitting of arrays.   "
   ]
  },
  {
   "cell_type": "markdown",
   "id": "c01fd1d5",
   "metadata": {},
   "source": [
    "## 2.2.1 Numpy array attributes"
   ]
  },
  {
   "cell_type": "code",
   "execution_count": 18,
   "id": "fd84dab0",
   "metadata": {},
   "outputs": [],
   "source": [
    "# seed with a set value in order to ensure that the same random are generated each time run code.\n",
    "np.random.seed(0)\n",
    "#\n",
    "one_d_arr = np.random.randint(10, size=4)\n",
    "#\n",
    "two_d_arr = np.random.randint(10, size=(3, 4))\n",
    "#\n",
    "three_d_arr = np.random.randint(10, size=(2, 3, 4))\n",
    "#"
   ]
  },
  {
   "cell_type": "code",
   "execution_count": 19,
   "id": "62e5412d",
   "metadata": {},
   "outputs": [
    {
     "name": "stdout",
     "output_type": "stream",
     "text": [
      "3-d number of dimensions:  3\n",
      "3-d shape:  (2, 3, 4)\n",
      "3-d - total size of the array 24\n",
      "3-d - data type int32\n"
     ]
    }
   ],
   "source": [
    "# check array \n",
    "print(\"3-d number of dimensions: \", three_d_arr.ndim)\n",
    "print(\"3-d shape: \", three_d_arr.shape)\n",
    "print(\"3-d - total size of the array\", three_d_arr.size)\n",
    "print(\"3-d - data type\", three_d_arr.dtype)"
   ]
  },
  {
   "cell_type": "markdown",
   "id": "bef90667",
   "metadata": {},
   "source": [
    "## 2.2.2 Array indexing: access single elements"
   ]
  },
  {
   "cell_type": "code",
   "execution_count": 20,
   "id": "58b7d02e",
   "metadata": {},
   "outputs": [
    {
     "name": "stdout",
     "output_type": "stream",
     "text": [
      "With one-dimension, First element 5 and last element 3\n"
     ]
    }
   ],
   "source": [
    "print(\"With one-dimension, First element {} and last element {}\".\n",
    "                  format(one_d_arr[0], \n",
    "                         one_d_arr[-1]))"
   ]
  },
  {
   "cell_type": "markdown",
   "id": "6496b0c5",
   "metadata": {},
   "source": [
    "**Notes**\n",
    "    - Không như list, numpy array là dữ liệu cố định kiểu. Nếu cố tình đưa kiểu dữ liệu khác vào, dữ liệu đó sẽ bị chuyển sang kiểu dữ liệu ban đầu (cùng dạng số) hoặc gặp lỗi."
   ]
  },
  {
   "cell_type": "code",
   "execution_count": 21,
   "id": "098f1d2c",
   "metadata": {
    "scrolled": true
   },
   "outputs": [],
   "source": [
    "# one_d_arr[0] = 'a'"
   ]
  },
  {
   "cell_type": "markdown",
   "id": "527e821a",
   "metadata": {},
   "source": [
    "## 2.2.3 Array Sclicing: Access subarrays\n",
    "+ Cú pháp cắt lát numpy:\n",
    "```\n",
    "arr[start:end:step]\n",
    "```"
   ]
  },
  {
   "cell_type": "markdown",
   "id": "97e6242a",
   "metadata": {},
   "source": [
    "+ Mảng con một chiều"
   ]
  },
  {
   "cell_type": "code",
   "execution_count": 22,
   "id": "83ed2655",
   "metadata": {},
   "outputs": [
    {
     "data": {
      "text/plain": [
       "array([0, 1, 2, 3, 4])"
      ]
     },
     "execution_count": 22,
     "metadata": {},
     "output_type": "execute_result"
    }
   ],
   "source": [
    "x = np.arange(10)\n",
    "x_5 = x[:5]\n",
    "x_5"
   ]
  },
  {
   "cell_type": "markdown",
   "id": "7cb9c954",
   "metadata": {},
   "source": [
    "+ Mảng con nhiều chiều"
   ]
  },
  {
   "cell_type": "code",
   "execution_count": 23,
   "id": "d8500c7e",
   "metadata": {},
   "outputs": [
    {
     "data": {
      "text/plain": [
       "array([[ 9,  0, 10,  3],\n",
       "       [11, 18,  2,  0],\n",
       "       [ 0,  4,  5,  6]])"
      ]
     },
     "execution_count": 23,
     "metadata": {},
     "output_type": "execute_result"
    }
   ],
   "source": [
    "m_d_arr = np.random.randint(20, size=(3, 4))\n",
    "m_d_arr"
   ]
  },
  {
   "cell_type": "code",
   "execution_count": 24,
   "id": "a5fa1116",
   "metadata": {},
   "outputs": [
    {
     "data": {
      "text/plain": [
       "array([[ 9,  0, 10],\n",
       "       [11, 18,  2]])"
      ]
     },
     "execution_count": 24,
     "metadata": {},
     "output_type": "execute_result"
    }
   ],
   "source": [
    "# two rows, three columns\n",
    "m_d_arr[:2, :3]"
   ]
  },
  {
   "cell_type": "code",
   "execution_count": 25,
   "id": "d40c341b",
   "metadata": {},
   "outputs": [
    {
     "data": {
      "text/plain": [
       "array([[ 9, 10],\n",
       "       [11,  2],\n",
       "       [ 0,  5]])"
      ]
     },
     "execution_count": 25,
     "metadata": {},
     "output_type": "execute_result"
    }
   ],
   "source": [
    "# all rows, every other column (step=2)\n",
    "m_d_arr[:, ::2]"
   ]
  },
  {
   "cell_type": "markdown",
   "id": "ecaec6b5",
   "metadata": {},
   "source": [
    "+ Đảo ngược array con"
   ]
  },
  {
   "cell_type": "code",
   "execution_count": 26,
   "id": "ea38c9ac",
   "metadata": {},
   "outputs": [
    {
     "data": {
      "text/plain": [
       "array([[ 6,  5,  4,  0],\n",
       "       [ 0,  2, 18, 11],\n",
       "       [ 3, 10,  0,  9]])"
      ]
     },
     "execution_count": 26,
     "metadata": {},
     "output_type": "execute_result"
    }
   ],
   "source": [
    "m_d_arr[::-1, ::-1]"
   ]
  },
  {
   "cell_type": "markdown",
   "id": "bae9055c",
   "metadata": {},
   "source": [
    "+ Truy cập vào hàng và cột của array"
   ]
  },
  {
   "cell_type": "code",
   "execution_count": 27,
   "id": "719cae1e",
   "metadata": {},
   "outputs": [
    {
     "name": "stdout",
     "output_type": "stream",
     "text": [
      "[[ 9]\n",
      " [11]\n",
      " [ 0]]\n",
      "[ 9 11  0]\n"
     ]
    }
   ],
   "source": [
    "# First column\n",
    "print(m_d_arr[:, :1])  # subarray dimensions\n",
    "print(m_d_arr[:, 0])"
   ]
  },
  {
   "cell_type": "code",
   "execution_count": 28,
   "id": "5a9e6aad",
   "metadata": {},
   "outputs": [
    {
     "data": {
      "text/plain": [
       "array([ 9,  0, 10,  3])"
      ]
     },
     "execution_count": 28,
     "metadata": {},
     "output_type": "execute_result"
    }
   ],
   "source": [
    "# first row\n",
    "m_d_arr[0, :]"
   ]
  },
  {
   "cell_type": "markdown",
   "id": "56503dc0",
   "metadata": {},
   "source": [
    "+ Subarray as no-copy views\n",
    "    - Array slices trả về *views* thay vì copies cả một array.\n",
    "    - List trong python, mỗi list slices sẽ được copies.\n",
    "    - Thuộc tính này hữu ích khi ta cần làm việc với 1 vùng nhỏ trong array ban đầu mà không cần copy dữ liệu đệm bên dưới."
   ]
  },
  {
   "cell_type": "code",
   "execution_count": 29,
   "id": "cfca3f48",
   "metadata": {},
   "outputs": [
    {
     "data": {
      "text/plain": [
       "array([[ 9,  0, 10,  3],\n",
       "       [11, 18,  2,  0],\n",
       "       [ 0,  4,  5,  6]])"
      ]
     },
     "execution_count": 29,
     "metadata": {},
     "output_type": "execute_result"
    }
   ],
   "source": [
    "m_d_arr"
   ]
  },
  {
   "cell_type": "code",
   "execution_count": 30,
   "id": "2c7d3242",
   "metadata": {},
   "outputs": [
    {
     "data": {
      "text/plain": [
       "array([[ 9,  0],\n",
       "       [11, 18],\n",
       "       [ 0,  4]])"
      ]
     },
     "execution_count": 30,
     "metadata": {},
     "output_type": "execute_result"
    }
   ],
   "source": [
    "m_d_arr_subarr = m_d_arr[:3, :2]\n",
    "m_d_arr_subarr"
   ]
  },
  {
   "cell_type": "code",
   "execution_count": 31,
   "id": "9da43674",
   "metadata": {},
   "outputs": [],
   "source": [
    "m_d_arr_subarr[0, 0] = 10"
   ]
  },
  {
   "cell_type": "code",
   "execution_count": 32,
   "id": "a408fbab",
   "metadata": {},
   "outputs": [
    {
     "data": {
      "text/plain": [
       "array([[10,  0, 10,  3],\n",
       "       [11, 18,  2,  0],\n",
       "       [ 0,  4,  5,  6]])"
      ]
     },
     "execution_count": 32,
     "metadata": {},
     "output_type": "execute_result"
    }
   ],
   "source": [
    "m_d_arr"
   ]
  },
  {
   "cell_type": "markdown",
   "id": "c1c04b9e",
   "metadata": {},
   "source": [
    "+ Creating copies of arrays\n",
    "    - Copy array:\n",
    "    ```\n",
    "    copy()\n",
    "    ```\n",
    "    - Việc ta làm việc với array vừa được copy không tác động đến array ban đầu"
   ]
  },
  {
   "cell_type": "code",
   "execution_count": 33,
   "id": "9398f6ef",
   "metadata": {},
   "outputs": [
    {
     "data": {
      "text/plain": [
       "array([[10,  0],\n",
       "       [11, 18],\n",
       "       [ 0,  4]])"
      ]
     },
     "execution_count": 33,
     "metadata": {},
     "output_type": "execute_result"
    }
   ],
   "source": [
    "m_d_arr_subarr_copy = m_d_arr[:3, :2].copy()\n",
    "m_d_arr_subarr_copy"
   ]
  },
  {
   "cell_type": "code",
   "execution_count": 34,
   "id": "db5d4243",
   "metadata": {},
   "outputs": [
    {
     "data": {
      "text/plain": [
       "array([[11,  0],\n",
       "       [11, 18],\n",
       "       [ 0,  4]])"
      ]
     },
     "execution_count": 34,
     "metadata": {},
     "output_type": "execute_result"
    }
   ],
   "source": [
    "m_d_arr_subarr_copy[0, 0] = 11\n",
    "m_d_arr_subarr_copy"
   ]
  },
  {
   "cell_type": "code",
   "execution_count": 35,
   "id": "23418454",
   "metadata": {},
   "outputs": [
    {
     "data": {
      "text/plain": [
       "array([[10,  0, 10,  3],\n",
       "       [11, 18,  2,  0],\n",
       "       [ 0,  4,  5,  6]])"
      ]
     },
     "execution_count": 35,
     "metadata": {},
     "output_type": "execute_result"
    }
   ],
   "source": [
    "m_d_arr"
   ]
  },
  {
   "cell_type": "markdown",
   "id": "1829c6ee",
   "metadata": {},
   "source": [
    "## 2.2.4 Reshaping of Arrays\n",
    "\n",
    "+ Sử dụng: \n",
    "```\n",
    "reshape()\n",
    "```"
   ]
  },
  {
   "cell_type": "code",
   "execution_count": 36,
   "id": "9fc375fe",
   "metadata": {},
   "outputs": [
    {
     "data": {
      "text/plain": [
       "array([[1, 2, 3],\n",
       "       [4, 5, 6],\n",
       "       [7, 8, 9]])"
      ]
     },
     "execution_count": 36,
     "metadata": {},
     "output_type": "execute_result"
    }
   ],
   "source": [
    "grid = np.arange(1, 10).reshape(3, 3)\n",
    "grid"
   ]
  },
  {
   "cell_type": "markdown",
   "id": "b914fd7e",
   "metadata": {},
   "source": [
    "## 2.2.5 Array concatenation & Splitting\n",
    "(Combine nhiều arrays thành 1 & ngược lại.)"
   ]
  },
  {
   "cell_type": "markdown",
   "id": "d994bf0c",
   "metadata": {},
   "source": [
    "### Concatenation (kết hợp) of arrays\n",
    "```\n",
    "np.concatenate([first_array, second_array, ...], axis=1)\n",
    "\n",
    "- if axis=1: các arrays nối hàng\n",
    "- if axis=0: các arrays nối cột\n",
    "```"
   ]
  },
  {
   "cell_type": "code",
   "execution_count": 37,
   "id": "5e60dc8a",
   "metadata": {},
   "outputs": [
    {
     "data": {
      "text/plain": [
       "array([1, 2, 3, 4, 5, 6, 1, 2, 9])"
      ]
     },
     "execution_count": 37,
     "metadata": {},
     "output_type": "execute_result"
    }
   ],
   "source": [
    "x = np.array([1, 2, 3])\n",
    "y = np.array([4, 5, 6])\n",
    "h = np.array([1, 2, 9])\n",
    "#\n",
    "z = np.concatenate([x, y, h])\n",
    "z"
   ]
  },
  {
   "cell_type": "code",
   "execution_count": 38,
   "id": "2d56ad1f",
   "metadata": {
    "scrolled": true
   },
   "outputs": [
    {
     "name": "stdout",
     "output_type": "stream",
     "text": [
      "grid_1: \n",
      " [[8 4 1 4]\n",
      " [9 8 1 1]\n",
      " [7 9 9 3]]\n",
      "grid_2: \n",
      " [[6 7 2 0]\n",
      " [3 5 9 4]\n",
      " [4 6 4 4]]\n",
      "Horizontal: \n",
      " [[8 4 1 4 6 7 2 0]\n",
      " [9 8 1 1 3 5 9 4]\n",
      " [7 9 9 3 4 6 4 4]]\n",
      "Vertical: \n",
      " [[8 4 1 4]\n",
      " [9 8 1 1]\n",
      " [7 9 9 3]\n",
      " [6 7 2 0]\n",
      " [3 5 9 4]\n",
      " [4 6 4 4]]\n"
     ]
    }
   ],
   "source": [
    "grid_1 = np.random.randint(10, size=(3, 4))\n",
    "print(\"grid_1: \\n\", grid_1)\n",
    "grid_2 = np.random.randint(10, size=(3, 4))\n",
    "print(\"grid_2: \\n\", grid_2)\n",
    "#\n",
    "grid_horizontal = np.concatenate([grid_1, grid_2], axis=1)\n",
    "print(\"Horizontal: \\n\", grid_horizontal)\n",
    "grid_vertical = np.concatenate([grid_1, grid_2], axis=0)\n",
    "print(\"Vertical: \\n\", grid_vertical)"
   ]
  },
  {
   "cell_type": "markdown",
   "id": "7a8e861d",
   "metadata": {},
   "source": [
    "+ Ngoài sử dụng axis, có thể sử dụng *np.vstack* & *np.hstack*\n",
    "    - vstack: khi height size bằng nhau\n",
    "    - hstack: khi weight size bằng nhau"
   ]
  },
  {
   "cell_type": "code",
   "execution_count": 39,
   "id": "5c5a48a8",
   "metadata": {},
   "outputs": [
    {
     "data": {
      "text/plain": [
       "array([[1, 2, 3],\n",
       "       [3, 4, 5],\n",
       "       [5, 6, 7]])"
      ]
     },
     "execution_count": 39,
     "metadata": {},
     "output_type": "execute_result"
    }
   ],
   "source": [
    "x = np.array([1, 2, 3])\n",
    "grid = np.array([[3, 4, 5], \n",
    "                 [5, 6, 7]])\n",
    "#\n",
    "horizontal_arr = np.vstack([x, grid])\n",
    "horizontal_arr"
   ]
  },
  {
   "cell_type": "markdown",
   "id": "fe5169ae",
   "metadata": {},
   "source": [
    "### Splitting of arrays\n",
    "\n",
    "+ Splitting functions:\n",
    "    - np.split()\n",
    "    - np.hsplit()\n",
    "    - np.vsplit()"
   ]
  },
  {
   "cell_type": "markdown",
   "id": "151b0c7e",
   "metadata": {},
   "source": [
    "# 2.3 Computation on Numpy Arrays: Universal (phổ quát) Functions\n",
    "\n",
    "+ Khả năng tính toán của Numpy arrays nhở sử dụng vertorized. \n",
    "    - thực thi thông qua các hàm/chức năng phổ quát - universal functions (ufuncs)"
   ]
  },
  {
   "cell_type": "markdown",
   "id": "d724f137",
   "metadata": {},
   "source": [
    "### The Slowness of Loops"
   ]
  },
  {
   "cell_type": "code",
   "execution_count": 40,
   "id": "b0589e1a",
   "metadata": {},
   "outputs": [],
   "source": [
    "import numpy as np\n",
    "np.random.seed(0)"
   ]
  },
  {
   "cell_type": "code",
   "execution_count": 41,
   "id": "c7999393",
   "metadata": {},
   "outputs": [
    {
     "name": "stdout",
     "output_type": "stream",
     "text": [
      "12.7 µs ± 292 ns per loop (mean ± std. dev. of 7 runs, 100000 loops each)\n"
     ]
    }
   ],
   "source": [
    "def compute_reciprocals(values):\n",
    "    output = np.empty(len(values))\n",
    "    for i in range(len(values)):\n",
    "        output[i] = 1.0/values[i]\n",
    "    return output\n",
    "#\n",
    "values = np.random.randint(1, 10, size=5)\n",
    "%timeit compute_reciprocals(values)"
   ]
  },
  {
   "cell_type": "markdown",
   "id": "3399e8ea",
   "metadata": {},
   "source": [
    "### Introducing UFuncs"
   ]
  },
  {
   "cell_type": "markdown",
   "id": "c306cf1d",
   "metadata": {},
   "source": [
    "+ Compare the results:"
   ]
  },
  {
   "cell_type": "code",
   "execution_count": 42,
   "id": "0af16e3a",
   "metadata": {},
   "outputs": [
    {
     "name": "stdout",
     "output_type": "stream",
     "text": [
      "[0.16666667 1.         0.25       0.25       0.125     ]\n",
      "[0.16666667 1.         0.25       0.25       0.125     ]\n"
     ]
    }
   ],
   "source": [
    "print(compute_reciprocals(values))\n",
    "print(1.0/values)"
   ]
  },
  {
   "cell_type": "code",
   "execution_count": 43,
   "id": "4d57b692",
   "metadata": {},
   "outputs": [
    {
     "name": "stderr",
     "output_type": "stream",
     "text": [
      "UsageError: Line magic function `%timeit(1.0/big_array)` not found.\n"
     ]
    }
   ],
   "source": [
    "big_array = np.random.randint(1, 100, size=1000000)\n",
    "#\n",
    "%timeit(1.0/big_array)"
   ]
  },
  {
   "cell_type": "markdown",
   "id": "ebcfc582",
   "metadata": {},
   "source": [
    "+ Các hoạt động vectorized được thực thi bởi các *ufuncs*, mục đích chính của các hàm là nhanh chóng thực hiện các hoạt động trên các giá trị của numpy array.\n",
    "+ Khi cần thực hiện vòng lặp trong python, nên cân nhắc thay thế bởi vectorized."
   ]
  },
  {
   "cell_type": "code",
   "execution_count": 44,
   "id": "25d5600c",
   "metadata": {},
   "outputs": [
    {
     "data": {
      "text/plain": [
       "array([0.        , 0.5       , 0.66666667, 0.75      , 0.8       ])"
      ]
     },
     "execution_count": 44,
     "metadata": {},
     "output_type": "execute_result"
    }
   ],
   "source": [
    "np.arange(5)/np.arange(1, 6)"
   ]
  },
  {
   "cell_type": "markdown",
   "id": "edb1285b",
   "metadata": {},
   "source": [
    "### Exploring NumPy's UFuncs"
   ]
  },
  {
   "cell_type": "markdown",
   "id": "e958facf",
   "metadata": {},
   "source": [
    "+ Ufuncs có 2 kiểu:\n",
    "    - *unary ufuncs*: thực hiện trên 1 input.\n",
    "    - *binary ufuncs*: thực hiện trên 2 inputs.\n",
    "+ Ví dụ về 2 kiểu functions.    "
   ]
  },
  {
   "cell_type": "markdown",
   "id": "6a32b8d9",
   "metadata": {},
   "source": [
    "#### Array arithmetic"
   ]
  },
  {
   "cell_type": "code",
   "execution_count": 45,
   "id": "67a7d184",
   "metadata": {},
   "outputs": [
    {
     "name": "stdout",
     "output_type": "stream",
     "text": [
      "x + 5 =  [5 6 7 8]\n",
      "x % 2 =  [0 1 0 1]\n"
     ]
    }
   ],
   "source": [
    "x = np.arange(4)\n",
    "#\n",
    "print(\"x + 5 = \", x + 5)\n",
    "print(\"x % 2 = \", x%2)"
   ]
  },
  {
   "cell_type": "markdown",
   "id": "a6fa41c3",
   "metadata": {},
   "source": [
    "![array_arithmetic](./figures/array_arithmetic.PNG)"
   ]
  },
  {
   "cell_type": "markdown",
   "id": "f5d146fd",
   "metadata": {},
   "source": [
    "#### Absolute value"
   ]
  },
  {
   "cell_type": "code",
   "execution_count": 46,
   "id": "2a8673b6",
   "metadata": {},
   "outputs": [
    {
     "data": {
      "text/plain": [
       "array([2, 1, 1])"
      ]
     },
     "execution_count": 46,
     "metadata": {},
     "output_type": "execute_result"
    }
   ],
   "source": [
    "x = np.array([-2, -1, 1])\n",
    "x_absolute = np.absolute(x)\n",
    "x_absolute"
   ]
  },
  {
   "cell_type": "markdown",
   "id": "0b9f587c",
   "metadata": {},
   "source": [
    "#### Trigonometric functions"
   ]
  },
  {
   "cell_type": "code",
   "execution_count": 47,
   "id": "6bf2f871",
   "metadata": {},
   "outputs": [
    {
     "data": {
      "text/plain": [
       "array([0.        , 1.57079633, 3.14159265])"
      ]
     },
     "execution_count": 47,
     "metadata": {},
     "output_type": "execute_result"
    }
   ],
   "source": [
    "theta = np.linspace(0, np.pi, 3)\n",
    "theta"
   ]
  },
  {
   "cell_type": "code",
   "execution_count": 48,
   "id": "4269eefd",
   "metadata": {},
   "outputs": [
    {
     "name": "stdout",
     "output_type": "stream",
     "text": [
      "theta =  [0.         1.57079633 3.14159265]\n",
      "sin(theta) =  [0.0000000e+00 1.0000000e+00 1.2246468e-16]\n"
     ]
    }
   ],
   "source": [
    "print(\"theta = \", theta)\n",
    "print(\"sin(theta) = \", np.sin(theta))"
   ]
  },
  {
   "cell_type": "markdown",
   "id": "a3ac275d",
   "metadata": {},
   "source": [
    "#### Exponents & logarithms"
   ]
  },
  {
   "cell_type": "code",
   "execution_count": 49,
   "id": "10f9961a",
   "metadata": {},
   "outputs": [
    {
     "name": "stdout",
     "output_type": "stream",
     "text": [
      "x:  [1, 2, 3]\n",
      "e^x:  [ 2.71828183  7.3890561  20.08553692]\n",
      "2^x:  [2. 4. 8.]\n",
      "3^x:  [ 3  9 27]\n"
     ]
    }
   ],
   "source": [
    "x = [1, 2, 3]\n",
    "print(\"x: \", x)\n",
    "print(\"e^x: \", np.exp(x))\n",
    "print(\"2^x: \", np.exp2(x))\n",
    "print(\"3^x: \", np.power(3, x))"
   ]
  },
  {
   "cell_type": "code",
   "execution_count": 50,
   "id": "ec15c809",
   "metadata": {},
   "outputs": [
    {
     "name": "stdout",
     "output_type": "stream",
     "text": [
      "ln(x):  [0.         0.69314718 1.09861229]\n",
      "log2(x):  [0.        1.        1.5849625]\n",
      "log10(x):  [0.         0.30103    0.47712125]\n"
     ]
    }
   ],
   "source": [
    "print(\"ln(x): \", np.log(x))\n",
    "print(\"log2(x): \", np.log2(x))\n",
    "print(\"log10(x): \", np.log10(x))"
   ]
  },
  {
   "cell_type": "markdown",
   "id": "ecd52d22",
   "metadata": {},
   "source": [
    "### Advanced UFunc Features"
   ]
  },
  {
   "cell_type": "markdown",
   "id": "25395b7b",
   "metadata": {},
   "source": [
    "#### Specifying output"
   ]
  },
  {
   "cell_type": "code",
   "execution_count": null,
   "id": "627e2a31",
   "metadata": {},
   "outputs": [],
   "source": []
  },
  {
   "cell_type": "markdown",
   "id": "5bed24ad",
   "metadata": {},
   "source": [
    "#### Aggregates"
   ]
  },
  {
   "cell_type": "markdown",
   "id": "d650faee",
   "metadata": {},
   "source": [
    "#### Outer products"
   ]
  },
  {
   "cell_type": "markdown",
   "id": "adec833f",
   "metadata": {},
   "source": []
  },
  {
   "cell_type": "markdown",
   "id": "8c717ffb",
   "metadata": {},
   "source": [
    "# 2.4 Aggregation: Min, Max & Everything in Between"
   ]
  },
  {
   "cell_type": "markdown",
   "id": "ba4b8c06",
   "metadata": {},
   "source": [
    "### Summing the Values in an Array"
   ]
  },
  {
   "cell_type": "code",
   "execution_count": 51,
   "id": "29671f17",
   "metadata": {},
   "outputs": [
    {
     "name": "stdout",
     "output_type": "stream",
     "text": [
      "20.9 µs ± 1.41 µs per loop (mean ± std. dev. of 7 runs, 100000 loops each)\n"
     ]
    }
   ],
   "source": [
    "list_values = np.random.random(100)\n",
    "%timeit sum(list_values)"
   ]
  },
  {
   "cell_type": "code",
   "execution_count": null,
   "id": "1481830c",
   "metadata": {},
   "outputs": [],
   "source": [
    "%timeit np.sum(list_values)"
   ]
  },
  {
   "cell_type": "code",
   "execution_count": null,
   "id": "7d25deb8",
   "metadata": {},
   "outputs": [],
   "source": [
    "big_array = np.random.rand(1000000)\n",
    "%timeit sum(big_array)\n",
    "%timeit np.sum(big_array)"
   ]
  },
  {
   "cell_type": "markdown",
   "id": "1013b169",
   "metadata": {},
   "source": [
    "### Minimum and Maximum"
   ]
  },
  {
   "cell_type": "code",
   "execution_count": null,
   "id": "0f6ea19e",
   "metadata": {},
   "outputs": [],
   "source": [
    "%timeit min(big_array)\n",
    "%timeit max(big_array)"
   ]
  },
  {
   "cell_type": "code",
   "execution_count": null,
   "id": "7c61372f",
   "metadata": {},
   "outputs": [],
   "source": [
    "%timeit np.min(big_array)\n",
    "%timeit np.max(big_array)"
   ]
  },
  {
   "cell_type": "markdown",
   "id": "fb3f4361",
   "metadata": {},
   "source": [
    "#### Multidimensional aggregates - Tổng hợp ma trận nhiều chiều\n",
    "+ Với ma trận nhiều chiều, việc tìm max/min sẽ phụ thuộc hàng hay cột\n",
    "    - axis=0: tìm theo cột\n",
    "    - axis=1: tìm theo hàng"
   ]
  },
  {
   "cell_type": "code",
   "execution_count": null,
   "id": "ea4bb189",
   "metadata": {},
   "outputs": [],
   "source": [
    "m_aggregates = np.random.random((3, 4))\n",
    "m_aggregates"
   ]
  },
  {
   "cell_type": "code",
   "execution_count": null,
   "id": "ad60a222",
   "metadata": {},
   "outputs": [],
   "source": [
    "np.sum(m_aggregates)\n"
   ]
  },
  {
   "cell_type": "code",
   "execution_count": null,
   "id": "5e3a717c",
   "metadata": {},
   "outputs": [],
   "source": [
    "m_aggregates.min(axis=0)"
   ]
  },
  {
   "cell_type": "code",
   "execution_count": null,
   "id": "918d1ddc",
   "metadata": {},
   "outputs": [],
   "source": [
    "m_aggregates.min(axis=1)"
   ]
  },
  {
   "cell_type": "markdown",
   "id": "aad209f0",
   "metadata": {},
   "source": [
    "#### Other aggregation functions\n",
    "\n",
    "![aggregation_funcs](./figures/aggregation_funcs.PNG)"
   ]
  },
  {
   "cell_type": "markdown",
   "id": "f321362d",
   "metadata": {},
   "source": [
    "### Example: What is the average height of US presidents ?"
   ]
  },
  {
   "cell_type": "markdown",
   "id": "799574c2",
   "metadata": {},
   "source": [
    "# 2.5 Computation on Arrays: Broadcasting"
   ]
  },
  {
   "cell_type": "markdown",
   "id": "6d2d6537",
   "metadata": {},
   "source": [
    "### Introducing Broadcasting"
   ]
  },
  {
   "cell_type": "code",
   "execution_count": null,
   "id": "0b52a146",
   "metadata": {},
   "outputs": [],
   "source": [
    "import numpy as np"
   ]
  },
  {
   "cell_type": "code",
   "execution_count": null,
   "id": "9a9d78cb",
   "metadata": {},
   "outputs": [],
   "source": [
    "a = np.array([0, 2, 3])\n",
    "b = np.array([2, 3, 4])\n",
    "#\n",
    "a + b"
   ]
  },
  {
   "cell_type": "markdown",
   "id": "f424d08f",
   "metadata": {},
   "source": [
    "+ Extend this to arrays of higher dimension\n",
    "    - add a one-dimensional array to a 2-dimensional array"
   ]
  },
  {
   "cell_type": "code",
   "execution_count": null,
   "id": "e29c63e5",
   "metadata": {},
   "outputs": [],
   "source": [
    "ones_m = np.ones((3, 3))\n",
    "ones_m"
   ]
  },
  {
   "cell_type": "code",
   "execution_count": null,
   "id": "0c3e3951",
   "metadata": {},
   "outputs": [],
   "source": [
    "ones_m + a"
   ]
  },
  {
   "cell_type": "markdown",
   "id": "31637ee3",
   "metadata": {},
   "source": [
    "+ Involve broadcasting of both arrays"
   ]
  },
  {
   "cell_type": "code",
   "execution_count": null,
   "id": "4b93daf8",
   "metadata": {},
   "outputs": [],
   "source": [
    "a = np.arange(3)\n",
    "b = np.arange(3)[:, np.newaxis]"
   ]
  },
  {
   "cell_type": "code",
   "execution_count": null,
   "id": "b0538f7f",
   "metadata": {},
   "outputs": [],
   "source": [
    "a"
   ]
  },
  {
   "cell_type": "code",
   "execution_count": null,
   "id": "c1380574",
   "metadata": {},
   "outputs": [],
   "source": [
    "b"
   ]
  },
  {
   "cell_type": "code",
   "execution_count": null,
   "id": "109caa8a",
   "metadata": {},
   "outputs": [],
   "source": [
    "a + b"
   ]
  },
  {
   "cell_type": "markdown",
   "id": "f971ff1e",
   "metadata": {},
   "source": [
    "#### Visualization of Numpy broadcasting\n",
    "\n",
    "![visualize_numpy_broadcasting](./figures/visualize_numpy_broadcasting.PNG)"
   ]
  },
  {
   "cell_type": "markdown",
   "id": "9dcf9b4d",
   "metadata": {},
   "source": [
    "### Rules of Broadcasting\n",
    "+ Broadcasting tuân theo các quy tắc nhằm xác định sự tương quan giữa 2 arrays:\n",
    "    - Quy tắc 1: Nếu 2 array có số chiều khác nhau, array có kích thước ít hơn có thể là bộ đệm cho array còn lại bên trái.\n",
    "    - Quy tắc 2: Nếu kích thước của 2 arrays không match bất kì chiều nào, "
   ]
  },
  {
   "cell_type": "markdown",
   "id": "9faf00c1",
   "metadata": {},
   "source": [
    "#### Broadcasting example 1"
   ]
  },
  {
   "cell_type": "code",
   "execution_count": null,
   "id": "c4f5e4d5",
   "metadata": {},
   "outputs": [],
   "source": [
    "m_ones = np.ones((2, 3))\n",
    "print(m_ones.shape)\n",
    "a = np.arange(3)\n",
    "print(a.shape)"
   ]
  },
  {
   "cell_type": "code",
   "execution_count": null,
   "id": "2bb2c253",
   "metadata": {},
   "outputs": [],
   "source": [
    "m_ones"
   ]
  },
  {
   "cell_type": "code",
   "execution_count": null,
   "id": "6533ebf5",
   "metadata": {},
   "outputs": [],
   "source": [
    "a"
   ]
  },
  {
   "cell_type": "code",
   "execution_count": null,
   "id": "3dcff439",
   "metadata": {},
   "outputs": [],
   "source": [
    "m_ones + a"
   ]
  },
  {
   "cell_type": "markdown",
   "id": "f77bae7e",
   "metadata": {},
   "source": [
    "#### Broadcasting example 2"
   ]
  },
  {
   "cell_type": "code",
   "execution_count": null,
   "id": "144c7fb4",
   "metadata": {},
   "outputs": [],
   "source": [
    "a = np.arange(3).reshape((3, 1))\n",
    "print(a.shape)\n",
    "b = np.arange(3)\n",
    "print(b.shape)"
   ]
  },
  {
   "cell_type": "code",
   "execution_count": null,
   "id": "fb6787fc",
   "metadata": {},
   "outputs": [],
   "source": [
    "a"
   ]
  },
  {
   "cell_type": "code",
   "execution_count": null,
   "id": "ab1aa0c3",
   "metadata": {},
   "outputs": [],
   "source": [
    "b"
   ]
  },
  {
   "cell_type": "code",
   "execution_count": null,
   "id": "7af1c067",
   "metadata": {},
   "outputs": [],
   "source": [
    "a + b"
   ]
  },
  {
   "cell_type": "code",
   "execution_count": null,
   "id": "2068f94a",
   "metadata": {},
   "outputs": [],
   "source": [
    "b"
   ]
  },
  {
   "cell_type": "markdown",
   "id": "204bac26",
   "metadata": {},
   "source": [
    "### Broadcasting in Practice"
   ]
  },
  {
   "cell_type": "markdown",
   "id": "07c92b5e",
   "metadata": {},
   "source": [
    "#### Centering an array"
   ]
  },
  {
   "cell_type": "code",
   "execution_count": 52,
   "id": "2846dad8",
   "metadata": {},
   "outputs": [
    {
     "data": {
      "text/plain": [
       "array([[0.49555108, 0.9552979 , 0.81778172],\n",
       "       [0.49902653, 0.22465879, 0.89005733],\n",
       "       [0.30654364, 0.37441302, 0.75259926],\n",
       "       [0.17746194, 0.10144419, 0.9999925 ],\n",
       "       [0.78050216, 0.06618773, 0.6336205 ],\n",
       "       [0.31063248, 0.94833285, 0.97968792],\n",
       "       [0.24481674, 0.62413396, 0.75772597],\n",
       "       [0.56219826, 0.49924365, 0.41224358],\n",
       "       [0.54175922, 0.22209216, 0.45803492],\n",
       "       [0.23090228, 0.74940011, 0.65656829]])"
      ]
     },
     "execution_count": 52,
     "metadata": {},
     "output_type": "execute_result"
    }
   ],
   "source": [
    "x = np.random.random((10, 3))\n",
    "x"
   ]
  },
  {
   "cell_type": "markdown",
   "id": "574926d5",
   "metadata": {},
   "source": [
    "#### Compute the mean of each feature using the mean aggregate across "
   ]
  },
  {
   "cell_type": "code",
   "execution_count": 55,
   "id": "ee5298bf",
   "metadata": {},
   "outputs": [
    {
     "data": {
      "text/plain": [
       "array([0.41493943, 0.47652044, 0.7358312 ])"
      ]
     },
     "execution_count": 55,
     "metadata": {},
     "output_type": "execute_result"
    }
   ],
   "source": [
    "x_mean_ver = x.mean(axis=0)\n",
    "x_mean_ver"
   ]
  },
  {
   "cell_type": "code",
   "execution_count": 57,
   "id": "b0cd4af2",
   "metadata": {},
   "outputs": [
    {
     "data": {
      "text/plain": [
       "array([0.75621023, 0.53791422, 0.47785198, 0.42629954, 0.4934368 ,\n",
       "       0.74621775, 0.54222555, 0.4912285 , 0.40729543, 0.54562356])"
      ]
     },
     "execution_count": 57,
     "metadata": {},
     "output_type": "execute_result"
    }
   ],
   "source": [
    "x_mean_hor = x.mean(axis=1)\n",
    "x_mean_hor"
   ]
  },
  {
   "cell_type": "markdown",
   "id": "4ca9683f",
   "metadata": {},
   "source": [
    "#### center the x array by subtracting the mean"
   ]
  },
  {
   "cell_type": "code",
   "execution_count": 59,
   "id": "49e365b0",
   "metadata": {},
   "outputs": [
    {
     "data": {
      "text/plain": [
       "array([[ 0.08061165,  0.47877746,  0.08195053],\n",
       "       [ 0.08408709, -0.25186165,  0.15422613],\n",
       "       [-0.10839579, -0.10210742,  0.01676807],\n",
       "       [-0.23747749, -0.37507625,  0.2641613 ],\n",
       "       [ 0.36556273, -0.4103327 , -0.1022107 ],\n",
       "       [-0.10430695,  0.47181242,  0.24385672],\n",
       "       [-0.1701227 ,  0.14761353,  0.02189477],\n",
       "       [ 0.14725883,  0.02272321, -0.32358762],\n",
       "       [ 0.12681979, -0.25442828, -0.27779628],\n",
       "       [-0.18403715,  0.27287968, -0.07926291]])"
      ]
     },
     "execution_count": 59,
     "metadata": {},
     "output_type": "execute_result"
    }
   ],
   "source": [
    "x_centered = x - x_mean_ver\n",
    "x_centered"
   ]
  },
  {
   "cell_type": "markdown",
   "id": "7d86baf9",
   "metadata": {},
   "source": [
    "#### Plotting a 2-dimensional function\n",
    "+ broadcasting rất hưu dụng trong việc thể hiện ảnh 2 chiều"
   ]
  },
  {
   "cell_type": "code",
   "execution_count": 61,
   "id": "c3a67b19",
   "metadata": {},
   "outputs": [],
   "source": [
    "# x  & y: 50 steps from 0 -> 50\n",
    "x = np.linspace(0, 5, 50)\n",
    "y = np.linspace(0, 5, 50)[:, np.newaxis]"
   ]
  },
  {
   "cell_type": "code",
   "execution_count": 62,
   "id": "62227003",
   "metadata": {},
   "outputs": [
    {
     "data": {
      "text/plain": [
       "array([0.        , 0.10204082, 0.20408163, 0.30612245, 0.40816327,\n",
       "       0.51020408, 0.6122449 , 0.71428571, 0.81632653, 0.91836735,\n",
       "       1.02040816, 1.12244898, 1.2244898 , 1.32653061, 1.42857143,\n",
       "       1.53061224, 1.63265306, 1.73469388, 1.83673469, 1.93877551,\n",
       "       2.04081633, 2.14285714, 2.24489796, 2.34693878, 2.44897959,\n",
       "       2.55102041, 2.65306122, 2.75510204, 2.85714286, 2.95918367,\n",
       "       3.06122449, 3.16326531, 3.26530612, 3.36734694, 3.46938776,\n",
       "       3.57142857, 3.67346939, 3.7755102 , 3.87755102, 3.97959184,\n",
       "       4.08163265, 4.18367347, 4.28571429, 4.3877551 , 4.48979592,\n",
       "       4.59183673, 4.69387755, 4.79591837, 4.89795918, 5.        ])"
      ]
     },
     "execution_count": 62,
     "metadata": {},
     "output_type": "execute_result"
    }
   ],
   "source": [
    "x"
   ]
  },
  {
   "cell_type": "code",
   "execution_count": 63,
   "id": "02643e26",
   "metadata": {},
   "outputs": [
    {
     "data": {
      "text/plain": [
       "array([[0.        ],\n",
       "       [0.10204082],\n",
       "       [0.20408163],\n",
       "       [0.30612245],\n",
       "       [0.40816327],\n",
       "       [0.51020408],\n",
       "       [0.6122449 ],\n",
       "       [0.71428571],\n",
       "       [0.81632653],\n",
       "       [0.91836735],\n",
       "       [1.02040816],\n",
       "       [1.12244898],\n",
       "       [1.2244898 ],\n",
       "       [1.32653061],\n",
       "       [1.42857143],\n",
       "       [1.53061224],\n",
       "       [1.63265306],\n",
       "       [1.73469388],\n",
       "       [1.83673469],\n",
       "       [1.93877551],\n",
       "       [2.04081633],\n",
       "       [2.14285714],\n",
       "       [2.24489796],\n",
       "       [2.34693878],\n",
       "       [2.44897959],\n",
       "       [2.55102041],\n",
       "       [2.65306122],\n",
       "       [2.75510204],\n",
       "       [2.85714286],\n",
       "       [2.95918367],\n",
       "       [3.06122449],\n",
       "       [3.16326531],\n",
       "       [3.26530612],\n",
       "       [3.36734694],\n",
       "       [3.46938776],\n",
       "       [3.57142857],\n",
       "       [3.67346939],\n",
       "       [3.7755102 ],\n",
       "       [3.87755102],\n",
       "       [3.97959184],\n",
       "       [4.08163265],\n",
       "       [4.18367347],\n",
       "       [4.28571429],\n",
       "       [4.3877551 ],\n",
       "       [4.48979592],\n",
       "       [4.59183673],\n",
       "       [4.69387755],\n",
       "       [4.79591837],\n",
       "       [4.89795918],\n",
       "       [5.        ]])"
      ]
     },
     "execution_count": 63,
     "metadata": {},
     "output_type": "execute_result"
    }
   ],
   "source": [
    "y"
   ]
  },
  {
   "cell_type": "code",
   "execution_count": 65,
   "id": "8cfe95ff",
   "metadata": {},
   "outputs": [
    {
     "data": {
      "text/plain": [
       "array([[-0.83907153, -0.83470697, -0.8216586 , ...,  0.8956708 ,\n",
       "         0.68617261,  0.41940746],\n",
       "       [-0.83907153, -0.82902677, -0.8103873 , ...,  0.92522407,\n",
       "         0.75321348,  0.52508175],\n",
       "       [-0.83907153, -0.82325668, -0.79876457, ...,  0.96427357,\n",
       "         0.84172689,  0.66446403],\n",
       "       ...,\n",
       "       [-0.83907153, -0.48233077, -0.01646558, ...,  0.96449925,\n",
       "         0.75196531,  0.41982581],\n",
       "       [-0.83907153, -0.47324558,  0.00392612, ...,  0.92542163,\n",
       "         0.68540362,  0.37440839],\n",
       "       [-0.83907153, -0.46410908,  0.02431613, ...,  0.89579384,\n",
       "         0.65690314,  0.40107702]])"
      ]
     },
     "execution_count": 65,
     "metadata": {},
     "output_type": "execute_result"
    }
   ],
   "source": [
    "z = np.sin(x)**10 + np.cos(10 + y*x)*np.cos(x)\n",
    "z"
   ]
  },
  {
   "cell_type": "markdown",
   "id": "9d609784",
   "metadata": {},
   "source": [
    "# 2.6 Comparisons, Masks & Boolean Logic"
   ]
  },
  {
   "cell_type": "markdown",
   "id": "25156267",
   "metadata": {},
   "source": [
    "### Example: Counting Rainy Days"
   ]
  },
  {
   "cell_type": "markdown",
   "id": "bee08aef",
   "metadata": {},
   "source": [
    "### Comparison operators as ufuncs\n",
    "\n",
    "+ Có thể sử dụng phương thức so sánh thu được boolean data type.\n",
    "\n",
    "\n",
    "![comparison_operators](./figures/comparison_operators.PNG)"
   ]
  },
  {
   "cell_type": "code",
   "execution_count": 67,
   "id": "c0555306",
   "metadata": {},
   "outputs": [
    {
     "data": {
      "text/plain": [
       "array([ True, False, False, False, False, False])"
      ]
     },
     "execution_count": 67,
     "metadata": {},
     "output_type": "execute_result"
    }
   ],
   "source": [
    "x = np.array([1, 2, 3, 4, 5, 6])\n",
    "x < 2"
   ]
  },
  {
   "cell_type": "code",
   "execution_count": 68,
   "id": "e980faba",
   "metadata": {},
   "outputs": [
    {
     "data": {
      "text/plain": [
       "array([False, False, False,  True,  True,  True])"
      ]
     },
     "execution_count": 68,
     "metadata": {},
     "output_type": "execute_result"
    }
   ],
   "source": [
    "x > 3"
   ]
  },
  {
   "cell_type": "code",
   "execution_count": 69,
   "id": "f370d964",
   "metadata": {},
   "outputs": [
    {
     "data": {
      "text/plain": [
       "array([False, False,  True, False, False, False])"
      ]
     },
     "execution_count": 69,
     "metadata": {},
     "output_type": "execute_result"
    }
   ],
   "source": [
    "x == 3"
   ]
  },
  {
   "cell_type": "markdown",
   "id": "0c99f585",
   "metadata": {},
   "source": [
    "### Working with Boolean Arrays"
   ]
  },
  {
   "cell_type": "code",
   "execution_count": 72,
   "id": "226cac13",
   "metadata": {},
   "outputs": [
    {
     "data": {
      "text/plain": [
       "array([[2, 2, 1, 5],\n",
       "       [1, 4, 8, 5],\n",
       "       [7, 8, 6, 7]])"
      ]
     },
     "execution_count": 72,
     "metadata": {},
     "output_type": "execute_result"
    }
   ],
   "source": [
    "x = np.random.randint(0, 9, (3, 4))\n",
    "x"
   ]
  },
  {
   "cell_type": "markdown",
   "id": "41089701",
   "metadata": {},
   "source": [
    "#### Counting entries\n",
    "\n",
    "+ Đếm số phần tử thỏa mãn điều kiện (True) nên sử dụng hàm *np.count_nonzero()*"
   ]
  },
  {
   "cell_type": "code",
   "execution_count": 73,
   "id": "a92b75be",
   "metadata": {},
   "outputs": [
    {
     "data": {
      "text/plain": [
       "5"
      ]
     },
     "execution_count": 73,
     "metadata": {},
     "output_type": "execute_result"
    }
   ],
   "source": [
    "np.count_nonzero(x < 5)"
   ]
  },
  {
   "cell_type": "markdown",
   "id": "b60a957f",
   "metadata": {},
   "source": [
    "+ Một cách khác có thể sử dụng hàm np.sum()\n",
    "    - Ưu điểm: có thể sử dụng cho hàng hoặc cột"
   ]
  },
  {
   "cell_type": "code",
   "execution_count": 74,
   "id": "bfdc6667",
   "metadata": {},
   "outputs": [
    {
     "data": {
      "text/plain": [
       "array([2, 2, 2, 2])"
      ]
     },
     "execution_count": 74,
     "metadata": {},
     "output_type": "execute_result"
    }
   ],
   "source": [
    "np.sum(x < 7, axis=0)"
   ]
  },
  {
   "cell_type": "markdown",
   "id": "2b72d9ff",
   "metadata": {},
   "source": [
    "+ Ngoài ra còn có thể check:\n",
    "    - Có bất kì phẩn tử nào thỏa mãn điều kiện:\n",
    "    ```\n",
    "    np.any(condition, axis=)\n",
    "    ```\n",
    "    - Tất cả các phần tử thỏa mãn điều kiện:\n",
    "    ```\n",
    "    np.all(condition, axis)\n",
    "    ```"
   ]
  },
  {
   "cell_type": "markdown",
   "id": "1c771b76",
   "metadata": {},
   "source": [
    "### Boolean operator\n",
    "+ "
   ]
  },
  {
   "cell_type": "markdown",
   "id": "8250e7b1",
   "metadata": {},
   "source": [
    "### Boolean Arrays as Masks"
   ]
  },
  {
   "cell_type": "markdown",
   "id": "f7824373",
   "metadata": {},
   "source": [
    "# 2.7 Fancy Indexing"
   ]
  },
  {
   "cell_type": "markdown",
   "id": "35e859a7",
   "metadata": {},
   "source": [
    "### Exploring Fancy Indexing "
   ]
  },
  {
   "cell_type": "markdown",
   "id": "8b66595e",
   "metadata": {},
   "source": [
    "### Combined Indexing"
   ]
  },
  {
   "cell_type": "markdown",
   "id": "e49194f7",
   "metadata": {},
   "source": [
    "### Example: Selecting random points"
   ]
  },
  {
   "cell_type": "markdown",
   "id": "85110761",
   "metadata": {},
   "source": [
    "### Modifying values with Fancy Indexing"
   ]
  },
  {
   "cell_type": "markdown",
   "id": "91af234d",
   "metadata": {},
   "source": [
    "### Example: Binning Data"
   ]
  },
  {
   "cell_type": "markdown",
   "id": "8f911241",
   "metadata": {},
   "source": [
    "# 2.8 Sorting Arrays"
   ]
  },
  {
   "cell_type": "markdown",
   "id": "3c0a40d3",
   "metadata": {},
   "source": [
    "### Fast Sorting in Numpy: np.sort & np.argsort"
   ]
  },
  {
   "cell_type": "markdown",
   "id": "f6ad6bfa",
   "metadata": {},
   "source": [
    "### Partial Sorts: Partitioning"
   ]
  },
  {
   "cell_type": "markdown",
   "id": "6e8b96e4",
   "metadata": {},
   "source": [
    "### Example: k-Nearest Neighbors"
   ]
  },
  {
   "cell_type": "markdown",
   "id": "33766432",
   "metadata": {},
   "source": [
    "# 2.9 Structured Data: NumPy's Structured Arrays"
   ]
  },
  {
   "cell_type": "markdown",
   "id": "621e13ff",
   "metadata": {},
   "source": [
    "### Creating Structured Arrays"
   ]
  },
  {
   "cell_type": "markdown",
   "id": "e8c1b6f5",
   "metadata": {},
   "source": [
    "### More Advanced Compound Types"
   ]
  },
  {
   "cell_type": "markdown",
   "id": "0c7d5c7e",
   "metadata": {},
   "source": [
    "### Record Arrays: Structured Arrays with a Twist"
   ]
  },
  {
   "cell_type": "code",
   "execution_count": null,
   "id": "4d77a999",
   "metadata": {},
   "outputs": [],
   "source": []
  }
 ],
 "metadata": {
  "kernelspec": {
   "display_name": "Python 3",
   "language": "python",
   "name": "python3"
  },
  "language_info": {
   "codemirror_mode": {
    "name": "ipython",
    "version": 3
   },
   "file_extension": ".py",
   "mimetype": "text/x-python",
   "name": "python",
   "nbconvert_exporter": "python",
   "pygments_lexer": "ipython3",
   "version": "3.8.8"
  }
 },
 "nbformat": 4,
 "nbformat_minor": 5
}
