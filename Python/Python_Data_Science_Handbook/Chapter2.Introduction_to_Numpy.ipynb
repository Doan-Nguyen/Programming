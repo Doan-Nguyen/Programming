{
 "cells": [
  {
   "cell_type": "markdown",
   "id": "b5cf0f6d",
   "metadata": {},
   "source": [
    "# Content\n",
    "\n",
    "\n",
    "# [2.1 Understanding Data Types in Python](#2.1-Understanding-Data-Types-in-Python)\n",
    "\n",
    "# [2.2 The Basics of Numpy Arrays](2.2-The-Basics-of-Numpy-Arrays)\n",
    "\n",
    "# [2.3 Computation on Numpy Arrays: Unversal Functions](2.3-Computation-on-Numpy-Arrays:-Unversal-Functions)\n"
   ]
  },
  {
   "cell_type": "markdown",
   "id": "f4c725c9",
   "metadata": {},
   "source": [
    "# 2.1 Understanding Data Types in Python"
   ]
  },
  {
   "cell_type": "markdown",
   "id": "4e6c29b3",
   "metadata": {},
   "source": [
    "## A python integer is more than just an Integer"
   ]
  },
  {
   "cell_type": "markdown",
   "id": "55493682",
   "metadata": {},
   "source": [
    "+ Mọi object trong python được viết lại (cải trang) bởi cấu trúc C bao gồm giá trị & các thông tin khác.\n",
    "    - Ex: x=10 ~ bản chất là 1 con trỏ tới 1 khối (hợp chất) cấu trúc C.\n",
    "    ```\n",
    "    struct _longobject{\n",
    "        long ob_refcnt; # a reference count (số tham chiếu), giúp Python handle sự phân bố trong memory.\n",
    "        PyTypeObject *ob_type; # mã hóa kiểu dữ liệu của biến.\n",
    "        size_t ob_size; specifies (chỉ định) kích thước của đối tượng dữ liệu \n",
    "        long ob_digit[1]; # bao gồm giá trị thực của integer.\n",
    "    }\n",
    "    ```\n",
    "    \n",
    "    - Minh họa lưu trữ biến integer trong C & Python\n",
    "    ![Sư khác nhau C & Python integers](./figures/difference_c_python_integer.PNG)\n",
    "    \n",
    "        - Với C, số int là 1 nhãn cho 1 vị trí trong bộ nhớ của các bytes mã hóa 1 giá trị int.\n",
    "        - Với Python, số int là 1 con trỏ tới 1 vị trí trong bộ nhớ chứa toàn bộ thông tin của object bao gồm các bytes chứa giá trị int."
   ]
  },
  {
   "cell_type": "markdown",
   "id": "6853f8d2",
   "metadata": {},
   "source": [
    "## A Python List is more than just a list"
   ]
  },
  {
   "cell_type": "markdown",
   "id": "24de5694",
   "metadata": {},
   "source": [
    "+ List: định dạng có thể thay đổi nhiều thành phần"
   ]
  },
  {
   "cell_type": "code",
   "execution_count": 1,
   "id": "92482d5c",
   "metadata": {},
   "outputs": [
    {
     "data": {
      "text/plain": [
       "[0, 1, 2, 3, 4, 5, 6, 7, 8, 9]"
      ]
     },
     "execution_count": 1,
     "metadata": {},
     "output_type": "execute_result"
    }
   ],
   "source": [
    "list_1 = list(range(10))\n",
    "list_1"
   ]
  },
  {
   "cell_type": "code",
   "execution_count": 3,
   "id": "35d418c7",
   "metadata": {},
   "outputs": [
    {
     "name": "stdout",
     "output_type": "stream",
     "text": [
      "Type of list_1:  <class 'list'>\n",
      "Type of element in list_1:  <class 'int'>\n"
     ]
    }
   ],
   "source": [
    "print(\"Type of list_1: \", type(list_1))\n",
    "print(\"Type of element in list_1: \", type(list_1[0]))"
   ]
  },
  {
   "cell_type": "markdown",
   "id": "954a7789",
   "metadata": {},
   "source": [
    "+ Có thể tạo list không đồng nhất (heterogeneous) kiểu dữ liệu:"
   ]
  },
  {
   "cell_type": "code",
   "execution_count": 4,
   "id": "db421184",
   "metadata": {},
   "outputs": [],
   "source": [
    "list_2 = [True, 1, \"All\"]"
   ]
  },
  {
   "cell_type": "markdown",
   "id": "03f6c247",
   "metadata": {},
   "source": [
    "+ Python object: bao gồm \n",
    "    - Thông tin kiểu dữ liệu \n",
    "    - Reference count (số tham chiếu)\n",
    "    - Các thông tin khác (kích thước được chỉ định cho object, the actual object value)"
   ]
  },
  {
   "cell_type": "markdown",
   "id": "99e19485",
   "metadata": {},
   "source": [
    "+ Notes: \n",
    "    - list có khả năng linh động kiểu dữ liệu có thể dẫn đến dư thừa tài nguyên. \n",
    "    - list chứa 1 con trỏ chỉ tới 1 khối các con trỏ. Mỗi một con trỏ lại chỉ đến 1 đối tượng đầy đủ. \n",
    "    - Ưu điểm list là tính linh động nhưng cần cân nhắc việc cố định kiểu (dữ liệu) trong việc xử lý & lưu trữ dữ liệu.\n",
    "    \n",
    "+ Sự khác nhau giữa C & Python list\n",
    "![difference_c_python_list](./figures/difference_c_python_list.PNG)"
   ]
  },
  {
   "cell_type": "markdown",
   "id": "100e1c50",
   "metadata": {},
   "source": [
    "## Fixed-type Arrays in Python\n",
    "\n",
    "+ Python có 1 vài lựa chọn cho việc lưu trữ dữ liệu hiêu quả, cố định kiểu dữ liệu bộ đệm.\n"
   ]
  },
  {
   "cell_type": "code",
   "execution_count": 5,
   "id": "0729b1fb",
   "metadata": {},
   "outputs": [],
   "source": [
    "import array"
   ]
  },
  {
   "cell_type": "code",
   "execution_count": 7,
   "id": "12219d66",
   "metadata": {},
   "outputs": [
    {
     "data": {
      "text/plain": [
       "array('i', [0, 1, 2, 3, 4])"
      ]
     },
     "execution_count": 7,
     "metadata": {},
     "output_type": "execute_result"
    }
   ],
   "source": [
    "# Tạo 1 array đồng dạng\n",
    "list_3 = list(range(5))\n",
    "a = array.array('i', list_3)\n",
    "#\n",
    "a"
   ]
  },
  {
   "cell_type": "code",
   "execution_count": 8,
   "id": "1e8f6a39",
   "metadata": {},
   "outputs": [],
   "source": [
    "import numpy as np"
   ]
  },
  {
   "cell_type": "markdown",
   "id": "2eb09640",
   "metadata": {},
   "source": [
    "## Creating Arrays from Python Lists\n",
    "\n",
    "+ **Notes**: Numpy có hạn chế là các thành phần trong 1 array phải cùng kiểu dữ liệu."
   ]
  },
  {
   "cell_type": "code",
   "execution_count": 9,
   "id": "26c28152",
   "metadata": {},
   "outputs": [
    {
     "data": {
      "text/plain": [
       "array([1, 2, 3, 4])"
      ]
     },
     "execution_count": 9,
     "metadata": {},
     "output_type": "execute_result"
    }
   ],
   "source": [
    "# int array\n",
    "i_arr = np.array([1, 2, 3, 4])\n",
    "i_arr"
   ]
  },
  {
   "cell_type": "code",
   "execution_count": 12,
   "id": "5994e948",
   "metadata": {},
   "outputs": [
    {
     "name": "stdout",
     "output_type": "stream",
     "text": [
      "<class 'numpy.float64'>\n",
      "<class 'numpy.float64'>\n",
      "<class 'numpy.float64'>\n",
      "<class 'numpy.float64'>\n"
     ]
    },
    {
     "data": {
      "text/plain": [
       "array([3.14, 1.  , 2.  , 3.  ])"
      ]
     },
     "execution_count": 12,
     "metadata": {},
     "output_type": "execute_result"
    }
   ],
   "source": [
    "i_f_arr = np.array([3.14, 1, 2, 3])\n",
    "for element in i_f_arr:\n",
    "    print(type(element))\n",
    "#\n",
    "i_f_arr"
   ]
  },
  {
   "cell_type": "markdown",
   "id": "18283288",
   "metadata": {},
   "source": [
    "+ Sử dụng *dtype* để config kiểu dữ liệu cho array."
   ]
  },
  {
   "cell_type": "code",
   "execution_count": 16,
   "id": "2ab06f4e",
   "metadata": {},
   "outputs": [
    {
     "data": {
      "text/plain": [
       "array([1., 2., 3., 4.], dtype=float32)"
      ]
     },
     "execution_count": 16,
     "metadata": {},
     "output_type": "execute_result"
    }
   ],
   "source": [
    "f_32_arr = np.array([1, 2, 3, 4], dtype='float32')\n",
    "f_32_arr"
   ]
  },
  {
   "cell_type": "markdown",
   "id": "277ef4a7",
   "metadata": {},
   "source": [
    "+ Numpy array có thể tạo nhiều chiều"
   ]
  },
  {
   "cell_type": "code",
   "execution_count": 19,
   "id": "3e89ce7d",
   "metadata": {},
   "outputs": [
    {
     "data": {
      "text/plain": [
       "array([[1, 2, 3],\n",
       "       [2, 3, 4],\n",
       "       [3, 4, 5]])"
      ]
     },
     "execution_count": 19,
     "metadata": {},
     "output_type": "execute_result"
    }
   ],
   "source": [
    "numb_dimen = 3\n",
    "m_d_arr = np.array([range(i, i + numb_dimen) for i in [1, 2, 3]])\n",
    "#\n",
    "m_d_arr"
   ]
  },
  {
   "cell_type": "markdown",
   "id": "6c09f306",
   "metadata": {},
   "source": [
    "## Create Arrays from Scratch\n"
   ]
  },
  {
   "cell_type": "code",
   "execution_count": 21,
   "id": "5413ab02",
   "metadata": {},
   "outputs": [
    {
     "data": {
      "text/plain": [
       "array([0, 0, 0, 0, 0, 0, 0, 0, 0, 0])"
      ]
     },
     "execution_count": 21,
     "metadata": {},
     "output_type": "execute_result"
    }
   ],
   "source": [
    "num_element = 10\n",
    "zero_arr = np.zeros(num_element, dtype=int)\n",
    "#\n",
    "zero_arr"
   ]
  },
  {
   "cell_type": "code",
   "execution_count": 22,
   "id": "80e8f86e",
   "metadata": {},
   "outputs": [
    {
     "data": {
      "text/plain": [
       "array([[1., 1., 1., 1., 1.],\n",
       "       [1., 1., 1., 1., 1.],\n",
       "       [1., 1., 1., 1., 1.]])"
      ]
     },
     "execution_count": 22,
     "metadata": {},
     "output_type": "execute_result"
    }
   ],
   "source": [
    "shape_size = (3, 5)\n",
    "one_arr = np.ones(shape=shape_size,\n",
    "                  dtype=float)\n",
    "one_arr"
   ]
  },
  {
   "cell_type": "code",
   "execution_count": 23,
   "id": "7e733199",
   "metadata": {},
   "outputs": [
    {
     "data": {
      "text/plain": [
       "array([[3.14, 3.14, 3.14],\n",
       "       [3.14, 3.14, 3.14]])"
      ]
     },
     "execution_count": 23,
     "metadata": {},
     "output_type": "execute_result"
    }
   ],
   "source": [
    "shape_size_full = (2, 3)\n",
    "full_arr = np.full(shape=shape_size_full, \n",
    "                  fill_value=3.14)\n",
    "full_arr"
   ]
  },
  {
   "cell_type": "markdown",
   "id": "672e1d81",
   "metadata": {},
   "source": [
    "+ np.arrange(start, end, step)  # theo thu tu\n",
    "+ np.linspace(start, end, number_elements) # cach deu"
   ]
  },
  {
   "cell_type": "code",
   "execution_count": 29,
   "id": "f933160c",
   "metadata": {},
   "outputs": [
    {
     "data": {
      "text/plain": [
       "array([1, 2, 3, 4, 5, 6, 7, 8, 9])"
      ]
     },
     "execution_count": 29,
     "metadata": {},
     "output_type": "execute_result"
    }
   ],
   "source": [
    "arange_arr = np.arange(1, 10, 1)\n",
    "arange_arr"
   ]
  },
  {
   "cell_type": "code",
   "execution_count": 30,
   "id": "56e7a4e3",
   "metadata": {},
   "outputs": [
    {
     "data": {
      "text/plain": [
       "array([0.        , 0.22222222, 0.44444444, 0.66666667, 0.88888889,\n",
       "       1.11111111, 1.33333333, 1.55555556, 1.77777778, 2.        ])"
      ]
     },
     "execution_count": 30,
     "metadata": {},
     "output_type": "execute_result"
    }
   ],
   "source": [
    "linspace_arr = np.linspace(0, 2, 10)\n",
    "linspace_arr"
   ]
  },
  {
   "cell_type": "markdown",
   "id": "020e59b7",
   "metadata": {},
   "source": [
    "+ Tao ngau nhien ma tran phan bo đồng nhất (uniformly)\n",
    "```\n",
    "np.random.random((shape))\n",
    "```"
   ]
  },
  {
   "cell_type": "code",
   "execution_count": 33,
   "id": "458dd8f6",
   "metadata": {},
   "outputs": [
    {
     "data": {
      "text/plain": [
       "array([[0.45978783, 0.90918836, 0.5436754 , 0.25812603, 0.54483946],\n",
       "       [0.54702174, 0.35936847, 0.21008134, 0.9698777 , 0.73351898],\n",
       "       [0.82201812, 0.64897638, 0.70389485, 0.03169595, 0.77163756]])"
      ]
     },
     "execution_count": 33,
     "metadata": {},
     "output_type": "execute_result"
    }
   ],
   "source": [
    "uniform_arr = np.random.random(shape_size)\n",
    "uniform_arr"
   ]
  },
  {
   "cell_type": "markdown",
   "id": "bce9a4a6",
   "metadata": {},
   "source": [
    "+ Tao ngau nhien ma tran, gia tri trong khoang [a, b] voi kich thuoc (m, n)\n",
    "```\n",
    "np.random.randint(a, b, (m, n))\n",
    "```"
   ]
  },
  {
   "cell_type": "code",
   "execution_count": 34,
   "id": "c0b66ffc",
   "metadata": {},
   "outputs": [
    {
     "data": {
      "text/plain": [
       "array([[5, 9, 7, 6, 4],\n",
       "       [6, 7, 1, 9, 4],\n",
       "       [3, 1, 9, 9, 9],\n",
       "       [5, 4, 2, 8, 5]])"
      ]
     },
     "execution_count": 34,
     "metadata": {},
     "output_type": "execute_result"
    }
   ],
   "source": [
    "rand_arr = np.random.randint(1, 10, (4, 5))\n",
    "rand_arr"
   ]
  },
  {
   "cell_type": "markdown",
   "id": "12624f84",
   "metadata": {},
   "source": [
    "## Numpy Standard Data Types"
   ]
  },
  {
   "cell_type": "markdown",
   "id": "0ad7f990",
   "metadata": {},
   "source": [
    "# 2.2 The Basics of Numpy Arrays"
   ]
  },
  {
   "cell_type": "markdown",
   "id": "d32dd977",
   "metadata": {},
   "source": [
    "# 2.3 Computation on Numpy Arrays: Unversal Functions"
   ]
  },
  {
   "cell_type": "markdown",
   "id": "6f41bbc1",
   "metadata": {},
   "source": [
    "# 2.4 Aggregation: Min, Max & Everything in Between"
   ]
  },
  {
   "cell_type": "markdown",
   "id": "5fdbb14f",
   "metadata": {},
   "source": [
    "# 2.5 Computation on Arrays: Broadcasting"
   ]
  },
  {
   "cell_type": "markdown",
   "id": "cc530cca",
   "metadata": {},
   "source": [
    "# 2.6 Comparisons, Masks & Boolean Logic"
   ]
  },
  {
   "cell_type": "markdown",
   "id": "9611710e",
   "metadata": {},
   "source": [
    "# 2.7 Fancy Indexing"
   ]
  },
  {
   "cell_type": "markdown",
   "id": "741bc248",
   "metadata": {},
   "source": [
    "# 2.8 Sorting Arrays"
   ]
  },
  {
   "cell_type": "markdown",
   "id": "2d556d84",
   "metadata": {},
   "source": [
    "# 2.9 Structured Data: NumPy's Structured Arrays"
   ]
  }
 ],
 "metadata": {
  "kernelspec": {
   "display_name": "Python 3",
   "language": "python",
   "name": "python3"
  },
  "language_info": {
   "codemirror_mode": {
    "name": "ipython",
    "version": 3
   },
   "file_extension": ".py",
   "mimetype": "text/x-python",
   "name": "python",
   "nbconvert_exporter": "python",
   "pygments_lexer": "ipython3",
   "version": "3.8.8"
  }
 },
 "nbformat": 4,
 "nbformat_minor": 5
}
